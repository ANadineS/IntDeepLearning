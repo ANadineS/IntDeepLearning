{
  "metadata": {
    "accelerator": "GPU",
    "colab": {
      "collapsed_sections": [
        "FZ7Xx__nJmj7"
      ],
      "provenance": [],
      "gpuType": "T4",
      "include_colab_link": true
    },
    "kaggle": {
      "accelerator": "none",
      "dataSources": [],
      "dockerImageVersionId": 30579,
      "isGpuEnabled": false,
      "isInternetEnabled": true,
      "language": "python",
      "sourceType": "notebook"
    },
    "kernelspec": {
      "display_name": "Python 3",
      "name": "python3"
    },
    "language_info": {
      "name": "python",
      "version": "3.10.12",
      "mimetype": "text/x-python",
      "codemirror_mode": {
        "name": "ipython",
        "version": 3
      },
      "pygments_lexer": "ipython3",
      "nbconvert_exporter": "python",
      "file_extension": ".py"
    }
  },
  "nbformat_minor": 0,
  "nbformat": 4,
  "cells": [
    {
      "cell_type": "markdown",
      "metadata": {
        "id": "view-in-github",
        "colab_type": "text"
      },
      "source": [
        "<a href=\"https://colab.research.google.com/github/ANadineS/IntDeepLearning/blob/main/Final_A2_baseline_needs_tuning.ipynb\" target=\"_parent\"><img src=\"https://colab.research.google.com/assets/colab-badge.svg\" alt=\"Open In Colab\"/></a>"
      ]
    },
    {
      "cell_type": "markdown",
      "source": [
        "<div style=\"text-align: right\">   </div>\n",
        "\n",
        "\n",
        "Introduction to Deep Learning (2023) &nbsp; &nbsp; &nbsp; &nbsp; &nbsp; &nbsp; &nbsp; &nbsp; &nbsp; &nbsp; &nbsp; &nbsp; &nbsp; &nbsp; &nbsp;&nbsp; &nbsp; &nbsp; &nbsp; &nbsp; &nbsp; &nbsp; &nbsp; &nbsp; &nbsp; &nbsp; &nbsp; &nbsp; &nbsp; &nbsp; &nbsp; &nbsp; &nbsp; &nbsp; &nbsp; &nbsp;&nbsp; &nbsp; &nbsp; &nbsp; &nbsp; &nbsp;&nbsp; &nbsp; &nbsp; &nbsp; &nbsp; &nbsp; &nbsp; &nbsp; &nbsp; &nbsp; &nbsp; &nbsp; &nbsp; &nbsp; &nbsp;&nbsp; &nbsp; &nbsp; &nbsp; &nbsp; &nbsp;| &nbsp;\n",
        "-------|-------------------\n",
        "**Assignment 2 - Recurrent Neural Networks** | <img src=\"https://upload.wikimedia.org/wikipedia/commons/thumb/b/b0/UniversiteitLeidenLogo.svg/1280px-UniversiteitLeidenLogo.svg.png\" width=\"300\">\n",
        "\n",
        "\n",
        "\n",
        "# Introduction\n",
        "\n",
        "\n",
        "The goal of this assignment is to learn how to use encoder-decoder recurrent neural networks (RNNs). Specifically we will be dealing with a sequence to sequence problem and try to build recurrent models that can learn the principles behind simple arithmetic operations (**integer addition, subtraction and multiplication.**).\n",
        "\n",
        "<img src=\"https://i.ibb.co/5Ky5pbk/Screenshot-2023-11-10-at-07-51-21.png\" alt=\"Screenshot-2023-11-10-at-07-51-21\" border=\"0\" width=\"500\"></a>\n",
        "\n",
        "In this assignment you will be working with three different kinds of models, based on input/output data modalities:\n",
        "1. **Text-to-text**: given a text query containing two integers and an operand between them (+ or -) the model's output should be a sequence of integers that match the actual arithmetic result of this operation\n",
        "2. **Image-to-text**: same as above, except the query is specified as a sequence of images containing individual digits and an operand.\n",
        "3. **Text-to-image**: the query is specified in text format as in the text-to-text model, however the model's output should be a sequence of images corresponding to the correct result.\n",
        "\n",
        "\n",
        "### Description**\n",
        "Let us suppose that we want to develop a neural network that learns how to add or subtract\n",
        "two integers that are at most two digits long. For example, given input strings of 5 characters: ‘81+24’ or\n",
        "’41-89’ that consist of 2 two-digit long integers and an operand between them, the network should return a\n",
        "sequence of 3 characters: ‘105 ’ or ’-48 ’ that represent the result of their respective queries. Additionally,\n",
        "we want to build a model that generalizes well - if the network can extract the underlying principles behind\n",
        "the ’+’ and ’-’ operands and associated operations, it should not need too many training examples to generate\n",
        "valid answers to unseen queries. To represent such queries we need 13 unique characters: 10 for digits (0-9),\n",
        "2 for the ’+’ and ’-’ operands and one for whitespaces ’ ’ used as padding.\n",
        "The example above describes a text-to-text sequence mapping scenario. However, we can also use different\n",
        "modalities of data to represent our queries or answers. For that purpose, the MNIST handwritten digit\n",
        "dataset is going to be used again, however in a slightly different format. The functions below will be used to create our datasets.\n",
        "\n",
        "---\n",
        "\n",
        "*To work on this notebook you should create a copy of it.*\n"
      ],
      "metadata": {
        "id": "FZ7Xx__nJmj7"
      }
    },
    {
      "cell_type": "markdown",
      "source": [
        "# Function definitions for creating the datasets\n",
        "\n",
        "First we need to create our datasets that are going to be used for training our models.\n",
        "\n",
        "In order to create image queries of simple arithmetic operations such as '15+13' or '42-10' we need to create images of '+' and '-' signs using ***open-cv*** library. We will use these operand signs together with the MNIST dataset to represent the digits."
      ],
      "metadata": {
        "id": "sP__1utGJmj_"
      }
    },
    {
      "cell_type": "code",
      "source": [
        "import tensorflow as tf\n",
        "import matplotlib.pyplot as plt\n",
        "import cv2\n",
        "import numpy as np\n",
        "import tensorflow as tf\n",
        "import random\n",
        "from sklearn.model_selection import train_test_split\n",
        "\n",
        "from tensorflow.keras import Sequential\n",
        "from tensorflow.keras.layers import Dense, RNN, LSTM, Flatten, TimeDistributed, LSTMCell, Dropout\n",
        "from tensorflow.keras.layers import RepeatVector, Conv2D, SimpleRNN, GRU, Reshape, ConvLSTM2D, Conv2DTranspose"
      ],
      "metadata": {
        "id": "w3nzYbXOJmj8",
        "execution": {
          "iopub.status.busy": "2023-11-18T12:34:45.681878Z",
          "iopub.execute_input": "2023-11-18T12:34:45.682627Z",
          "iopub.status.idle": "2023-11-18T12:34:45.688120Z",
          "shell.execute_reply.started": "2023-11-18T12:34:45.682597Z",
          "shell.execute_reply": "2023-11-18T12:34:45.687224Z"
        },
        "trusted": true
      },
      "execution_count": 1,
      "outputs": []
    },
    {
      "cell_type": "code",
      "source": [
        "from scipy.ndimage import rotate\n",
        "# Create plus/minus operand signs\n",
        "def generate_images(number_of_images=50, sign='-'):\n",
        "\n",
        "    blank_images = np.zeros([number_of_images, 28, 28])  # Dimensionality matches the size of MNIST images (28x28)\n",
        "    x = np.random.randint(12, 16, (number_of_images, 2)) # Randomized x coordinates\n",
        "    y1 = np.random.randint(6, 10, number_of_images)       # Randomized y coordinates\n",
        "    y2 = np.random.randint(18, 22, number_of_images)     # -||-\n",
        "\n",
        "    for i in range(number_of_images): # Generate n different images\n",
        "        cv2.line(blank_images[i], (y1[i], x[i,0]), (y2[i], x[i, 1]), (255,0,0), 2, cv2.LINE_AA)     # Draw lines with randomized coordinates\n",
        "        if sign == '+':\n",
        "            cv2.line(blank_images[i], (x[i,0], y1[i]), (x[i, 1], y2[i]), (255,0,0), 2, cv2.LINE_AA) # Draw lines with randomized coordinates\n",
        "        if sign == '*':\n",
        "            cv2.line(blank_images[i], (x[i,0], y1[i]), (x[i, 1], y2[i]), (255,0,0), 2, cv2.LINE_AA)\n",
        "            # Rotate 45 degrees\n",
        "            blank_images[i] = rotate(blank_images[i], -50, reshape=False)\n",
        "            cv2.line(blank_images[i], (x[i,0], y1[i]), (x[i, 1], y2[i]), (255,0,0), 2, cv2.LINE_AA)\n",
        "            blank_images[i] = rotate(blank_images[i], -50, reshape=False)\n",
        "            cv2.line(blank_images[i], (x[i,0], y1[i]), (x[i, 1], y2[i]), (255,0,0), 2, cv2.LINE_AA)\n",
        "\n",
        "    return blank_images\n",
        "\n",
        "def show_generated(images, n=5):\n",
        "    plt.figure(figsize=(2, 2))\n",
        "    for i in range(n**2):\n",
        "        plt.subplot(n, n, i+1)\n",
        "        plt.axis('off')\n",
        "        plt.imshow(images[i])\n",
        "    plt.show()\n",
        "\n",
        "show_generated(generate_images())\n",
        "show_generated(generate_images(sign='*'))"
      ],
      "metadata": {
        "id": "Z7RGPMxLJmkA",
        "outputId": "f561b146-5f7b-46d8-d1f1-8e38e05b322c",
        "execution": {
          "iopub.status.busy": "2023-11-18T12:23:58.647798Z",
          "iopub.execute_input": "2023-11-18T12:23:58.648462Z",
          "iopub.status.idle": "2023-11-18T12:24:00.171354Z",
          "shell.execute_reply.started": "2023-11-18T12:23:58.648430Z",
          "shell.execute_reply": "2023-11-18T12:24:00.170376Z"
        },
        "trusted": true,
        "colab": {
          "base_uri": "https://localhost:8080/",
          "height": 365
        }
      },
      "execution_count": 2,
      "outputs": [
        {
          "output_type": "display_data",
          "data": {
            "text/plain": [
              "<Figure size 200x200 with 25 Axes>"
            ],
            "image/png": "[encoded data removed]"
          },
          "metadata": {}
        },
        {
          "output_type": "display_data",
          "data": {
            "text/plain": [
              "<Figure size 200x200 with 25 Axes>"
            ],
            "image/png": "[encoded data removed]"
          },
          "metadata": {}
        }
      ]
    },
    {
      "cell_type": "code",
      "source": [
        "def create_data(highest_integer, num_addends=2, operands=['+', '-']):\n",
        "    \"\"\"\n",
        "    Creates the following data for all pairs of integers up to [1:highest integer][+/-][1:highest_integer]:\n",
        "\n",
        "    @return:\n",
        "    X_text: '51+21' -> text query of an arithmetic operation (5)\n",
        "    X_img : Stack of MNIST images corresponding to the query (5 x 28 x 28) -> sequence of 5 images of size 28x28\n",
        "    y_text: '72' -> answer of the arithmetic text query\n",
        "    y_img :  Stack of MNIST images corresponding to the answer (3 x 28 x 28)\n",
        "\n",
        "    Images for digits are picked randomly from the whole MNIST dataset.\n",
        "    \"\"\"\n",
        "\n",
        "    num_indices = [np.where(MNIST_labels==x) for x in range(10)]\n",
        "    num_data = [MNIST_data[inds] for inds in num_indices]\n",
        "    image_mapping = dict(zip(unique_characters[:10], num_data))\n",
        "    image_mapping['-'] = generate_images()\n",
        "    image_mapping['+'] = generate_images(sign='+')\n",
        "    image_mapping['*'] = generate_images(sign='*')\n",
        "    image_mapping[' '] = np.zeros([1, 28, 28])\n",
        "\n",
        "    X_text, X_img, y_text, y_img = [], [], [], []\n",
        "\n",
        "    for i in range(highest_integer + 1):      # First addend\n",
        "        for j in range(highest_integer + 1):  # Second addend\n",
        "            for sign in operands: # Create all possible combinations of operands\n",
        "                query_string = to_padded_chars(str(i) + sign + str(j), max_len=max_query_length, pad_right=True)\n",
        "                query_image = []\n",
        "                for n, char in enumerate(query_string):\n",
        "                    image_set = image_mapping[char]\n",
        "                    index = np.random.randint(0, len(image_set), 1)\n",
        "                    query_image.append(image_set[index].squeeze())\n",
        "\n",
        "                result = eval(query_string)\n",
        "                result_string = to_padded_chars(result, max_len=max_answer_length, pad_right=True)\n",
        "                result_image = []\n",
        "                for n, char in enumerate(result_string):\n",
        "                    image_set = image_mapping[char]\n",
        "                    index = np.random.randint(0, len(image_set), 1)\n",
        "                    result_image.append(image_set[index].squeeze())\n",
        "\n",
        "                X_text.append(query_string)\n",
        "                X_img.append(np.stack(query_image))\n",
        "                y_text.append(result_string)\n",
        "                y_img.append(np.stack(result_image))\n",
        "\n",
        "    return np.stack(X_text), np.stack(X_img)/255., np.stack(y_text), np.stack(y_img)/255.\n",
        "\n",
        "def to_padded_chars(integer, max_len=3, pad_right=False):\n",
        "    \"\"\"\n",
        "    Returns a string of len()=max_len, containing the integer padded with ' ' on either right or left side\n",
        "    \"\"\"\n",
        "    length = len(str(integer))\n",
        "    padding = (max_len - length) * ' '\n",
        "    if pad_right:\n",
        "        return str(integer) + padding\n",
        "    else:\n",
        "        return padding + str(integer)\n"
      ],
      "metadata": {
        "id": "Lx-Pt6ypJmkD",
        "execution": {
          "iopub.status.busy": "2023-11-18T12:24:03.933558Z",
          "iopub.execute_input": "2023-11-18T12:24:03.933944Z",
          "iopub.status.idle": "2023-11-18T12:24:03.949801Z",
          "shell.execute_reply.started": "2023-11-18T12:24:03.933911Z",
          "shell.execute_reply": "2023-11-18T12:24:03.948622Z"
        },
        "trusted": true
      },
      "execution_count": 3,
      "outputs": []
    },
    {
      "cell_type": "markdown",
      "source": [
        "# Creating our data\n",
        "\n",
        "The dataset consists of 20000 samples that (additions and subtractions between all 2-digit integers) and they have two kinds of inputs and label modalities:\n",
        "\n",
        "  **X_text**: strings containing queries of length 5: ['  1+1  ', '11-18', ...]\n",
        "\n",
        "  **X_image**: a stack of images representing a single query, dimensions: [5, 28, 28]\n",
        "\n",
        "  **y_text**: strings containing answers of length 3: ['  2', '156']\n",
        "\n",
        "  **y_image**: a stack of images that represents the answer to a query, dimensions: [3, 28, 28]"
      ],
      "metadata": {
        "id": "bTMHYBf4baih"
      }
    },
    {
      "cell_type": "code",
      "source": [
        "# Illustrate the generated query/answer pairs\n",
        "\n",
        "unique_characters = '0123456789+- '       # All unique characters that are used in the queries (13 in total: digits 0-9, 2 operands [+, -], and a space character ' '.)\n",
        "highest_integer = 99                      # Highest value of integers contained in the queries\n",
        "\n",
        "max_int_length = len(str(highest_integer))# Maximum number of characters in an integer\n",
        "max_query_length = max_int_length * 2 + 1 # Maximum length of the query string (consists of two integers and an operand [e.g. '22+10'])\n",
        "max_answer_length = 3    # Maximum length of the answer string (the longest resulting query string is ' 1-99'='-98')\n",
        "\n",
        "# Create the data (might take around a minute)\n",
        "(MNIST_data, MNIST_labels), _ = tf.keras.datasets.mnist.load_data()\n",
        "X_text, X_img, y_text, y_img = create_data(highest_integer)\n",
        "print(X_text.shape, X_img.shape, y_text.shape, y_img.shape)\n",
        "\n",
        "\n",
        "## Display the samples that were created\n",
        "def display_sample(n):\n",
        "    labels = ['X_img:', 'y_img:']\n",
        "    for i, data in enumerate([X_img, y_img]):\n",
        "        plt.subplot(1,2,i+1)\n",
        "        # plt.set_figheight(15)\n",
        "        plt.axis('off')\n",
        "        plt.title(labels[i])\n",
        "        plt.imshow(np.hstack(data[n]), cmap='gray')\n",
        "    print('='*50, f'\\nQuery #{n}\\n\\nX_text: \"{X_text[n]}\" = y_text: \"{y_text[n]}\"')\n",
        "    plt.show()\n",
        "\n",
        "for _ in range(10):\n",
        "    display_sample(np.random.randint(0, 10000, 1)[0])"
      ],
      "metadata": {
        "id": "y0N1vtdLJmkG",
        "outputId": "657040bd-5764-43f4-e428-bd5d3b1aea66",
        "execution": {
          "iopub.status.busy": "2023-11-18T12:24:10.296773Z",
          "iopub.execute_input": "2023-11-18T12:24:10.297152Z",
          "iopub.status.idle": "2023-11-18T12:24:18.052288Z",
          "shell.execute_reply.started": "2023-11-18T12:24:10.297121Z",
          "shell.execute_reply": "2023-11-18T12:24:18.051400Z"
        },
        "trusted": true,
        "colab": {
          "base_uri": "https://localhost:8080/",
          "height": 1000
        }
      },
      "execution_count": 4,
      "outputs": [
        {
          "output_type": "stream",
          "name": "stdout",
          "text": [
            "Downloading data from https://storage.googleapis.com/tensorflow/tf-keras-datasets/mnist.npz\n",
            "11490434/11490434 [==============================] - 0s 0us/step\n",
            "(20000,) (20000, 5, 28, 28) (20000,) (20000, 3, 28, 28)\n",
            "================================================== \n",
            "Query #3410\n",
            "\n",
            "X_text: \"17+5 \" = y_text: \"22 \"\n"
          ]
        },
        {
          "output_type": "display_data",
          "data": {
            "text/plain": [
              "<Figure size 640x480 with 2 Axes>"
            ],
            "image/png": "[encoded data removed]"
          },
          "metadata": {}
        },
        {
          "output_type": "stream",
          "name": "stdout",
          "text": [
            "================================================== \n",
            "Query #8298\n",
            "\n",
            "X_text: \"41+49\" = y_text: \"90 \"\n"
          ]
        },
        {
          "output_type": "display_data",
          "data": {
            "text/plain": [
              "<Figure size 640x480 with 2 Axes>"
            ],
            "image/png": "[encoded data removed]"
          },
          "metadata": {}
        },
        {
          "output_type": "stream",
          "name": "stdout",
          "text": [
            "================================================== \n",
            "Query #9093\n",
            "\n",
            "X_text: \"45-46\" = y_text: \"-1 \"\n"
          ]
        },
        {
          "output_type": "display_data",
          "data": {
            "text/plain": [
              "<Figure size 640x480 with 2 Axes>"
            ],
            "image/png": "[encoded data removed]"
          },
          "metadata": {}
        },
        {
          "output_type": "stream",
          "name": "stdout",
          "text": [
            "================================================== \n",
            "Query #1575\n",
            "\n",
            "X_text: \"7-87 \" = y_text: \"-80\"\n"
          ]
        },
        {
          "output_type": "display_data",
          "data": {
            "text/plain": [
              "<Figure size 640x480 with 2 Axes>"
            ],
            "image/png": "[encoded data removed]"
          },
          "metadata": {}
        },
        {
          "output_type": "stream",
          "name": "stdout",
          "text": [
            "================================================== \n",
            "Query #7854\n",
            "\n",
            "X_text: \"39+27\" = y_text: \"66 \"\n"
          ]
        },
        {
          "output_type": "display_data",
          "data": {
            "text/plain": [
              "<Figure size 640x480 with 2 Axes>"
            ],
            "image/png": "[encoded data removed]"
          },
          "metadata": {}
        },
        {
          "output_type": "stream",
          "name": "stdout",
          "text": [
            "================================================== \n",
            "Query #8007\n",
            "\n",
            "X_text: \"40-3 \" = y_text: \"37 \"\n"
          ]
        },
        {
          "output_type": "display_data",
          "data": {
            "text/plain": [
              "<Figure size 640x480 with 2 Axes>"
            ],
            "image/png": "[encoded data removed]"
          },
          "metadata": {}
        },
        {
          "output_type": "stream",
          "name": "stdout",
          "text": [
            "================================================== \n",
            "Query #8191\n",
            "\n",
            "X_text: \"40-95\" = y_text: \"-55\"\n"
          ]
        },
        {
          "output_type": "display_data",
          "data": {
            "text/plain": [
              "<Figure size 640x480 with 2 Axes>"
            ],
            "image/png": "[encoded data removed]"
          },
          "metadata": {}
        },
        {
          "output_type": "stream",
          "name": "stdout",
          "text": [
            "================================================== \n",
            "Query #4885\n",
            "\n",
            "X_text: \"24-42\" = y_text: \"-18\"\n"
          ]
        },
        {
          "output_type": "display_data",
          "data": {
            "text/plain": [
              "<Figure size 640x480 with 2 Axes>"
            ],
            "image/png": "[encoded data removed]"
          },
          "metadata": {}
        },
        {
          "output_type": "stream",
          "name": "stdout",
          "text": [
            "================================================== \n",
            "Query #8188\n",
            "\n",
            "X_text: \"40+94\" = y_text: \"134\"\n"
          ]
        },
        {
          "output_type": "display_data",
          "data": {
            "text/plain": [
              "<Figure size 640x480 with 2 Axes>"
            ],
            "image/png": "[encoded data removed]"
          },
          "metadata": {}
        },
        {
          "output_type": "stream",
          "name": "stdout",
          "text": [
            "================================================== \n",
            "Query #3344\n",
            "\n",
            "X_text: \"16+72\" = y_text: \"88 \"\n"
          ]
        },
        {
          "output_type": "display_data",
          "data": {
            "text/plain": [
              "<Figure size 640x480 with 2 Axes>"
            ],
            "image/png": "[encoded data removed]"
          },
          "metadata": {}
        }
      ]
    },
    {
      "cell_type": "markdown",
      "source": [
        "## Helper functions\n",
        "\n",
        "The functions below will help with input/output of the data."
      ],
      "metadata": {
        "id": "h06Gi5l63EvS"
      }
    },
    {
      "cell_type": "code",
      "source": [
        "# One-hot encoding/decoding the text queries/answers so that they can be processed using RNNs\n",
        "# You should use these functions to convert your strings and read out the output of your networks\n",
        "\n",
        "def encode_labels(labels, max_len=3):\n",
        "  n = len(labels)\n",
        "  length = len(labels[0])\n",
        "  char_map = dict(zip(unique_characters, range(len(unique_characters))))\n",
        "  one_hot = np.zeros([n, length, len(unique_characters)])\n",
        "  for i, label in enumerate(labels):\n",
        "      m = np.zeros([length, len(unique_characters)])\n",
        "      for j, char in enumerate(label):\n",
        "          m[j, char_map[char]] = 1\n",
        "      one_hot[i] = m\n",
        "\n",
        "  return one_hot\n",
        "\n",
        "\n",
        "def decode_labels(labels):\n",
        "    pred = np.argmax(labels, axis=1)\n",
        "    predicted = ''.join([unique_characters[i] for i in pred])\n",
        "\n",
        "    return predicted\n",
        "\n",
        "X_text_onehot = encode_labels(X_text)\n",
        "y_text_onehot = encode_labels(y_text)\n",
        "\n",
        "print(X_text_onehot.shape, y_text_onehot.shape)"
      ],
      "metadata": {
        "id": "rePVm6duJmkJ",
        "outputId": "a58d21c8-16d3-416c-f1ef-c1c88add0dc7",
        "execution": {
          "iopub.status.busy": "2023-11-18T13:24:25.093435Z",
          "iopub.execute_input": "2023-11-18T13:24:25.093884Z",
          "iopub.status.idle": "2023-11-18T13:24:25.276402Z",
          "shell.execute_reply.started": "2023-11-18T13:24:25.093831Z",
          "shell.execute_reply": "2023-11-18T13:24:25.275484Z"
        },
        "trusted": true,
        "colab": {
          "base_uri": "https://localhost:8080/"
        }
      },
      "execution_count": 5,
      "outputs": [
        {
          "output_type": "stream",
          "name": "stdout",
          "text": [
            "(20000, 5, 13) (20000, 3, 13)\n"
          ]
        }
      ]
    },
    {
      "cell_type": "markdown",
      "source": [
        "---\n",
        "---\n",
        "\n",
        "## I. Text-to-text RNN model\n",
        "\n",
        "The following code showcases how Recurrent Neural Networks (RNNs) are built using Keras. Several new layers are going to be used:\n",
        "\n",
        "1. LSTM\n",
        "2. TimeDistributed\n",
        "3. RepeatVector\n",
        "\n",
        "The code cell below explains each of these new components.\n",
        "\n",
        "<img src=\"https://i.ibb.co/NY7FFTc/Screenshot-2023-11-10-at-09-27-25.png\" alt=\"Screenshot-2023-11-10-at-09-27-25\" border=\"0\" width=\"500\"></a>\n"
      ],
      "metadata": {
        "id": "7-pNByj-JmkL"
      }
    },
    {
      "cell_type": "code",
      "source": [
        "def build_text2text_model():\n",
        "\n",
        "    # We start by initializing a sequential model\n",
        "    text2text = tf.keras.Sequential()\n",
        "\n",
        "    # \"Encode\" the input sequence using an RNN, producing an output of size 256.\n",
        "    # In this case the size of our input vectors is [5, 13] as we have queries of length 5 and 13 unique characters. Each of these 5 elements in the query will be fed to the network one by one,\n",
        "    # as shown in the image above (except with 5 elements).\n",
        "    # Hint: In other applications, where your input sequences have a variable length (e.g. sentences), you would use input_shape=(None, unique_characters).\n",
        "    text2text.add(LSTM(256, input_shape=(None, len(unique_characters))))\n",
        "\n",
        "    # As the decoder RNN's input, repeatedly provide with the last output of RNN for each time step. Repeat 3 times as that's the maximum length of the output (e.g. '  1-99' = '-98')\n",
        "    # when using 2-digit integers in queries. In other words, the RNN will always produce 3 characters as its output.\n",
        "    text2text.add(RepeatVector(max_answer_length))\n",
        "\n",
        "    # By setting return_sequences to True, return not only the last output but all the outputs so far in the form of (num_samples, timesteps, output_dim). This is necessary as TimeDistributed in the below expects\n",
        "    # the first dimension to be the timesteps.\n",
        "    text2text.add(LSTM(256, return_sequences=True))\n",
        "\n",
        "    # Apply a dense layer to the every temporal slice of an input. For each of step of the output sequence, decide which character should be chosen.\n",
        "    text2text.add(TimeDistributed(Dense(len(unique_characters), activation='softmax')))\n",
        "\n",
        "    # Next we compile the model using categorical crossentropy as our loss function.\n",
        "    text2text.compile(loss='categorical_crossentropy', optimizer='adam', metrics=['accuracy'])\n",
        "    text2text.summary()\n",
        "\n",
        "    return text2text"
      ],
      "metadata": {
        "id": "Tll54DIrZwbK",
        "execution": {
          "iopub.status.busy": "2023-11-18T12:24:59.001359Z",
          "iopub.execute_input": "2023-11-18T12:24:59.001683Z",
          "iopub.status.idle": "2023-11-18T12:24:59.009077Z",
          "shell.execute_reply.started": "2023-11-18T12:24:59.001657Z",
          "shell.execute_reply": "2023-11-18T12:24:59.008047Z"
        },
        "trusted": true
      },
      "execution_count": 6,
      "outputs": []
    },
    {
      "cell_type": "code",
      "source": [
        "split_ratios = [0.95, 0.9, 0.75, 0.6, 0.5]  # Adjust these ratios as needed\n",
        "\n",
        "for split_ratio in split_ratios:\n",
        "    # Split the Data\n",
        "    X_text_train, X_text_test, X_img_train, X_img_test, y_text_train, y_text_test, y_img_train, y_img_test = train_test_split(\n",
        "        X_text, X_img, y_text, y_img, test_size=1 - split_ratio, random_state=42\n",
        "    )\n",
        "\n",
        "    # Encode the training and test sets\n",
        "    X_text_train_onehot = encode_labels(X_text_train)\n",
        "    y_text_train_onehot = encode_labels(y_text_train)\n",
        "\n",
        "    X_text_test_onehot = encode_labels(X_text_test)\n",
        "    y_text_test_onehot = encode_labels(y_text_test)\n",
        "\n",
        "    # Train the Model\n",
        "    model = build_text2text_model()\n",
        "    model.fit(X_text_train_onehot, y_text_train_onehot, epochs=20, batch_size=32, validation_split=0.2, verbose=0)\n",
        "\n",
        "    # Evaluate the Model\n",
        "    test_loss, test_accuracy = model.evaluate(X_text_test_onehot, y_text_test_onehot, verbose=0)\n",
        "\n",
        "    # Print or store the results\n",
        "    print(f\"Test Accuracy for {split_ratio * 100}% training data: {test_accuracy}\")"
      ],
      "metadata": {
        "execution": {
          "iopub.execute_input": "2023-11-17T11:11:20.749557Z",
          "iopub.status.busy": "2023-11-17T11:11:20.748669Z",
          "iopub.status.idle": "2023-11-17T11:11:20.792704Z",
          "shell.execute_reply": "2023-11-17T11:11:20.791144Z",
          "shell.execute_reply.started": "2023-11-17T11:11:20.749515Z"
        },
        "scrolled": true,
        "trusted": true,
        "colab": {
          "base_uri": "https://localhost:8080/"
        },
        "id": "ZfhfoMDUQrHw",
        "outputId": "4f918ef3-9206-4407-9c6a-a9f8a571dac3"
      },
      "execution_count": 7,
      "outputs": [
        {
          "output_type": "stream",
          "name": "stdout",
          "text": [
            "Model: \"sequential\"\n",
            "_________________________________________________________________\n",
            " Layer (type)                Output Shape              Param #   \n",
            "=================================================================\n",
            " lstm (LSTM)                 (None, 256)               276480    \n",
            "                                                                 \n",
            " repeat_vector (RepeatVecto  (None, 3, 256)            0         \n",
            " r)                                                              \n",
            "                                                                 \n",
            " lstm_1 (LSTM)               (None, 3, 256)            525312    \n",
            "                                                                 \n",
            " time_distributed (TimeDist  (None, 3, 13)             3341      \n",
            " ributed)                                                        \n",
            "                                                                 \n",
            "=================================================================\n",
            "Total params: 805133 (3.07 MB)\n",
            "Trainable params: 805133 (3.07 MB)\n",
            "Non-trainable params: 0 (0.00 Byte)\n",
            "_________________________________________________________________\n",
            "Test Accuracy for 95.0% training data: 0.9813519716262817\n",
            "Model: \"sequential_1\"\n",
            "_________________________________________________________________\n",
            " Layer (type)                Output Shape              Param #   \n",
            "=================================================================\n",
            " lstm_2 (LSTM)               (None, 256)               276480    \n",
            "                                                                 \n",
            " repeat_vector_1 (RepeatVec  (None, 3, 256)            0         \n",
            " tor)                                                            \n",
            "                                                                 \n",
            " lstm_3 (LSTM)               (None, 3, 256)            525312    \n",
            "                                                                 \n",
            " time_distributed_1 (TimeDi  (None, 3, 13)             3341      \n",
            " stributed)                                                      \n",
            "                                                                 \n",
            "=================================================================\n",
            "Total params: 805133 (3.07 MB)\n",
            "Trainable params: 805133 (3.07 MB)\n",
            "Non-trainable params: 0 (0.00 Byte)\n",
            "_________________________________________________________________\n",
            "Test Accuracy for 90.0% training data: 0.9648333191871643\n",
            "Model: \"sequential_2\"\n",
            "_________________________________________________________________\n",
            " Layer (type)                Output Shape              Param #   \n",
            "=================================================================\n",
            " lstm_4 (LSTM)               (None, 256)               276480    \n",
            "                                                                 \n",
            " repeat_vector_2 (RepeatVec  (None, 3, 256)            0         \n",
            " tor)                                                            \n",
            "                                                                 \n",
            " lstm_5 (LSTM)               (None, 3, 256)            525312    \n",
            "                                                                 \n",
            " time_distributed_2 (TimeDi  (None, 3, 13)             3341      \n",
            " stributed)                                                      \n",
            "                                                                 \n",
            "=================================================================\n",
            "Total params: 805133 (3.07 MB)\n",
            "Trainable params: 805133 (3.07 MB)\n",
            "Non-trainable params: 0 (0.00 Byte)\n",
            "_________________________________________________________________\n",
            "Test Accuracy for 75.0% training data: 0.932533323764801\n",
            "Model: \"sequential_3\"\n",
            "_________________________________________________________________\n",
            " Layer (type)                Output Shape              Param #   \n",
            "=================================================================\n",
            " lstm_6 (LSTM)               (None, 256)               276480    \n",
            "                                                                 \n",
            " repeat_vector_3 (RepeatVec  (None, 3, 256)            0         \n",
            " tor)                                                            \n",
            "                                                                 \n",
            " lstm_7 (LSTM)               (None, 3, 256)            525312    \n",
            "                                                                 \n",
            " time_distributed_3 (TimeDi  (None, 3, 13)             3341      \n",
            " stributed)                                                      \n",
            "                                                                 \n",
            "=================================================================\n",
            "Total params: 805133 (3.07 MB)\n",
            "Trainable params: 805133 (3.07 MB)\n",
            "Non-trainable params: 0 (0.00 Byte)\n",
            "_________________________________________________________________\n",
            "Test Accuracy for 60.0% training data: 0.8845833539962769\n",
            "Model: \"sequential_4\"\n",
            "_________________________________________________________________\n",
            " Layer (type)                Output Shape              Param #   \n",
            "=================================================================\n",
            " lstm_8 (LSTM)               (None, 256)               276480    \n",
            "                                                                 \n",
            " repeat_vector_4 (RepeatVec  (None, 3, 256)            0         \n",
            " tor)                                                            \n",
            "                                                                 \n",
            " lstm_9 (LSTM)               (None, 3, 256)            525312    \n",
            "                                                                 \n",
            " time_distributed_4 (TimeDi  (None, 3, 13)             3341      \n",
            " stributed)                                                      \n",
            "                                                                 \n",
            "=================================================================\n",
            "Total params: 805133 (3.07 MB)\n",
            "Trainable params: 805133 (3.07 MB)\n",
            "Non-trainable params: 0 (0.00 Byte)\n",
            "_________________________________________________________________\n",
            "Test Accuracy for 50.0% training data: 0.6712999939918518\n"
          ]
        }
      ]
    },
    {
      "cell_type": "code",
      "source": [
        "# Final model\n",
        "X_text_train, X_text_test, X_img_train, X_img_test, y_text_train, y_text_test, y_img_train, y_img_test = train_test_split(\n",
        "    X_text, X_img, y_text, y_img, test_size=0.05, random_state=42\n",
        ")\n",
        "\n",
        "# Encode the training and test sets\n",
        "X_text_train_onehot = encode_labels(X_text_train)\n",
        "y_text_train_onehot = encode_labels(y_text_train)\n",
        "\n",
        "X_text_test_onehot = encode_labels(X_text_test)\n",
        "y_text_test_onehot = encode_labels(y_text_test)\n",
        "\n",
        "# Train the Model\n",
        "model = build_text2text_model()\n",
        "model.fit(X_text_train_onehot, y_text_train_onehot, epochs=20, batch_size=32, validation_split=0.2, verbose=0)\n",
        "\n",
        "# Evaluate the Model\n",
        "test_loss, test_accuracy = model.evaluate(X_text_test_onehot, y_text_test_onehot, verbose=0)"
      ],
      "metadata": {
        "execution": {
          "iopub.status.busy": "2023-11-18T13:27:06.957962Z",
          "iopub.execute_input": "2023-11-18T13:27:06.958415Z",
          "iopub.status.idle": "2023-11-18T13:27:59.561163Z",
          "shell.execute_reply.started": "2023-11-18T13:27:06.958378Z",
          "shell.execute_reply": "2023-11-18T13:27:59.560216Z"
        },
        "trusted": true,
        "colab": {
          "base_uri": "https://localhost:8080/"
        },
        "id": "cLd8sqPkQrHx",
        "outputId": "2e1b0a4c-054f-4718-dd73-9ad5892fa9f9"
      },
      "execution_count": 8,
      "outputs": [
        {
          "output_type": "stream",
          "name": "stdout",
          "text": [
            "Model: \"sequential_5\"\n",
            "_________________________________________________________________\n",
            " Layer (type)                Output Shape              Param #   \n",
            "=================================================================\n",
            " lstm_10 (LSTM)              (None, 256)               276480    \n",
            "                                                                 \n",
            " repeat_vector_5 (RepeatVec  (None, 3, 256)            0         \n",
            " tor)                                                            \n",
            "                                                                 \n",
            " lstm_11 (LSTM)              (None, 3, 256)            525312    \n",
            "                                                                 \n",
            " time_distributed_5 (TimeDi  (None, 3, 13)             3341      \n",
            " stributed)                                                      \n",
            "                                                                 \n",
            "=================================================================\n",
            "Total params: 805133 (3.07 MB)\n",
            "Trainable params: 805133 (3.07 MB)\n",
            "Non-trainable params: 0 (0.00 Byte)\n",
            "_________________________________________________________________\n"
          ]
        }
      ]
    },
    {
      "cell_type": "code",
      "source": [
        "# Print or store the results\n",
        "print(f\"Test Accuracy: {test_accuracy}\")\n",
        "\n",
        "# Make predictions on the test set\n",
        "predictions_onehot = model.predict(X_text_test_onehot)\n",
        "\n",
        "# Convert one-hot encoded predictions and actual values to text\n",
        "predictions_text = [decode_labels(pred) for pred in predictions_onehot]\n",
        "\n",
        "# Find indices where predictions differ from actual values\n",
        "incorrect_indices = np.where(predictions_text != y_text_test)[0]\n",
        "\n",
        "# Display the queries and solutions for incorrectly predicted samples\n",
        "for idx in incorrect_indices[0:15]:\n",
        "    print(\"Query:\")\n",
        "    print(X_text_test[idx])\n",
        "    print(\"Actual Solution:\")\n",
        "    print(y_text_test[idx])\n",
        "    print(\"Predicted Solution:\")\n",
        "    print(predictions_text[idx])\n",
        "    print(\"\\n\")"
      ],
      "metadata": {
        "execution": {
          "iopub.status.busy": "2023-11-18T13:34:33.508828Z",
          "iopub.execute_input": "2023-11-18T13:34:33.509549Z",
          "iopub.status.idle": "2023-11-18T13:34:33.683838Z",
          "shell.execute_reply.started": "2023-11-18T13:34:33.509500Z",
          "shell.execute_reply": "2023-11-18T13:34:33.682866Z"
        },
        "scrolled": true,
        "trusted": true,
        "colab": {
          "base_uri": "https://localhost:8080/"
        },
        "id": "Zqa4iiOLQrHx",
        "outputId": "5a658177-dff6-4158-b9ac-ac49f96350cf"
      },
      "execution_count": 9,
      "outputs": [
        {
          "output_type": "stream",
          "name": "stdout",
          "text": [
            "Test Accuracy: 0.984666645526886\n",
            "32/32 [==============================] - 1s 3ms/step\n",
            "Query:\n",
            "1+61 \n",
            "Actual Solution:\n",
            "62 \n",
            "Predicted Solution:\n",
            "73 \n",
            "\n",
            "\n",
            "Query:\n",
            "95-27\n",
            "Actual Solution:\n",
            "68 \n",
            "Predicted Solution:\n",
            "78 \n",
            "\n",
            "\n",
            "Query:\n",
            "70-0 \n",
            "Actual Solution:\n",
            "70 \n",
            "Predicted Solution:\n",
            "71 \n",
            "\n",
            "\n",
            "Query:\n",
            "62-3 \n",
            "Actual Solution:\n",
            "59 \n",
            "Predicted Solution:\n",
            "69 \n",
            "\n",
            "\n",
            "Query:\n",
            "23-14\n",
            "Actual Solution:\n",
            "9  \n",
            "Predicted Solution:\n",
            "1  \n",
            "\n",
            "\n",
            "Query:\n",
            "98-58\n",
            "Actual Solution:\n",
            "40 \n",
            "Predicted Solution:\n",
            "30 \n",
            "\n",
            "\n",
            "Query:\n",
            "38+61\n",
            "Actual Solution:\n",
            "99 \n",
            "Predicted Solution:\n",
            "19 \n",
            "\n",
            "\n",
            "Query:\n",
            "11-10\n",
            "Actual Solution:\n",
            "1  \n",
            "Predicted Solution:\n",
            "3  \n",
            "\n",
            "\n",
            "Query:\n",
            "76-7 \n",
            "Actual Solution:\n",
            "69 \n",
            "Predicted Solution:\n",
            "79 \n",
            "\n",
            "\n",
            "Query:\n",
            "5+3  \n",
            "Actual Solution:\n",
            "8  \n",
            "Predicted Solution:\n",
            "9  \n",
            "\n",
            "\n",
            "Query:\n",
            "96-28\n",
            "Actual Solution:\n",
            "68 \n",
            "Predicted Solution:\n",
            "78 \n",
            "\n",
            "\n",
            "Query:\n",
            "23+11\n",
            "Actual Solution:\n",
            "34 \n",
            "Predicted Solution:\n",
            "33 \n",
            "\n",
            "\n",
            "Query:\n",
            "74-72\n",
            "Actual Solution:\n",
            "2  \n",
            "Predicted Solution:\n",
            "1  \n",
            "\n",
            "\n",
            "Query:\n",
            "53-24\n",
            "Actual Solution:\n",
            "29 \n",
            "Predicted Solution:\n",
            "39 \n",
            "\n",
            "\n",
            "Query:\n",
            "20-3 \n",
            "Actual Solution:\n",
            "17 \n",
            "Predicted Solution:\n",
            "1  \n",
            "\n",
            "\n"
          ]
        }
      ]
    },
    {
      "cell_type": "markdown",
      "source": [
        "\n",
        "---\n",
        "---\n",
        "\n",
        "## II. Image to text RNN Model\n",
        "\n",
        "Hint: There are two ways of building the encoder for such a model - again by using the regular LSTM cells (with flattened images as vectors) or recurrect convolutional layers [ConvLSTM2D](https://keras.io/api/layers/recurrent_layers/conv_lstm2d/).\n",
        "\n",
        "The goal here is to use **X_img** as inputs and **y_text** as outputs."
      ],
      "metadata": {
        "id": "MTUqbQrbaKfB"
      }
    },
    {
      "cell_type": "code",
      "source": [
        "def build_image2text_model(lstm_units, dropout_rate, conv_filters):\n",
        "    image2text = Sequential()\n",
        "\n",
        "    # Encoder (for image sequences)\n",
        "    image2text.add(TimeDistributed(Conv2D(32, (3, 3), activation='relu'), input_shape=(None, 28, 28, 1)))\n",
        "    image2text.add(TimeDistributed(Flatten()))\n",
        "    image2text.add(LSTM(lstm_units))\n",
        "    image2text.add(Dropout(dropout_rate))\n",
        "\n",
        "    # Repeat the output for max_answer_length times\n",
        "    image2text.add(RepeatVector(max_answer_length))\n",
        "\n",
        "    # Decoder (for generating text)\n",
        "    image2text.add(LSTM(lstm_units, return_sequences=True))\n",
        "    image2text.add(Dropout(dropout_rate))\n",
        "    image2text.add(TimeDistributed(Dense(len(unique_characters), activation='softmax')))\n",
        "\n",
        "    # Compile the model\n",
        "    image2text.compile(loss='categorical_crossentropy', optimizer='adam', metrics=['accuracy'])\n",
        "    image2text.summary()\n",
        "\n",
        "    return image2text\n",
        "\n",
        "param_grid = {\n",
        "    'lstm_units': [256, 512],\n",
        "    'dropout_rate': [0.3, 0.5, 0.8],\n",
        "    'conv_filters': [16, 32, 64]\n",
        "}\n"
      ],
      "metadata": {
        "id": "5Kv1ZBYqHTG3",
        "execution": {
          "iopub.status.busy": "2023-11-18T12:57:55.129589Z",
          "iopub.execute_input": "2023-11-18T12:57:55.130513Z",
          "iopub.status.idle": "2023-11-18T12:57:55.138362Z",
          "shell.execute_reply.started": "2023-11-18T12:57:55.130474Z",
          "shell.execute_reply": "2023-11-18T12:57:55.137407Z"
        },
        "trusted": true
      },
      "execution_count": null,
      "outputs": []
    },
    {
      "cell_type": "code",
      "source": [
        "from itertools import product\n",
        "import pandas as pd\n",
        "results = []\n",
        "\n",
        "for params in product(*param_grid.values()):\n",
        "  lstm_units, dropout_rate, conv_filters = params\n",
        "  print(f\"Training model with LSTM units: {lstm_units}, Dropout rate: {dropout_rate}, Convolutional filters: {conv_filters}\")\n",
        "\n",
        "  # Encode the training and test sets\n",
        "  y_text_train_onehot = encode_labels(y_text_train)\n",
        "  y_text_test_onehot = encode_labels(y_text_test)\n",
        "\n",
        "  # Build and train the image-to-text model\n",
        "  image2text_model = build_image2text_model(lstm_units, dropout_rate, conv_filters)\n",
        "  image2text_model.fit(X_img_train, y_text_train_onehot, epochs=20, batch_size=32, validation_split=0.2)\n",
        "\n",
        "  # Evaluate the model\n",
        "  test_loss_img, test_accuracy_img = image2text_model.evaluate(X_img_test, y_text_test_onehot)\n",
        "  print(f'Image-to-Text Model Test Accuracy: {test_accuracy_img}')\n",
        "\n",
        "  results.append((lstm_units, dropout_rate, conv_filters, test_accuracy))\n",
        "\n",
        "# Create a DataFrame from the results\n",
        "results_df = pd.DataFrame(results, columns=['LSTM Units', 'Dropout Rate', 'Conv Filters', 'Test Accuracy'])\n",
        "\n",
        "# Display the DataFrame\n",
        "print(\"Results Overview:\")\n",
        "print(results_df)"
      ],
      "metadata": {
        "execution": {
          "iopub.status.busy": "2023-11-18T12:57:59.721544Z",
          "iopub.execute_input": "2023-11-18T12:57:59.722579Z",
          "iopub.status.idle": "2023-11-18T13:01:06.931656Z",
          "shell.execute_reply.started": "2023-11-18T12:57:59.722537Z",
          "shell.execute_reply": "2023-11-18T13:01:06.930703Z"
        },
        "trusted": true,
        "colab": {
          "base_uri": "https://localhost:8080/"
        },
        "id": "6A3xeDOjQrHz",
        "outputId": "97d0a2c9-e109-46eb-a70a-e1d346468ee4"
      },
      "execution_count": null,
      "outputs": [
        {
          "output_type": "stream",
          "name": "stdout",
          "text": [
            "Training model with LSTM units: 256, Dropout rate: 0.3, Convolutional filters: 16\n",
            "Model: \"sequential_6\"\n",
            "_________________________________________________________________\n",
            " Layer (type)                Output Shape              Param #   \n",
            "=================================================================\n",
            " time_distributed_6 (TimeDi  (None, None, 26, 26, 32   320       \n",
            " stributed)                  )                                   \n",
            "                                                                 \n",
            " time_distributed_7 (TimeDi  (None, None, 21632)       0         \n",
            " stributed)                                                      \n",
            "                                                                 \n",
            " lstm_12 (LSTM)              (None, 256)               22414336  \n",
            "                                                                 \n",
            " dropout (Dropout)           (None, 256)               0         \n",
            "                                                                 \n",
            " repeat_vector_6 (RepeatVec  (None, 3, 256)            0         \n",
            " tor)                                                            \n",
            "                                                                 \n",
            " lstm_13 (LSTM)              (None, 3, 256)            525312    \n",
            "                                                                 \n",
            " dropout_1 (Dropout)         (None, 3, 256)            0         \n",
            "                                                                 \n",
            " time_distributed_8 (TimeDi  (None, 3, 13)             3341      \n",
            " stributed)                                                      \n",
            "                                                                 \n",
            "=================================================================\n",
            "Total params: 22943309 (87.52 MB)\n",
            "Trainable params: 22943309 (87.52 MB)\n",
            "Non-trainable params: 0 (0.00 Byte)\n",
            "_________________________________________________________________\n",
            "Epoch 1/20\n",
            "475/475 [==============================] - 19s 24ms/step - loss: 1.9459 - accuracy: 0.3741 - val_loss: 1.7365 - val_accuracy: 0.3998\n",
            "Epoch 2/20\n",
            "475/475 [==============================] - 10s 21ms/step - loss: 1.6334 - accuracy: 0.4245 - val_loss: 1.5306 - val_accuracy: 0.4446\n",
            "Epoch 3/20\n",
            "475/475 [==============================] - 10s 22ms/step - loss: 1.4636 - accuracy: 0.4680 - val_loss: 1.4348 - val_accuracy: 0.4811\n",
            "Epoch 4/20\n",
            "475/475 [==============================] - 11s 22ms/step - loss: 1.3397 - accuracy: 0.5005 - val_loss: 1.4030 - val_accuracy: 0.4995\n",
            "Epoch 5/20\n",
            "475/475 [==============================] - 11s 22ms/step - loss: 1.2394 - accuracy: 0.5317 - val_loss: 1.3894 - val_accuracy: 0.5051\n",
            "Epoch 6/20\n",
            "475/475 [==============================] - 10s 21ms/step - loss: 1.1665 - accuracy: 0.5576 - val_loss: 1.3890 - val_accuracy: 0.5108\n",
            "Epoch 7/20\n",
            "475/475 [==============================] - 10s 22ms/step - loss: 1.0943 - accuracy: 0.5871 - val_loss: 1.3986 - val_accuracy: 0.5160\n",
            "Epoch 8/20\n",
            "475/475 [==============================] - 10s 22ms/step - loss: 1.0436 - accuracy: 0.6070 - val_loss: 1.4210 - val_accuracy: 0.5178\n",
            "Epoch 9/20\n",
            "475/475 [==============================] - 10s 22ms/step - loss: 0.9993 - accuracy: 0.6211 - val_loss: 1.4597 - val_accuracy: 0.5157\n",
            "Epoch 10/20\n",
            "475/475 [==============================] - 10s 21ms/step - loss: 0.9545 - accuracy: 0.6430 - val_loss: 1.4899 - val_accuracy: 0.5226\n",
            "Epoch 11/20\n",
            "475/475 [==============================] - 10s 22ms/step - loss: 0.9200 - accuracy: 0.6561 - val_loss: 1.5476 - val_accuracy: 0.5190\n",
            "Epoch 12/20\n",
            "475/475 [==============================] - 10s 21ms/step - loss: 0.8721 - accuracy: 0.6761 - val_loss: 1.5844 - val_accuracy: 0.5194\n",
            "Epoch 13/20\n",
            "475/475 [==============================] - 10s 21ms/step - loss: 0.8375 - accuracy: 0.6907 - val_loss: 1.6042 - val_accuracy: 0.5169\n",
            "Epoch 14/20\n",
            "475/475 [==============================] - 10s 21ms/step - loss: 0.7853 - accuracy: 0.7111 - val_loss: 1.7030 - val_accuracy: 0.5189\n",
            "Epoch 15/20\n",
            "475/475 [==============================] - 10s 22ms/step - loss: 0.7292 - accuracy: 0.7306 - val_loss: 1.8050 - val_accuracy: 0.5154\n",
            "Epoch 16/20\n",
            "475/475 [==============================] - 10s 22ms/step - loss: 0.6808 - accuracy: 0.7501 - val_loss: 1.8269 - val_accuracy: 0.5167\n",
            "Epoch 17/20\n",
            "475/475 [==============================] - 10s 22ms/step - loss: 0.6133 - accuracy: 0.7745 - val_loss: 1.9263 - val_accuracy: 0.5118\n",
            "Epoch 18/20\n",
            "475/475 [==============================] - 10s 22ms/step - loss: 0.5577 - accuracy: 0.7961 - val_loss: 2.0465 - val_accuracy: 0.5103\n",
            "Epoch 19/20\n",
            "475/475 [==============================] - 11s 22ms/step - loss: 0.4957 - accuracy: 0.8179 - val_loss: 2.1164 - val_accuracy: 0.5161\n",
            "Epoch 20/20\n",
            "475/475 [==============================] - 10s 21ms/step - loss: 0.4358 - accuracy: 0.8411 - val_loss: 2.2657 - val_accuracy: 0.5098\n",
            "32/32 [==============================] - 0s 11ms/step - loss: 2.2993 - accuracy: 0.5040\n",
            "Image-to-Text Model Test Accuracy: 0.5040000081062317\n",
            "Training model with LSTM units: 256, Dropout rate: 0.3, Convolutional filters: 32\n",
            "Model: \"sequential_7\"\n",
            "_________________________________________________________________\n",
            " Layer (type)                Output Shape              Param #   \n",
            "=================================================================\n",
            " time_distributed_9 (TimeDi  (None, None, 26, 26, 32   320       \n",
            " stributed)                  )                                   \n",
            "                                                                 \n",
            " time_distributed_10 (TimeD  (None, None, 21632)       0         \n",
            " istributed)                                                     \n",
            "                                                                 \n",
            " lstm_14 (LSTM)              (None, 256)               22414336  \n",
            "                                                                 \n",
            " dropout_2 (Dropout)         (None, 256)               0         \n",
            "                                                                 \n",
            " repeat_vector_7 (RepeatVec  (None, 3, 256)            0         \n",
            " tor)                                                            \n",
            "                                                                 \n",
            " lstm_15 (LSTM)              (None, 3, 256)            525312    \n",
            "                                                                 \n",
            " dropout_3 (Dropout)         (None, 3, 256)            0         \n",
            "                                                                 \n",
            " time_distributed_11 (TimeD  (None, 3, 13)             3341      \n",
            " istributed)                                                     \n",
            "                                                                 \n",
            "=================================================================\n",
            "Total params: 22943309 (87.52 MB)\n",
            "Trainable params: 22943309 (87.52 MB)\n",
            "Non-trainable params: 0 (0.00 Byte)\n",
            "_________________________________________________________________\n",
            "Epoch 1/20\n",
            "475/475 [==============================] - 15s 24ms/step - loss: 1.9214 - accuracy: 0.3716 - val_loss: 1.6796 - val_accuracy: 0.4111\n",
            "Epoch 2/20\n",
            "475/475 [==============================] - 10s 22ms/step - loss: 1.6006 - accuracy: 0.4294 - val_loss: 1.5150 - val_accuracy: 0.4465\n",
            "Epoch 3/20\n",
            "475/475 [==============================] - 10s 22ms/step - loss: 1.4397 - accuracy: 0.4745 - val_loss: 1.4182 - val_accuracy: 0.4848\n",
            "Epoch 4/20\n",
            "475/475 [==============================] - 11s 22ms/step - loss: 1.3215 - accuracy: 0.5085 - val_loss: 1.4024 - val_accuracy: 0.4904\n",
            "Epoch 5/20\n",
            "475/475 [==============================] - 11s 23ms/step - loss: 1.2301 - accuracy: 0.5358 - val_loss: 1.3661 - val_accuracy: 0.5090\n",
            "Epoch 6/20\n",
            "475/475 [==============================] - 10s 22ms/step - loss: 1.1554 - accuracy: 0.5635 - val_loss: 1.3944 - val_accuracy: 0.5120\n",
            "Epoch 7/20\n",
            "475/475 [==============================] - 11s 22ms/step - loss: 1.0941 - accuracy: 0.5852 - val_loss: 1.4245 - val_accuracy: 0.5102\n",
            "Epoch 8/20\n",
            "475/475 [==============================] - 11s 22ms/step - loss: 1.0446 - accuracy: 0.6057 - val_loss: 1.4223 - val_accuracy: 0.5168\n",
            "Epoch 9/20\n",
            "475/475 [==============================] - 11s 22ms/step - loss: 0.9912 - accuracy: 0.6274 - val_loss: 1.4752 - val_accuracy: 0.5156\n",
            "Epoch 10/20\n",
            "475/475 [==============================] - 10s 22ms/step - loss: 0.9557 - accuracy: 0.6413 - val_loss: 1.5128 - val_accuracy: 0.5151\n",
            "Epoch 11/20\n",
            "475/475 [==============================] - 10s 22ms/step - loss: 0.9024 - accuracy: 0.6649 - val_loss: 1.5552 - val_accuracy: 0.5150\n",
            "Epoch 12/20\n",
            "475/475 [==============================] - 10s 22ms/step - loss: 0.8544 - accuracy: 0.6834 - val_loss: 1.6214 - val_accuracy: 0.5105\n",
            "Epoch 13/20\n",
            "475/475 [==============================] - 11s 22ms/step - loss: 0.7961 - accuracy: 0.7070 - val_loss: 1.7249 - val_accuracy: 0.5091\n",
            "Epoch 14/20\n",
            "475/475 [==============================] - 10s 22ms/step - loss: 0.7332 - accuracy: 0.7280 - val_loss: 1.7452 - val_accuracy: 0.5129\n",
            "Epoch 15/20\n",
            "475/475 [==============================] - 10s 22ms/step - loss: 0.6671 - accuracy: 0.7539 - val_loss: 1.8783 - val_accuracy: 0.5119\n",
            "Epoch 16/20\n",
            "475/475 [==============================] - 10s 22ms/step - loss: 0.6028 - accuracy: 0.7771 - val_loss: 1.9707 - val_accuracy: 0.5041\n",
            "Epoch 17/20\n",
            "475/475 [==============================] - 10s 21ms/step - loss: 0.5412 - accuracy: 0.7969 - val_loss: 2.0715 - val_accuracy: 0.5119\n",
            "Epoch 18/20\n",
            "475/475 [==============================] - 10s 22ms/step - loss: 0.4787 - accuracy: 0.8256 - val_loss: 2.1947 - val_accuracy: 0.5073\n",
            "Epoch 19/20\n",
            "475/475 [==============================] - 11s 22ms/step - loss: 0.4185 - accuracy: 0.8457 - val_loss: 2.3495 - val_accuracy: 0.4985\n",
            "Epoch 20/20\n",
            "475/475 [==============================] - 10s 21ms/step - loss: 0.3705 - accuracy: 0.8643 - val_loss: 2.4813 - val_accuracy: 0.5037\n",
            "32/32 [==============================] - 0s 10ms/step - loss: 2.4396 - accuracy: 0.5090\n",
            "Image-to-Text Model Test Accuracy: 0.5090000033378601\n",
            "Training model with LSTM units: 256, Dropout rate: 0.3, Convolutional filters: 64\n",
            "Model: \"sequential_8\"\n",
            "_________________________________________________________________\n",
            " Layer (type)                Output Shape              Param #   \n",
            "=================================================================\n",
            " time_distributed_12 (TimeD  (None, None, 26, 26, 32   320       \n",
            " istributed)                 )                                   \n",
            "                                                                 \n",
            " time_distributed_13 (TimeD  (None, None, 21632)       0         \n",
            " istributed)                                                     \n",
            "                                                                 \n",
            " lstm_16 (LSTM)              (None, 256)               22414336  \n",
            "                                                                 \n",
            " dropout_4 (Dropout)         (None, 256)               0         \n",
            "                                                                 \n",
            " repeat_vector_8 (RepeatVec  (None, 3, 256)            0         \n",
            " tor)                                                            \n",
            "                                                                 \n",
            " lstm_17 (LSTM)              (None, 3, 256)            525312    \n",
            "                                                                 \n",
            " dropout_5 (Dropout)         (None, 3, 256)            0         \n",
            "                                                                 \n",
            " time_distributed_14 (TimeD  (None, 3, 13)             3341      \n",
            " istributed)                                                     \n",
            "                                                                 \n",
            "=================================================================\n",
            "Total params: 22943309 (87.52 MB)\n",
            "Trainable params: 22943309 (87.52 MB)\n",
            "Non-trainable params: 0 (0.00 Byte)\n",
            "_________________________________________________________________\n",
            "Epoch 1/20\n",
            "475/475 [==============================] - 15s 24ms/step - loss: 1.9093 - accuracy: 0.3707 - val_loss: 1.6591 - val_accuracy: 0.4127\n",
            "Epoch 2/20\n",
            "475/475 [==============================] - 10s 21ms/step - loss: 1.5735 - accuracy: 0.4361 - val_loss: 1.4920 - val_accuracy: 0.4620\n",
            "Epoch 3/20\n",
            "475/475 [==============================] - 10s 22ms/step - loss: 1.4112 - accuracy: 0.4830 - val_loss: 1.4440 - val_accuracy: 0.4779\n",
            "Epoch 4/20\n",
            "475/475 [==============================] - 11s 22ms/step - loss: 1.2935 - accuracy: 0.5168 - val_loss: 1.3730 - val_accuracy: 0.5031\n",
            "Epoch 5/20\n",
            "475/475 [==============================] - 10s 22ms/step - loss: 1.1995 - accuracy: 0.5481 - val_loss: 1.3755 - val_accuracy: 0.5118\n",
            "Epoch 6/20\n",
            "475/475 [==============================] - 10s 22ms/step - loss: 1.1230 - accuracy: 0.5743 - val_loss: 1.3956 - val_accuracy: 0.5154\n",
            "Epoch 7/20\n",
            "475/475 [==============================] - 11s 22ms/step - loss: 1.0704 - accuracy: 0.5939 - val_loss: 1.4345 - val_accuracy: 0.5182\n",
            "Epoch 8/20\n",
            "475/475 [==============================] - 10s 22ms/step - loss: 1.0181 - accuracy: 0.6145 - val_loss: 1.4417 - val_accuracy: 0.5189\n",
            "Epoch 9/20\n",
            "475/475 [==============================] - 11s 22ms/step - loss: 0.9754 - accuracy: 0.6327 - val_loss: 1.4662 - val_accuracy: 0.5207\n",
            "Epoch 10/20\n",
            "475/475 [==============================] - 11s 23ms/step - loss: 0.9339 - accuracy: 0.6518 - val_loss: 1.5043 - val_accuracy: 0.5222\n",
            "Epoch 11/20\n",
            "475/475 [==============================] - 11s 23ms/step - loss: 0.8989 - accuracy: 0.6657 - val_loss: 1.5726 - val_accuracy: 0.5197\n",
            "Epoch 12/20\n",
            "475/475 [==============================] - 10s 21ms/step - loss: 0.8560 - accuracy: 0.6843 - val_loss: 1.6105 - val_accuracy: 0.5200\n",
            "Epoch 13/20\n",
            "475/475 [==============================] - 10s 22ms/step - loss: 0.8093 - accuracy: 0.7021 - val_loss: 1.6350 - val_accuracy: 0.5168\n",
            "Epoch 14/20\n",
            "475/475 [==============================] - 10s 22ms/step - loss: 0.7489 - accuracy: 0.7243 - val_loss: 1.7377 - val_accuracy: 0.5117\n",
            "Epoch 15/20\n",
            "475/475 [==============================] - 11s 22ms/step - loss: 0.6859 - accuracy: 0.7471 - val_loss: 1.7989 - val_accuracy: 0.5110\n",
            "Epoch 16/20\n",
            "475/475 [==============================] - 10s 22ms/step - loss: 0.6283 - accuracy: 0.7695 - val_loss: 1.9174 - val_accuracy: 0.5111\n",
            "Epoch 17/20\n",
            "475/475 [==============================] - 10s 21ms/step - loss: 0.5572 - accuracy: 0.7929 - val_loss: 2.0360 - val_accuracy: 0.5080\n",
            "Epoch 18/20\n",
            "475/475 [==============================] - 10s 22ms/step - loss: 0.5005 - accuracy: 0.8146 - val_loss: 2.1545 - val_accuracy: 0.5089\n",
            "Epoch 19/20\n",
            "475/475 [==============================] - 10s 21ms/step - loss: 0.4406 - accuracy: 0.8375 - val_loss: 2.3001 - val_accuracy: 0.5042\n",
            "Epoch 20/20\n",
            "475/475 [==============================] - 11s 22ms/step - loss: 0.3878 - accuracy: 0.8573 - val_loss: 2.3797 - val_accuracy: 0.5031\n",
            "32/32 [==============================] - 0s 8ms/step - loss: 2.3670 - accuracy: 0.5140\n",
            "Image-to-Text Model Test Accuracy: 0.5139999985694885\n",
            "Training model with LSTM units: 256, Dropout rate: 0.5, Convolutional filters: 16\n",
            "Model: \"sequential_9\"\n",
            "_________________________________________________________________\n",
            " Layer (type)                Output Shape              Param #   \n",
            "=================================================================\n",
            " time_distributed_15 (TimeD  (None, None, 26, 26, 32   320       \n",
            " istributed)                 )                                   \n",
            "                                                                 \n",
            " time_distributed_16 (TimeD  (None, None, 21632)       0         \n",
            " istributed)                                                     \n",
            "                                                                 \n",
            " lstm_18 (LSTM)              (None, 256)               22414336  \n",
            "                                                                 \n",
            " dropout_6 (Dropout)         (None, 256)               0         \n",
            "                                                                 \n",
            " repeat_vector_9 (RepeatVec  (None, 3, 256)            0         \n",
            " tor)                                                            \n",
            "                                                                 \n",
            " lstm_19 (LSTM)              (None, 3, 256)            525312    \n",
            "                                                                 \n",
            " dropout_7 (Dropout)         (None, 3, 256)            0         \n",
            "                                                                 \n",
            " time_distributed_17 (TimeD  (None, 3, 13)             3341      \n",
            " istributed)                                                     \n",
            "                                                                 \n",
            "=================================================================\n",
            "Total params: 22943309 (87.52 MB)\n",
            "Trainable params: 22943309 (87.52 MB)\n",
            "Non-trainable params: 0 (0.00 Byte)\n",
            "_________________________________________________________________\n",
            "Epoch 1/20\n",
            "475/475 [==============================] - 15s 25ms/step - loss: 1.9741 - accuracy: 0.3605 - val_loss: 1.7208 - val_accuracy: 0.4024\n",
            "Epoch 2/20\n",
            "475/475 [==============================] - 10s 21ms/step - loss: 1.6391 - accuracy: 0.4208 - val_loss: 1.5284 - val_accuracy: 0.4526\n",
            "Epoch 3/20\n",
            "475/475 [==============================] - 11s 23ms/step - loss: 1.4806 - accuracy: 0.4618 - val_loss: 1.4549 - val_accuracy: 0.4824\n",
            "Epoch 4/20\n",
            "475/475 [==============================] - 11s 23ms/step - loss: 1.3644 - accuracy: 0.4919 - val_loss: 1.4259 - val_accuracy: 0.4866\n",
            "Epoch 5/20\n",
            "475/475 [==============================] - 11s 23ms/step - loss: 1.2807 - accuracy: 0.5170 - val_loss: 1.4055 - val_accuracy: 0.4964\n",
            "Epoch 6/20\n",
            "475/475 [==============================] - 11s 22ms/step - loss: 1.2234 - accuracy: 0.5357 - val_loss: 1.4043 - val_accuracy: 0.5047\n",
            "Epoch 7/20\n",
            "475/475 [==============================] - 10s 21ms/step - loss: 1.1722 - accuracy: 0.5545 - val_loss: 1.3958 - val_accuracy: 0.5067\n",
            "Epoch 8/20\n",
            "475/475 [==============================] - 10s 22ms/step - loss: 1.1284 - accuracy: 0.5684 - val_loss: 1.4177 - val_accuracy: 0.5163\n",
            "Epoch 9/20\n",
            "475/475 [==============================] - 11s 22ms/step - loss: 1.0838 - accuracy: 0.5844 - val_loss: 1.4183 - val_accuracy: 0.5137\n",
            "Epoch 10/20\n",
            "475/475 [==============================] - 10s 21ms/step - loss: 1.0587 - accuracy: 0.5956 - val_loss: 1.4305 - val_accuracy: 0.5217\n",
            "Epoch 11/20\n",
            "475/475 [==============================] - 10s 22ms/step - loss: 1.0287 - accuracy: 0.6046 - val_loss: 1.4794 - val_accuracy: 0.5115\n",
            "Epoch 12/20\n",
            "475/475 [==============================] - 11s 22ms/step - loss: 1.0026 - accuracy: 0.6123 - val_loss: 1.5087 - val_accuracy: 0.5150\n",
            "Epoch 13/20\n",
            "475/475 [==============================] - 10s 22ms/step - loss: 0.9844 - accuracy: 0.6245 - val_loss: 1.5246 - val_accuracy: 0.5211\n",
            "Epoch 14/20\n",
            "475/475 [==============================] - 11s 22ms/step - loss: 0.9597 - accuracy: 0.6342 - val_loss: 1.5406 - val_accuracy: 0.5211\n",
            "Epoch 15/20\n",
            "475/475 [==============================] - 10s 21ms/step - loss: 0.9443 - accuracy: 0.6399 - val_loss: 1.5512 - val_accuracy: 0.5230\n",
            "Epoch 16/20\n",
            "475/475 [==============================] - 10s 22ms/step - loss: 0.9272 - accuracy: 0.6486 - val_loss: 1.5606 - val_accuracy: 0.5223\n",
            "Epoch 17/20\n",
            "475/475 [==============================] - 10s 22ms/step - loss: 0.9123 - accuracy: 0.6549 - val_loss: 1.5720 - val_accuracy: 0.5231\n",
            "Epoch 18/20\n",
            "475/475 [==============================] - 10s 21ms/step - loss: 0.8953 - accuracy: 0.6611 - val_loss: 1.6299 - val_accuracy: 0.5164\n",
            "Epoch 19/20\n",
            "475/475 [==============================] - 10s 22ms/step - loss: 0.8755 - accuracy: 0.6700 - val_loss: 1.6423 - val_accuracy: 0.5241\n",
            "Epoch 20/20\n",
            "475/475 [==============================] - 10s 22ms/step - loss: 0.8610 - accuracy: 0.6761 - val_loss: 1.6936 - val_accuracy: 0.5172\n",
            "32/32 [==============================] - 0s 8ms/step - loss: 1.6616 - accuracy: 0.5107\n",
            "Image-to-Text Model Test Accuracy: 0.5106666684150696\n",
            "Training model with LSTM units: 256, Dropout rate: 0.5, Convolutional filters: 32\n",
            "Model: \"sequential_10\"\n",
            "_________________________________________________________________\n",
            " Layer (type)                Output Shape              Param #   \n",
            "=================================================================\n",
            " time_distributed_18 (TimeD  (None, None, 26, 26, 32   320       \n",
            " istributed)                 )                                   \n",
            "                                                                 \n",
            " time_distributed_19 (TimeD  (None, None, 21632)       0         \n",
            " istributed)                                                     \n",
            "                                                                 \n",
            " lstm_20 (LSTM)              (None, 256)               22414336  \n",
            "                                                                 \n",
            " dropout_8 (Dropout)         (None, 256)               0         \n",
            "                                                                 \n",
            " repeat_vector_10 (RepeatVe  (None, 3, 256)            0         \n",
            " ctor)                                                           \n",
            "                                                                 \n",
            " lstm_21 (LSTM)              (None, 3, 256)            525312    \n",
            "                                                                 \n",
            " dropout_9 (Dropout)         (None, 3, 256)            0         \n",
            "                                                                 \n",
            " time_distributed_20 (TimeD  (None, 3, 13)             3341      \n",
            " istributed)                                                     \n",
            "                                                                 \n",
            "=================================================================\n",
            "Total params: 22943309 (87.52 MB)\n",
            "Trainable params: 22943309 (87.52 MB)\n",
            "Non-trainable params: 0 (0.00 Byte)\n",
            "_________________________________________________________________\n",
            "Epoch 1/20\n",
            "475/475 [==============================] - 15s 25ms/step - loss: 1.9844 - accuracy: 0.3598 - val_loss: 1.7286 - val_accuracy: 0.4027\n",
            "Epoch 2/20\n",
            "475/475 [==============================] - 10s 22ms/step - loss: 1.6471 - accuracy: 0.4206 - val_loss: 1.5470 - val_accuracy: 0.4468\n",
            "Epoch 3/20\n",
            "475/475 [==============================] - 11s 23ms/step - loss: 1.4828 - accuracy: 0.4606 - val_loss: 1.4573 - val_accuracy: 0.4716\n",
            "Epoch 4/20\n",
            "475/475 [==============================] - 10s 22ms/step - loss: 1.3624 - accuracy: 0.4911 - val_loss: 1.4332 - val_accuracy: 0.4818\n",
            "Epoch 5/20\n",
            "475/475 [==============================] - 10s 22ms/step - loss: 1.2840 - accuracy: 0.5146 - val_loss: 1.3970 - val_accuracy: 0.5016\n",
            "Epoch 6/20\n",
            "475/475 [==============================] - 10s 22ms/step - loss: 1.2169 - accuracy: 0.5371 - val_loss: 1.4328 - val_accuracy: 0.4977\n",
            "Epoch 7/20\n",
            "475/475 [==============================] - 11s 23ms/step - loss: 1.1741 - accuracy: 0.5531 - val_loss: 1.3998 - val_accuracy: 0.5057\n",
            "Epoch 8/20\n",
            "475/475 [==============================] - 11s 23ms/step - loss: 1.1252 - accuracy: 0.5666 - val_loss: 1.4208 - val_accuracy: 0.5121\n",
            "Epoch 9/20\n",
            "475/475 [==============================] - 11s 23ms/step - loss: 1.0868 - accuracy: 0.5839 - val_loss: 1.4188 - val_accuracy: 0.5186\n",
            "Epoch 10/20\n",
            "475/475 [==============================] - 10s 22ms/step - loss: 1.0630 - accuracy: 0.5914 - val_loss: 1.4546 - val_accuracy: 0.5116\n",
            "Epoch 11/20\n",
            "475/475 [==============================] - 11s 23ms/step - loss: 1.0314 - accuracy: 0.6069 - val_loss: 1.4497 - val_accuracy: 0.5177\n",
            "Epoch 12/20\n",
            "475/475 [==============================] - 11s 22ms/step - loss: 1.0052 - accuracy: 0.6135 - val_loss: 1.4705 - val_accuracy: 0.5227\n",
            "Epoch 13/20\n",
            "475/475 [==============================] - 10s 22ms/step - loss: 0.9852 - accuracy: 0.6246 - val_loss: 1.4844 - val_accuracy: 0.5299\n",
            "Epoch 14/20\n",
            "475/475 [==============================] - 10s 22ms/step - loss: 0.9665 - accuracy: 0.6313 - val_loss: 1.5206 - val_accuracy: 0.5246\n",
            "Epoch 15/20\n",
            "475/475 [==============================] - 10s 22ms/step - loss: 0.9498 - accuracy: 0.6382 - val_loss: 1.5474 - val_accuracy: 0.5232\n",
            "Epoch 16/20\n",
            "475/475 [==============================] - 10s 22ms/step - loss: 0.9343 - accuracy: 0.6463 - val_loss: 1.5594 - val_accuracy: 0.5316\n",
            "Epoch 17/20\n",
            "475/475 [==============================] - 10s 22ms/step - loss: 0.9191 - accuracy: 0.6516 - val_loss: 1.5614 - val_accuracy: 0.5277\n",
            "Epoch 18/20\n",
            "475/475 [==============================] - 10s 22ms/step - loss: 0.9069 - accuracy: 0.6566 - val_loss: 1.6175 - val_accuracy: 0.5233\n",
            "Epoch 19/20\n",
            "475/475 [==============================] - 11s 23ms/step - loss: 0.8921 - accuracy: 0.6632 - val_loss: 1.6009 - val_accuracy: 0.5300\n",
            "Epoch 20/20\n",
            "475/475 [==============================] - 10s 22ms/step - loss: 0.8782 - accuracy: 0.6680 - val_loss: 1.6423 - val_accuracy: 0.5313\n",
            "32/32 [==============================] - 0s 11ms/step - loss: 1.6392 - accuracy: 0.5253\n",
            "Image-to-Text Model Test Accuracy: 0.5253333449363708\n",
            "Training model with LSTM units: 256, Dropout rate: 0.5, Convolutional filters: 64\n",
            "Model: \"sequential_11\"\n",
            "_________________________________________________________________\n",
            " Layer (type)                Output Shape              Param #   \n",
            "=================================================================\n",
            " time_distributed_21 (TimeD  (None, None, 26, 26, 32   320       \n",
            " istributed)                 )                                   \n",
            "                                                                 \n",
            " time_distributed_22 (TimeD  (None, None, 21632)       0         \n",
            " istributed)                                                     \n",
            "                                                                 \n",
            " lstm_22 (LSTM)              (None, 256)               22414336  \n",
            "                                                                 \n",
            " dropout_10 (Dropout)        (None, 256)               0         \n",
            "                                                                 \n",
            " repeat_vector_11 (RepeatVe  (None, 3, 256)            0         \n",
            " ctor)                                                           \n",
            "                                                                 \n",
            " lstm_23 (LSTM)              (None, 3, 256)            525312    \n",
            "                                                                 \n",
            " dropout_11 (Dropout)        (None, 3, 256)            0         \n",
            "                                                                 \n",
            " time_distributed_23 (TimeD  (None, 3, 13)             3341      \n",
            " istributed)                                                     \n",
            "                                                                 \n",
            "=================================================================\n",
            "Total params: 22943309 (87.52 MB)\n",
            "Trainable params: 22943309 (87.52 MB)\n",
            "Non-trainable params: 0 (0.00 Byte)\n",
            "_________________________________________________________________\n",
            "Epoch 1/20\n",
            "475/475 [==============================] - 15s 24ms/step - loss: 1.9734 - accuracy: 0.3602 - val_loss: 1.6952 - val_accuracy: 0.4038\n",
            "Epoch 2/20\n",
            "475/475 [==============================] - 10s 22ms/step - loss: 1.6373 - accuracy: 0.4219 - val_loss: 1.5311 - val_accuracy: 0.4437\n",
            "Epoch 3/20\n",
            "475/475 [==============================] - 10s 22ms/step - loss: 1.4756 - accuracy: 0.4618 - val_loss: 1.4786 - val_accuracy: 0.4651\n",
            "Epoch 4/20\n",
            "475/475 [==============================] - 10s 22ms/step - loss: 1.3630 - accuracy: 0.4935 - val_loss: 1.4128 - val_accuracy: 0.4855\n",
            "Epoch 5/20\n",
            "475/475 [==============================] - 11s 23ms/step - loss: 1.2815 - accuracy: 0.5143 - val_loss: 1.4017 - val_accuracy: 0.4946\n",
            "Epoch 6/20\n",
            "475/475 [==============================] - 11s 23ms/step - loss: 1.2204 - accuracy: 0.5384 - val_loss: 1.3854 - val_accuracy: 0.5087\n",
            "Epoch 7/20\n",
            "475/475 [==============================] - 11s 22ms/step - loss: 1.1672 - accuracy: 0.5554 - val_loss: 1.3861 - val_accuracy: 0.5145\n",
            "Epoch 8/20\n",
            "475/475 [==============================] - 10s 22ms/step - loss: 1.1256 - accuracy: 0.5679 - val_loss: 1.4263 - val_accuracy: 0.5136\n",
            "Epoch 9/20\n",
            "475/475 [==============================] - 11s 23ms/step - loss: 1.0920 - accuracy: 0.5802 - val_loss: 1.4188 - val_accuracy: 0.5157\n",
            "Epoch 10/20\n",
            "475/475 [==============================] - 11s 22ms/step - loss: 1.0570 - accuracy: 0.5960 - val_loss: 1.4266 - val_accuracy: 0.5218\n",
            "Epoch 11/20\n",
            "475/475 [==============================] - 11s 22ms/step - loss: 1.0278 - accuracy: 0.6078 - val_loss: 1.4369 - val_accuracy: 0.5237\n",
            "Epoch 12/20\n",
            "475/475 [==============================] - 10s 22ms/step - loss: 1.0045 - accuracy: 0.6150 - val_loss: 1.4809 - val_accuracy: 0.5218\n",
            "Epoch 13/20\n",
            "475/475 [==============================] - 11s 23ms/step - loss: 0.9828 - accuracy: 0.6242 - val_loss: 1.5062 - val_accuracy: 0.5212\n",
            "Epoch 14/20\n",
            "475/475 [==============================] - 10s 22ms/step - loss: 0.9705 - accuracy: 0.6306 - val_loss: 1.4852 - val_accuracy: 0.5265\n",
            "Epoch 15/20\n",
            "475/475 [==============================] - 10s 22ms/step - loss: 0.9494 - accuracy: 0.6380 - val_loss: 1.5029 - val_accuracy: 0.5313\n",
            "Epoch 16/20\n",
            "475/475 [==============================] - 11s 23ms/step - loss: 0.9242 - accuracy: 0.6478 - val_loss: 1.5537 - val_accuracy: 0.5210\n",
            "Epoch 17/20\n",
            "475/475 [==============================] - 10s 22ms/step - loss: 0.9153 - accuracy: 0.6530 - val_loss: 1.5866 - val_accuracy: 0.5200\n",
            "Epoch 18/20\n",
            "475/475 [==============================] - 11s 23ms/step - loss: 0.8996 - accuracy: 0.6595 - val_loss: 1.6181 - val_accuracy: 0.5190\n",
            "Epoch 19/20\n",
            "475/475 [==============================] - 11s 22ms/step - loss: 0.8858 - accuracy: 0.6665 - val_loss: 1.6151 - val_accuracy: 0.5207\n",
            "Epoch 20/20\n",
            "475/475 [==============================] - 10s 22ms/step - loss: 0.8670 - accuracy: 0.6720 - val_loss: 1.6359 - val_accuracy: 0.5225\n",
            "32/32 [==============================] - 0s 10ms/step - loss: 1.6300 - accuracy: 0.5197\n",
            "Image-to-Text Model Test Accuracy: 0.5196666717529297\n",
            "Training model with LSTM units: 256, Dropout rate: 0.8, Convolutional filters: 16\n",
            "Model: \"sequential_12\"\n",
            "_________________________________________________________________\n",
            " Layer (type)                Output Shape              Param #   \n",
            "=================================================================\n",
            " time_distributed_24 (TimeD  (None, None, 26, 26, 32   320       \n",
            " istributed)                 )                                   \n",
            "                                                                 \n",
            " time_distributed_25 (TimeD  (None, None, 21632)       0         \n",
            " istributed)                                                     \n",
            "                                                                 \n",
            " lstm_24 (LSTM)              (None, 256)               22414336  \n",
            "                                                                 \n",
            " dropout_12 (Dropout)        (None, 256)               0         \n",
            "                                                                 \n",
            " repeat_vector_12 (RepeatVe  (None, 3, 256)            0         \n",
            " ctor)                                                           \n",
            "                                                                 \n",
            " lstm_25 (LSTM)              (None, 3, 256)            525312    \n",
            "                                                                 \n",
            " dropout_13 (Dropout)        (None, 3, 256)            0         \n",
            "                                                                 \n",
            " time_distributed_26 (TimeD  (None, 3, 13)             3341      \n",
            " istributed)                                                     \n",
            "                                                                 \n",
            "=================================================================\n",
            "Total params: 22943309 (87.52 MB)\n",
            "Trainable params: 22943309 (87.52 MB)\n",
            "Non-trainable params: 0 (0.00 Byte)\n",
            "_________________________________________________________________\n",
            "Epoch 1/20\n",
            "475/475 [==============================] - 17s 25ms/step - loss: 2.1690 - accuracy: 0.3114 - val_loss: 1.9299 - val_accuracy: 0.3890\n",
            "Epoch 2/20\n",
            "475/475 [==============================] - 11s 23ms/step - loss: 1.8665 - accuracy: 0.3880 - val_loss: 1.6963 - val_accuracy: 0.4024\n",
            "Epoch 3/20\n",
            "475/475 [==============================] - 11s 23ms/step - loss: 1.6852 - accuracy: 0.4093 - val_loss: 1.6153 - val_accuracy: 0.4258\n",
            "Epoch 4/20\n",
            "475/475 [==============================] - 10s 22ms/step - loss: 1.5766 - accuracy: 0.4310 - val_loss: 1.5878 - val_accuracy: 0.4351\n",
            "Epoch 5/20\n",
            "475/475 [==============================] - 11s 22ms/step - loss: 1.5016 - accuracy: 0.4477 - val_loss: 1.5476 - val_accuracy: 0.4447\n",
            "Epoch 6/20\n",
            "475/475 [==============================] - 10s 22ms/step - loss: 1.4417 - accuracy: 0.4629 - val_loss: 1.5227 - val_accuracy: 0.4639\n",
            "Epoch 7/20\n",
            "475/475 [==============================] - 11s 23ms/step - loss: 1.3963 - accuracy: 0.4754 - val_loss: 1.5368 - val_accuracy: 0.4623\n",
            "Epoch 8/20\n",
            "475/475 [==============================] - 11s 23ms/step - loss: 1.3619 - accuracy: 0.4854 - val_loss: 1.5278 - val_accuracy: 0.4720\n",
            "Epoch 9/20\n",
            "475/475 [==============================] - 10s 22ms/step - loss: 1.3316 - accuracy: 0.4939 - val_loss: 1.5333 - val_accuracy: 0.4766\n",
            "Epoch 10/20\n",
            "475/475 [==============================] - 11s 23ms/step - loss: 1.3036 - accuracy: 0.5036 - val_loss: 1.5016 - val_accuracy: 0.4809\n",
            "Epoch 11/20\n",
            "475/475 [==============================] - 10s 22ms/step - loss: 1.2753 - accuracy: 0.5093 - val_loss: 1.5304 - val_accuracy: 0.4845\n",
            "Epoch 12/20\n",
            "475/475 [==============================] - 10s 22ms/step - loss: 1.2510 - accuracy: 0.5165 - val_loss: 1.5098 - val_accuracy: 0.4916\n",
            "Epoch 13/20\n",
            "475/475 [==============================] - 11s 23ms/step - loss: 1.2371 - accuracy: 0.5219 - val_loss: 1.5286 - val_accuracy: 0.4895\n",
            "Epoch 14/20\n",
            "475/475 [==============================] - 10s 22ms/step - loss: 1.2113 - accuracy: 0.5257 - val_loss: 1.5290 - val_accuracy: 0.4925\n",
            "Epoch 15/20\n",
            "475/475 [==============================] - 10s 22ms/step - loss: 1.1909 - accuracy: 0.5336 - val_loss: 1.5407 - val_accuracy: 0.4979\n",
            "Epoch 16/20\n",
            "475/475 [==============================] - 11s 23ms/step - loss: 1.1747 - accuracy: 0.5388 - val_loss: 1.5840 - val_accuracy: 0.4874\n",
            "Epoch 17/20\n",
            "475/475 [==============================] - 10s 22ms/step - loss: 1.1599 - accuracy: 0.5465 - val_loss: 1.5553 - val_accuracy: 0.4982\n",
            "Epoch 18/20\n",
            "475/475 [==============================] - 10s 22ms/step - loss: 1.1442 - accuracy: 0.5504 - val_loss: 1.5564 - val_accuracy: 0.4989\n",
            "Epoch 19/20\n",
            "475/475 [==============================] - 10s 22ms/step - loss: 1.1314 - accuracy: 0.5531 - val_loss: 1.6096 - val_accuracy: 0.4925\n",
            "Epoch 20/20\n",
            "475/475 [==============================] - 11s 23ms/step - loss: 1.1174 - accuracy: 0.5596 - val_loss: 1.5975 - val_accuracy: 0.4971\n",
            "32/32 [==============================] - 0s 10ms/step - loss: 1.6345 - accuracy: 0.4913\n",
            "Image-to-Text Model Test Accuracy: 0.49133333563804626\n",
            "Training model with LSTM units: 256, Dropout rate: 0.8, Convolutional filters: 32\n",
            "Model: \"sequential_13\"\n",
            "_________________________________________________________________\n",
            " Layer (type)                Output Shape              Param #   \n",
            "=================================================================\n",
            " time_distributed_27 (TimeD  (None, None, 26, 26, 32   320       \n",
            " istributed)                 )                                   \n",
            "                                                                 \n",
            " time_distributed_28 (TimeD  (None, None, 21632)       0         \n",
            " istributed)                                                     \n",
            "                                                                 \n",
            " lstm_26 (LSTM)              (None, 256)               22414336  \n",
            "                                                                 \n",
            " dropout_14 (Dropout)        (None, 256)               0         \n",
            "                                                                 \n",
            " repeat_vector_13 (RepeatVe  (None, 3, 256)            0         \n",
            " ctor)                                                           \n",
            "                                                                 \n",
            " lstm_27 (LSTM)              (None, 3, 256)            525312    \n",
            "                                                                 \n",
            " dropout_15 (Dropout)        (None, 3, 256)            0         \n",
            "                                                                 \n",
            " time_distributed_29 (TimeD  (None, 3, 13)             3341      \n",
            " istributed)                                                     \n",
            "                                                                 \n",
            "=================================================================\n",
            "Total params: 22943309 (87.52 MB)\n",
            "Trainable params: 22943309 (87.52 MB)\n",
            "Non-trainable params: 0 (0.00 Byte)\n",
            "_________________________________________________________________\n",
            "Epoch 1/20\n",
            "475/475 [==============================] - 14s 24ms/step - loss: 2.1593 - accuracy: 0.3189 - val_loss: 1.9168 - val_accuracy: 0.3912\n",
            "Epoch 2/20\n",
            "475/475 [==============================] - 11s 23ms/step - loss: 1.8757 - accuracy: 0.3867 - val_loss: 1.7255 - val_accuracy: 0.4011\n",
            "Epoch 3/20\n",
            "475/475 [==============================] - 10s 22ms/step - loss: 1.7069 - accuracy: 0.4070 - val_loss: 1.6227 - val_accuracy: 0.4220\n",
            "Epoch 4/20\n",
            "475/475 [==============================] - 10s 22ms/step - loss: 1.5998 - accuracy: 0.4250 - val_loss: 1.5784 - val_accuracy: 0.4351\n",
            "Epoch 5/20\n",
            "475/475 [==============================] - 10s 22ms/step - loss: 1.5188 - accuracy: 0.4448 - val_loss: 1.5519 - val_accuracy: 0.4407\n",
            "Epoch 6/20\n",
            "475/475 [==============================] - 10s 22ms/step - loss: 1.4562 - accuracy: 0.4596 - val_loss: 1.5311 - val_accuracy: 0.4527\n",
            "Epoch 7/20\n",
            "475/475 [==============================] - 10s 22ms/step - loss: 1.4079 - accuracy: 0.4719 - val_loss: 1.5336 - val_accuracy: 0.4598\n",
            "Epoch 8/20\n",
            "475/475 [==============================] - 10s 22ms/step - loss: 1.3764 - accuracy: 0.4802 - val_loss: 1.5248 - val_accuracy: 0.4668\n",
            "Epoch 9/20\n",
            "475/475 [==============================] - 11s 23ms/step - loss: 1.3430 - accuracy: 0.4899 - val_loss: 1.5306 - val_accuracy: 0.4732\n",
            "Epoch 10/20\n",
            "475/475 [==============================] - 11s 23ms/step - loss: 1.3160 - accuracy: 0.4948 - val_loss: 1.5171 - val_accuracy: 0.4774\n",
            "Epoch 11/20\n",
            "475/475 [==============================] - 11s 22ms/step - loss: 1.2850 - accuracy: 0.5055 - val_loss: 1.5050 - val_accuracy: 0.4825\n",
            "Epoch 12/20\n",
            "475/475 [==============================] - 11s 23ms/step - loss: 1.2655 - accuracy: 0.5121 - val_loss: 1.5083 - val_accuracy: 0.4872\n",
            "Epoch 13/20\n",
            "475/475 [==============================] - 10s 22ms/step - loss: 1.2394 - accuracy: 0.5187 - val_loss: 1.5215 - val_accuracy: 0.4862\n",
            "Epoch 14/20\n",
            "475/475 [==============================] - 11s 23ms/step - loss: 1.2186 - accuracy: 0.5257 - val_loss: 1.5300 - val_accuracy: 0.4862\n",
            "Epoch 15/20\n",
            "475/475 [==============================] - 10s 22ms/step - loss: 1.2033 - accuracy: 0.5283 - val_loss: 1.5621 - val_accuracy: 0.4849\n",
            "Epoch 16/20\n",
            "475/475 [==============================] - 11s 23ms/step - loss: 1.1842 - accuracy: 0.5346 - val_loss: 1.5773 - val_accuracy: 0.4870\n",
            "Epoch 17/20\n",
            "475/475 [==============================] - 11s 23ms/step - loss: 1.1656 - accuracy: 0.5417 - val_loss: 1.5626 - val_accuracy: 0.4865\n",
            "Epoch 18/20\n",
            "475/475 [==============================] - 11s 23ms/step - loss: 1.1475 - accuracy: 0.5468 - val_loss: 1.5829 - val_accuracy: 0.4862\n",
            "Epoch 19/20\n",
            "475/475 [==============================] - 11s 23ms/step - loss: 1.1370 - accuracy: 0.5478 - val_loss: 1.5977 - val_accuracy: 0.4954\n",
            "Epoch 20/20\n",
            "475/475 [==============================] - 11s 23ms/step - loss: 1.1249 - accuracy: 0.5558 - val_loss: 1.5999 - val_accuracy: 0.5011\n",
            "32/32 [==============================] - 0s 10ms/step - loss: 1.6594 - accuracy: 0.4850\n",
            "Image-to-Text Model Test Accuracy: 0.48500001430511475\n",
            "Training model with LSTM units: 256, Dropout rate: 0.8, Convolutional filters: 64\n",
            "Model: \"sequential_14\"\n",
            "_________________________________________________________________\n",
            " Layer (type)                Output Shape              Param #   \n",
            "=================================================================\n",
            " time_distributed_30 (TimeD  (None, None, 26, 26, 32   320       \n",
            " istributed)                 )                                   \n",
            "                                                                 \n",
            " time_distributed_31 (TimeD  (None, None, 21632)       0         \n",
            " istributed)                                                     \n",
            "                                                                 \n",
            " lstm_28 (LSTM)              (None, 256)               22414336  \n",
            "                                                                 \n",
            " dropout_16 (Dropout)        (None, 256)               0         \n",
            "                                                                 \n",
            " repeat_vector_14 (RepeatVe  (None, 3, 256)            0         \n",
            " ctor)                                                           \n",
            "                                                                 \n",
            " lstm_29 (LSTM)              (None, 3, 256)            525312    \n",
            "                                                                 \n",
            " dropout_17 (Dropout)        (None, 3, 256)            0         \n",
            "                                                                 \n",
            " time_distributed_32 (TimeD  (None, 3, 13)             3341      \n",
            " istributed)                                                     \n",
            "                                                                 \n",
            "=================================================================\n",
            "Total params: 22943309 (87.52 MB)\n",
            "Trainable params: 22943309 (87.52 MB)\n",
            "Non-trainable params: 0 (0.00 Byte)\n",
            "_________________________________________________________________\n",
            "Epoch 1/20\n",
            "475/475 [==============================] - 16s 25ms/step - loss: 2.1643 - accuracy: 0.3142 - val_loss: 1.9301 - val_accuracy: 0.3900\n",
            "Epoch 2/20\n",
            "475/475 [==============================] - 10s 22ms/step - loss: 1.8847 - accuracy: 0.3866 - val_loss: 1.7340 - val_accuracy: 0.3977\n",
            "Epoch 3/20\n",
            "475/475 [==============================] - 11s 23ms/step - loss: 1.7043 - accuracy: 0.4071 - val_loss: 1.6277 - val_accuracy: 0.4240\n",
            "Epoch 4/20\n",
            "475/475 [==============================] - 11s 22ms/step - loss: 1.5869 - accuracy: 0.4294 - val_loss: 1.5723 - val_accuracy: 0.4347\n",
            "Epoch 5/20\n",
            "475/475 [==============================] - 11s 23ms/step - loss: 1.5167 - accuracy: 0.4463 - val_loss: 1.5537 - val_accuracy: 0.4387\n",
            "Epoch 6/20\n",
            "475/475 [==============================] - 10s 22ms/step - loss: 1.4490 - accuracy: 0.4634 - val_loss: 1.5237 - val_accuracy: 0.4570\n",
            "Epoch 7/20\n",
            "475/475 [==============================] - 10s 22ms/step - loss: 1.4105 - accuracy: 0.4713 - val_loss: 1.5441 - val_accuracy: 0.4602\n",
            "Epoch 8/20\n",
            "475/475 [==============================] - 11s 23ms/step - loss: 1.3683 - accuracy: 0.4813 - val_loss: 1.5444 - val_accuracy: 0.4633\n",
            "Epoch 9/20\n",
            "475/475 [==============================] - 10s 22ms/step - loss: 1.3376 - accuracy: 0.4902 - val_loss: 1.5148 - val_accuracy: 0.4675\n",
            "Epoch 10/20\n",
            "475/475 [==============================] - 10s 22ms/step - loss: 1.3122 - accuracy: 0.4971 - val_loss: 1.4891 - val_accuracy: 0.4839\n",
            "Epoch 11/20\n",
            "475/475 [==============================] - 11s 22ms/step - loss: 1.2861 - accuracy: 0.5041 - val_loss: 1.5241 - val_accuracy: 0.4809\n",
            "Epoch 12/20\n",
            "475/475 [==============================] - 10s 22ms/step - loss: 1.2644 - accuracy: 0.5129 - val_loss: 1.4952 - val_accuracy: 0.4889\n",
            "Epoch 13/20\n",
            "475/475 [==============================] - 11s 23ms/step - loss: 1.2399 - accuracy: 0.5179 - val_loss: 1.5370 - val_accuracy: 0.4889\n",
            "Epoch 14/20\n",
            "475/475 [==============================] - 11s 23ms/step - loss: 1.2248 - accuracy: 0.5239 - val_loss: 1.5069 - val_accuracy: 0.4903\n",
            "Epoch 15/20\n",
            "475/475 [==============================] - 10s 22ms/step - loss: 1.2004 - accuracy: 0.5303 - val_loss: 1.5249 - val_accuracy: 0.4925\n",
            "Epoch 16/20\n",
            "475/475 [==============================] - 11s 23ms/step - loss: 1.1809 - accuracy: 0.5370 - val_loss: 1.5268 - val_accuracy: 0.4976\n",
            "Epoch 17/20\n",
            "475/475 [==============================] - 11s 23ms/step - loss: 1.1698 - accuracy: 0.5402 - val_loss: 1.5765 - val_accuracy: 0.4857\n",
            "Epoch 18/20\n",
            "475/475 [==============================] - 11s 23ms/step - loss: 1.1487 - accuracy: 0.5457 - val_loss: 1.5647 - val_accuracy: 0.4958\n",
            "Epoch 19/20\n",
            "475/475 [==============================] - 11s 22ms/step - loss: 1.1368 - accuracy: 0.5499 - val_loss: 1.5594 - val_accuracy: 0.4959\n",
            "Epoch 20/20\n",
            "475/475 [==============================] - 11s 23ms/step - loss: 1.1191 - accuracy: 0.5552 - val_loss: 1.5861 - val_accuracy: 0.5015\n",
            "32/32 [==============================] - 0s 11ms/step - loss: 1.6185 - accuracy: 0.4993\n",
            "Image-to-Text Model Test Accuracy: 0.49933332204818726\n",
            "Training model with LSTM units: 512, Dropout rate: 0.3, Convolutional filters: 16\n",
            "Model: \"sequential_15\"\n",
            "_________________________________________________________________\n",
            " Layer (type)                Output Shape              Param #   \n",
            "=================================================================\n",
            " time_distributed_33 (TimeD  (None, None, 26, 26, 32   320       \n",
            " istributed)                 )                                   \n",
            "                                                                 \n",
            " time_distributed_34 (TimeD  (None, None, 21632)       0         \n",
            " istributed)                                                     \n",
            "                                                                 \n",
            " lstm_30 (LSTM)              (None, 512)               45352960  \n",
            "                                                                 \n",
            " dropout_18 (Dropout)        (None, 512)               0         \n",
            "                                                                 \n",
            " repeat_vector_15 (RepeatVe  (None, 3, 512)            0         \n",
            " ctor)                                                           \n",
            "                                                                 \n",
            " lstm_31 (LSTM)              (None, 3, 512)            2099200   \n",
            "                                                                 \n",
            " dropout_19 (Dropout)        (None, 3, 512)            0         \n",
            "                                                                 \n",
            " time_distributed_35 (TimeD  (None, 3, 13)             6669      \n",
            " istributed)                                                     \n",
            "                                                                 \n",
            "=================================================================\n",
            "Total params: 47459149 (181.04 MB)\n",
            "Trainable params: 47459149 (181.04 MB)\n",
            "Non-trainable params: 0 (0.00 Byte)\n",
            "_________________________________________________________________\n",
            "Epoch 1/20\n",
            "475/475 [==============================] - 24s 44ms/step - loss: 1.8415 - accuracy: 0.3873 - val_loss: 1.6223 - val_accuracy: 0.4260\n",
            "Epoch 2/20\n",
            "475/475 [==============================] - 20s 42ms/step - loss: 1.5186 - accuracy: 0.4504 - val_loss: 1.4620 - val_accuracy: 0.4689\n",
            "Epoch 3/20\n",
            "475/475 [==============================] - 20s 41ms/step - loss: 1.3566 - accuracy: 0.4990 - val_loss: 1.3723 - val_accuracy: 0.5053\n",
            "Epoch 4/20\n",
            "475/475 [==============================] - 20s 41ms/step - loss: 1.2430 - accuracy: 0.5353 - val_loss: 1.3363 - val_accuracy: 0.5155\n",
            "Epoch 5/20\n",
            "475/475 [==============================] - 20s 43ms/step - loss: 1.1442 - accuracy: 0.5698 - val_loss: 1.3579 - val_accuracy: 0.5173\n",
            "Epoch 6/20\n",
            "475/475 [==============================] - 20s 41ms/step - loss: 1.0762 - accuracy: 0.5938 - val_loss: 1.3667 - val_accuracy: 0.5274\n",
            "Epoch 7/20\n",
            "475/475 [==============================] - 20s 41ms/step - loss: 1.0151 - accuracy: 0.6177 - val_loss: 1.3733 - val_accuracy: 0.5294\n",
            "Epoch 8/20\n",
            "475/475 [==============================] - 20s 42ms/step - loss: 0.9589 - accuracy: 0.6430 - val_loss: 1.4223 - val_accuracy: 0.5282\n",
            "Epoch 9/20\n",
            "475/475 [==============================] - 20s 42ms/step - loss: 0.9113 - accuracy: 0.6633 - val_loss: 1.4307 - val_accuracy: 0.5325\n",
            "Epoch 10/20\n",
            "475/475 [==============================] - 20s 42ms/step - loss: 0.8564 - accuracy: 0.6841 - val_loss: 1.5012 - val_accuracy: 0.5325\n",
            "Epoch 11/20\n",
            "475/475 [==============================] - 21s 44ms/step - loss: 0.7922 - accuracy: 0.7096 - val_loss: 1.5572 - val_accuracy: 0.5340\n",
            "Epoch 12/20\n",
            "475/475 [==============================] - 20s 42ms/step - loss: 0.7118 - accuracy: 0.7426 - val_loss: 1.6583 - val_accuracy: 0.5261\n",
            "Epoch 13/20\n",
            "475/475 [==============================] - 21s 44ms/step - loss: 0.6234 - accuracy: 0.7722 - val_loss: 1.7928 - val_accuracy: 0.5268\n",
            "Epoch 14/20\n",
            "475/475 [==============================] - 20s 42ms/step - loss: 0.5287 - accuracy: 0.8109 - val_loss: 1.9261 - val_accuracy: 0.5244\n",
            "Epoch 15/20\n",
            "475/475 [==============================] - 21s 44ms/step - loss: 0.4258 - accuracy: 0.8476 - val_loss: 2.1048 - val_accuracy: 0.5221\n",
            "Epoch 16/20\n",
            "475/475 [==============================] - 21s 44ms/step - loss: 0.3397 - accuracy: 0.8777 - val_loss: 2.2823 - val_accuracy: 0.5191\n",
            "Epoch 17/20\n",
            "475/475 [==============================] - 20s 42ms/step - loss: 0.2729 - accuracy: 0.9032 - val_loss: 2.4372 - val_accuracy: 0.5204\n",
            "Epoch 18/20\n",
            "475/475 [==============================] - 21s 44ms/step - loss: 0.2193 - accuracy: 0.9223 - val_loss: 2.5375 - val_accuracy: 0.5245\n",
            "Epoch 19/20\n",
            "475/475 [==============================] - 21s 44ms/step - loss: 0.1870 - accuracy: 0.9341 - val_loss: 2.7012 - val_accuracy: 0.5135\n",
            "Epoch 20/20\n",
            "475/475 [==============================] - 21s 44ms/step - loss: 0.1510 - accuracy: 0.9476 - val_loss: 2.7844 - val_accuracy: 0.5172\n",
            "32/32 [==============================] - 1s 17ms/step - loss: 2.7331 - accuracy: 0.5267\n",
            "Image-to-Text Model Test Accuracy: 0.5266666412353516\n",
            "Training model with LSTM units: 512, Dropout rate: 0.3, Convolutional filters: 32\n",
            "Model: \"sequential_16\"\n",
            "_________________________________________________________________\n",
            " Layer (type)                Output Shape              Param #   \n",
            "=================================================================\n",
            " time_distributed_36 (TimeD  (None, None, 26, 26, 32   320       \n",
            " istributed)                 )                                   \n",
            "                                                                 \n",
            " time_distributed_37 (TimeD  (None, None, 21632)       0         \n",
            " istributed)                                                     \n",
            "                                                                 \n",
            " lstm_32 (LSTM)              (None, 512)               45352960  \n",
            "                                                                 \n",
            " dropout_20 (Dropout)        (None, 512)               0         \n",
            "                                                                 \n",
            " repeat_vector_16 (RepeatVe  (None, 3, 512)            0         \n",
            " ctor)                                                           \n",
            "                                                                 \n",
            " lstm_33 (LSTM)              (None, 3, 512)            2099200   \n",
            "                                                                 \n",
            " dropout_21 (Dropout)        (None, 3, 512)            0         \n",
            "                                                                 \n",
            " time_distributed_38 (TimeD  (None, 3, 13)             6669      \n",
            " istributed)                                                     \n",
            "                                                                 \n",
            "=================================================================\n",
            "Total params: 47459149 (181.04 MB)\n",
            "Trainable params: 47459149 (181.04 MB)\n",
            "Non-trainable params: 0 (0.00 Byte)\n",
            "_________________________________________________________________\n",
            "Epoch 1/20\n",
            "475/475 [==============================] - 25s 46ms/step - loss: 1.8865 - accuracy: 0.3825 - val_loss: 1.6435 - val_accuracy: 0.4205\n",
            "Epoch 2/20\n",
            "475/475 [==============================] - 21s 44ms/step - loss: 1.5688 - accuracy: 0.4384 - val_loss: 1.4861 - val_accuracy: 0.4627\n",
            "Epoch 3/20\n",
            "475/475 [==============================] - 21s 44ms/step - loss: 1.4021 - accuracy: 0.4834 - val_loss: 1.3990 - val_accuracy: 0.4841\n",
            "Epoch 4/20\n",
            "475/475 [==============================] - 20s 42ms/step - loss: 1.2689 - accuracy: 0.5264 - val_loss: 1.3828 - val_accuracy: 0.5041\n",
            "Epoch 5/20\n",
            "475/475 [==============================] - 21s 44ms/step - loss: 1.1626 - accuracy: 0.5623 - val_loss: 1.3612 - val_accuracy: 0.5104\n",
            "Epoch 6/20\n",
            "475/475 [==============================] - 20s 42ms/step - loss: 1.0852 - accuracy: 0.5904 - val_loss: 1.4019 - val_accuracy: 0.5175\n",
            "Epoch 7/20\n",
            "475/475 [==============================] - 20s 42ms/step - loss: 1.0214 - accuracy: 0.6148 - val_loss: 1.3865 - val_accuracy: 0.5306\n",
            "Epoch 8/20\n",
            "475/475 [==============================] - 20s 42ms/step - loss: 0.9626 - accuracy: 0.6371 - val_loss: 1.4597 - val_accuracy: 0.5167\n",
            "Epoch 9/20\n",
            "475/475 [==============================] - 20s 42ms/step - loss: 0.9036 - accuracy: 0.6639 - val_loss: 1.4986 - val_accuracy: 0.5237\n",
            "Epoch 10/20\n",
            "475/475 [==============================] - 21s 44ms/step - loss: 0.8443 - accuracy: 0.6885 - val_loss: 1.5531 - val_accuracy: 0.5219\n",
            "Epoch 11/20\n",
            "475/475 [==============================] - 21s 44ms/step - loss: 0.7801 - accuracy: 0.7137 - val_loss: 1.6355 - val_accuracy: 0.5154\n",
            "Epoch 12/20\n",
            "475/475 [==============================] - 20s 42ms/step - loss: 0.6987 - accuracy: 0.7451 - val_loss: 1.7442 - val_accuracy: 0.5176\n",
            "Epoch 13/20\n",
            "475/475 [==============================] - 20s 42ms/step - loss: 0.6055 - accuracy: 0.7791 - val_loss: 1.8791 - val_accuracy: 0.5210\n",
            "Epoch 14/20\n",
            "475/475 [==============================] - 20s 42ms/step - loss: 0.5041 - accuracy: 0.8186 - val_loss: 2.0503 - val_accuracy: 0.5132\n",
            "Epoch 15/20\n",
            "475/475 [==============================] - 20s 42ms/step - loss: 0.4068 - accuracy: 0.8540 - val_loss: 2.2641 - val_accuracy: 0.5092\n",
            "Epoch 16/20\n",
            "475/475 [==============================] - 21s 44ms/step - loss: 0.3271 - accuracy: 0.8829 - val_loss: 2.3381 - val_accuracy: 0.5143\n",
            "Epoch 17/20\n",
            "475/475 [==============================] - 21s 44ms/step - loss: 0.2595 - accuracy: 0.9087 - val_loss: 2.5499 - val_accuracy: 0.5118\n",
            "Epoch 18/20\n",
            "475/475 [==============================] - 21s 44ms/step - loss: 0.2127 - accuracy: 0.9256 - val_loss: 2.6838 - val_accuracy: 0.5155\n",
            "Epoch 19/20\n",
            "475/475 [==============================] - 20s 42ms/step - loss: 0.1714 - accuracy: 0.9400 - val_loss: 2.8099 - val_accuracy: 0.5150\n",
            "Epoch 20/20\n",
            "475/475 [==============================] - 21s 44ms/step - loss: 0.1489 - accuracy: 0.9498 - val_loss: 2.9251 - val_accuracy: 0.5088\n",
            "32/32 [==============================] - 1s 17ms/step - loss: 2.9365 - accuracy: 0.5087\n",
            "Image-to-Text Model Test Accuracy: 0.5086666941642761\n",
            "Training model with LSTM units: 512, Dropout rate: 0.3, Convolutional filters: 64\n",
            "Model: \"sequential_17\"\n",
            "_________________________________________________________________\n",
            " Layer (type)                Output Shape              Param #   \n",
            "=================================================================\n",
            " time_distributed_39 (TimeD  (None, None, 26, 26, 32   320       \n",
            " istributed)                 )                                   \n",
            "                                                                 \n",
            " time_distributed_40 (TimeD  (None, None, 21632)       0         \n",
            " istributed)                                                     \n",
            "                                                                 \n",
            " lstm_34 (LSTM)              (None, 512)               45352960  \n",
            "                                                                 \n",
            " dropout_22 (Dropout)        (None, 512)               0         \n",
            "                                                                 \n",
            " repeat_vector_17 (RepeatVe  (None, 3, 512)            0         \n",
            " ctor)                                                           \n",
            "                                                                 \n",
            " lstm_35 (LSTM)              (None, 3, 512)            2099200   \n",
            "                                                                 \n",
            " dropout_23 (Dropout)        (None, 3, 512)            0         \n",
            "                                                                 \n",
            " time_distributed_41 (TimeD  (None, 3, 13)             6669      \n",
            " istributed)                                                     \n",
            "                                                                 \n",
            "=================================================================\n",
            "Total params: 47459149 (181.04 MB)\n",
            "Trainable params: 47459149 (181.04 MB)\n",
            "Non-trainable params: 0 (0.00 Byte)\n",
            "_________________________________________________________________\n",
            "Epoch 1/20\n",
            "475/475 [==============================] - 25s 47ms/step - loss: 1.8543 - accuracy: 0.3836 - val_loss: 1.6274 - val_accuracy: 0.4256\n",
            "Epoch 2/20\n",
            "475/475 [==============================] - 20s 42ms/step - loss: 1.5353 - accuracy: 0.4466 - val_loss: 1.4594 - val_accuracy: 0.4716\n",
            "Epoch 3/20\n",
            "475/475 [==============================] - 20s 42ms/step - loss: 1.3709 - accuracy: 0.4932 - val_loss: 1.4044 - val_accuracy: 0.4939\n",
            "Epoch 4/20\n",
            "475/475 [==============================] - 20s 42ms/step - loss: 1.2513 - accuracy: 0.5330 - val_loss: 1.3644 - val_accuracy: 0.5097\n",
            "Epoch 5/20\n",
            "475/475 [==============================] - 21s 44ms/step - loss: 1.1606 - accuracy: 0.5611 - val_loss: 1.3598 - val_accuracy: 0.5141\n",
            "Epoch 6/20\n",
            "475/475 [==============================] - 20s 42ms/step - loss: 1.0805 - accuracy: 0.5908 - val_loss: 1.3556 - val_accuracy: 0.5290\n",
            "Epoch 7/20\n",
            "475/475 [==============================] - 21s 44ms/step - loss: 1.0275 - accuracy: 0.6130 - val_loss: 1.4064 - val_accuracy: 0.5215\n",
            "Epoch 8/20\n",
            "475/475 [==============================] - 20s 42ms/step - loss: 0.9637 - accuracy: 0.6387 - val_loss: 1.4180 - val_accuracy: 0.5285\n",
            "Epoch 9/20\n",
            "475/475 [==============================] - 21s 44ms/step - loss: 0.9155 - accuracy: 0.6601 - val_loss: 1.4685 - val_accuracy: 0.5267\n",
            "Epoch 10/20\n",
            "475/475 [==============================] - 21s 44ms/step - loss: 0.8552 - accuracy: 0.6839 - val_loss: 1.5179 - val_accuracy: 0.5289\n",
            "Epoch 11/20\n",
            "475/475 [==============================] - 20s 42ms/step - loss: 0.7977 - accuracy: 0.7077 - val_loss: 1.5645 - val_accuracy: 0.5293\n",
            "Epoch 12/20\n",
            "475/475 [==============================] - 21s 44ms/step - loss: 0.7170 - accuracy: 0.7362 - val_loss: 1.6884 - val_accuracy: 0.5227\n",
            "Epoch 13/20\n",
            "475/475 [==============================] - 21s 44ms/step - loss: 0.6324 - accuracy: 0.7688 - val_loss: 1.7833 - val_accuracy: 0.5280\n",
            "Epoch 14/20\n",
            "475/475 [==============================] - 21s 44ms/step - loss: 0.5386 - accuracy: 0.8059 - val_loss: 1.9096 - val_accuracy: 0.5250\n",
            "Epoch 15/20\n",
            "475/475 [==============================] - 21s 44ms/step - loss: 0.4367 - accuracy: 0.8436 - val_loss: 2.0749 - val_accuracy: 0.5232\n",
            "Epoch 16/20\n",
            "475/475 [==============================] - 21s 44ms/step - loss: 0.3509 - accuracy: 0.8751 - val_loss: 2.2756 - val_accuracy: 0.5195\n",
            "Epoch 17/20\n",
            "475/475 [==============================] - 20s 42ms/step - loss: 0.2755 - accuracy: 0.9020 - val_loss: 2.4402 - val_accuracy: 0.5198\n",
            "Epoch 18/20\n",
            "475/475 [==============================] - 21s 44ms/step - loss: 0.2261 - accuracy: 0.9216 - val_loss: 2.5724 - val_accuracy: 0.5205\n",
            "Epoch 19/20\n",
            "475/475 [==============================] - 21s 44ms/step - loss: 0.1812 - accuracy: 0.9374 - val_loss: 2.6892 - val_accuracy: 0.5146\n",
            "Epoch 20/20\n",
            "475/475 [==============================] - 20s 42ms/step - loss: 0.1512 - accuracy: 0.9484 - val_loss: 2.8132 - val_accuracy: 0.5182\n",
            "32/32 [==============================] - 1s 18ms/step - loss: 2.8341 - accuracy: 0.5123\n",
            "Image-to-Text Model Test Accuracy: 0.512333333492279\n",
            "Training model with LSTM units: 512, Dropout rate: 0.5, Convolutional filters: 16\n",
            "Model: \"sequential_18\"\n",
            "_________________________________________________________________\n",
            " Layer (type)                Output Shape              Param #   \n",
            "=================================================================\n",
            " time_distributed_42 (TimeD  (None, None, 26, 26, 32   320       \n",
            " istributed)                 )                                   \n",
            "                                                                 \n",
            " time_distributed_43 (TimeD  (None, None, 21632)       0         \n",
            " istributed)                                                     \n",
            "                                                                 \n",
            " lstm_36 (LSTM)              (None, 512)               45352960  \n",
            "                                                                 \n",
            " dropout_24 (Dropout)        (None, 512)               0         \n",
            "                                                                 \n",
            " repeat_vector_18 (RepeatVe  (None, 3, 512)            0         \n",
            " ctor)                                                           \n",
            "                                                                 \n",
            " lstm_37 (LSTM)              (None, 3, 512)            2099200   \n",
            "                                                                 \n",
            " dropout_25 (Dropout)        (None, 3, 512)            0         \n",
            "                                                                 \n",
            " time_distributed_44 (TimeD  (None, 3, 13)             6669      \n",
            " istributed)                                                     \n",
            "                                                                 \n",
            "=================================================================\n",
            "Total params: 47459149 (181.04 MB)\n",
            "Trainable params: 47459149 (181.04 MB)\n",
            "Non-trainable params: 0 (0.00 Byte)\n",
            "_________________________________________________________________\n",
            "Epoch 1/20\n",
            "475/475 [==============================] - 24s 45ms/step - loss: 1.9171 - accuracy: 0.3732 - val_loss: 1.6336 - val_accuracy: 0.4225\n",
            "Epoch 2/20\n",
            "475/475 [==============================] - 20s 42ms/step - loss: 1.5726 - accuracy: 0.4366 - val_loss: 1.4694 - val_accuracy: 0.4647\n",
            "Epoch 3/20\n",
            "475/475 [==============================] - 21s 44ms/step - loss: 1.4106 - accuracy: 0.4815 - val_loss: 1.3976 - val_accuracy: 0.4903\n",
            "Epoch 4/20\n",
            "475/475 [==============================] - 20s 42ms/step - loss: 1.2952 - accuracy: 0.5163 - val_loss: 1.3747 - val_accuracy: 0.5089\n",
            "Epoch 5/20\n",
            "475/475 [==============================] - 21s 44ms/step - loss: 1.2064 - accuracy: 0.5427 - val_loss: 1.3394 - val_accuracy: 0.5232\n",
            "Epoch 6/20\n",
            "475/475 [==============================] - 20s 42ms/step - loss: 1.1442 - accuracy: 0.5641 - val_loss: 1.3485 - val_accuracy: 0.5238\n",
            "Epoch 7/20\n",
            "475/475 [==============================] - 20s 42ms/step - loss: 1.0887 - accuracy: 0.5841 - val_loss: 1.3421 - val_accuracy: 0.5350\n",
            "Epoch 8/20\n",
            "475/475 [==============================] - 20s 42ms/step - loss: 1.0459 - accuracy: 0.5999 - val_loss: 1.3871 - val_accuracy: 0.5301\n",
            "Epoch 9/20\n",
            "475/475 [==============================] - 21s 44ms/step - loss: 1.0047 - accuracy: 0.6148 - val_loss: 1.4039 - val_accuracy: 0.5336\n",
            "Epoch 10/20\n",
            "475/475 [==============================] - 20s 42ms/step - loss: 0.9776 - accuracy: 0.6266 - val_loss: 1.4172 - val_accuracy: 0.5362\n",
            "Epoch 11/20\n",
            "475/475 [==============================] - 21s 44ms/step - loss: 0.9452 - accuracy: 0.6395 - val_loss: 1.4398 - val_accuracy: 0.5356\n",
            "Epoch 12/20\n",
            "475/475 [==============================] - 20s 42ms/step - loss: 0.9202 - accuracy: 0.6512 - val_loss: 1.4540 - val_accuracy: 0.5342\n",
            "Epoch 13/20\n",
            "475/475 [==============================] - 21s 44ms/step - loss: 0.9014 - accuracy: 0.6608 - val_loss: 1.4724 - val_accuracy: 0.5374\n",
            "Epoch 14/20\n",
            "475/475 [==============================] - 20s 42ms/step - loss: 0.8628 - accuracy: 0.6764 - val_loss: 1.5230 - val_accuracy: 0.5410\n",
            "Epoch 15/20\n",
            "475/475 [==============================] - 20s 42ms/step - loss: 0.8434 - accuracy: 0.6858 - val_loss: 1.5638 - val_accuracy: 0.5377\n",
            "Epoch 16/20\n",
            "475/475 [==============================] - 20s 42ms/step - loss: 0.8167 - accuracy: 0.6916 - val_loss: 1.5795 - val_accuracy: 0.5405\n",
            "Epoch 17/20\n",
            "475/475 [==============================] - 20s 42ms/step - loss: 0.7871 - accuracy: 0.7060 - val_loss: 1.6272 - val_accuracy: 0.5351\n",
            "Epoch 18/20\n",
            "475/475 [==============================] - 20s 42ms/step - loss: 0.7593 - accuracy: 0.7145 - val_loss: 1.6745 - val_accuracy: 0.5382\n",
            "Epoch 19/20\n",
            "475/475 [==============================] - 20s 42ms/step - loss: 0.7247 - accuracy: 0.7259 - val_loss: 1.7023 - val_accuracy: 0.5364\n",
            "Epoch 20/20\n",
            "475/475 [==============================] - 21s 44ms/step - loss: 0.6908 - accuracy: 0.7382 - val_loss: 1.7649 - val_accuracy: 0.5339\n",
            "32/32 [==============================] - 1s 16ms/step - loss: 1.7631 - accuracy: 0.5270\n",
            "Image-to-Text Model Test Accuracy: 0.5270000100135803\n",
            "Training model with LSTM units: 512, Dropout rate: 0.5, Convolutional filters: 32\n",
            "Model: \"sequential_19\"\n",
            "_________________________________________________________________\n",
            " Layer (type)                Output Shape              Param #   \n",
            "=================================================================\n",
            " time_distributed_45 (TimeD  (None, None, 26, 26, 32   320       \n",
            " istributed)                 )                                   \n",
            "                                                                 \n",
            " time_distributed_46 (TimeD  (None, None, 21632)       0         \n",
            " istributed)                                                     \n",
            "                                                                 \n",
            " lstm_38 (LSTM)              (None, 512)               45352960  \n",
            "                                                                 \n",
            " dropout_26 (Dropout)        (None, 512)               0         \n",
            "                                                                 \n",
            " repeat_vector_19 (RepeatVe  (None, 3, 512)            0         \n",
            " ctor)                                                           \n",
            "                                                                 \n",
            " lstm_39 (LSTM)              (None, 3, 512)            2099200   \n",
            "                                                                 \n",
            " dropout_27 (Dropout)        (None, 3, 512)            0         \n",
            "                                                                 \n",
            " time_distributed_47 (TimeD  (None, 3, 13)             6669      \n",
            " istributed)                                                     \n",
            "                                                                 \n",
            "=================================================================\n",
            "Total params: 47459149 (181.04 MB)\n",
            "Trainable params: 47459149 (181.04 MB)\n",
            "Non-trainable params: 0 (0.00 Byte)\n",
            "_________________________________________________________________\n",
            "Epoch 1/20\n",
            "475/475 [==============================] - 24s 45ms/step - loss: 1.9112 - accuracy: 0.3736 - val_loss: 1.6404 - val_accuracy: 0.4186\n",
            "Epoch 2/20\n",
            "475/475 [==============================] - 20s 42ms/step - loss: 1.5744 - accuracy: 0.4359 - val_loss: 1.4884 - val_accuracy: 0.4581\n",
            "Epoch 3/20\n",
            "475/475 [==============================] - 21s 44ms/step - loss: 1.4123 - accuracy: 0.4831 - val_loss: 1.3989 - val_accuracy: 0.4857\n",
            "Epoch 4/20\n",
            "475/475 [==============================] - 21s 44ms/step - loss: 1.2938 - accuracy: 0.5161 - val_loss: 1.3548 - val_accuracy: 0.5112\n",
            "Epoch 5/20\n",
            "475/475 [==============================] - 21s 44ms/step - loss: 1.2085 - accuracy: 0.5417 - val_loss: 1.3445 - val_accuracy: 0.5142\n",
            "Epoch 6/20\n",
            "475/475 [==============================] - 21s 44ms/step - loss: 1.1423 - accuracy: 0.5661 - val_loss: 1.3369 - val_accuracy: 0.5246\n",
            "Epoch 7/20\n",
            "475/475 [==============================] - 21s 44ms/step - loss: 1.0953 - accuracy: 0.5813 - val_loss: 1.3664 - val_accuracy: 0.5277\n",
            "Epoch 8/20\n",
            "475/475 [==============================] - 21s 44ms/step - loss: 1.0444 - accuracy: 0.6001 - val_loss: 1.3706 - val_accuracy: 0.5369\n",
            "Epoch 9/20\n",
            "475/475 [==============================] - 20s 42ms/step - loss: 1.0104 - accuracy: 0.6148 - val_loss: 1.3853 - val_accuracy: 0.5345\n",
            "Epoch 10/20\n",
            "475/475 [==============================] - 21s 44ms/step - loss: 0.9720 - accuracy: 0.6297 - val_loss: 1.4071 - val_accuracy: 0.5401\n",
            "Epoch 11/20\n",
            "475/475 [==============================] - 21s 44ms/step - loss: 0.9475 - accuracy: 0.6398 - val_loss: 1.4242 - val_accuracy: 0.5425\n",
            "Epoch 12/20\n",
            "475/475 [==============================] - 20s 42ms/step - loss: 0.9190 - accuracy: 0.6542 - val_loss: 1.4748 - val_accuracy: 0.5406\n",
            "Epoch 13/20\n",
            "475/475 [==============================] - 20s 42ms/step - loss: 0.8927 - accuracy: 0.6616 - val_loss: 1.5091 - val_accuracy: 0.5389\n",
            "Epoch 14/20\n",
            "475/475 [==============================] - 21s 44ms/step - loss: 0.8765 - accuracy: 0.6684 - val_loss: 1.5383 - val_accuracy: 0.5378\n",
            "Epoch 15/20\n",
            "475/475 [==============================] - 20s 42ms/step - loss: 0.8484 - accuracy: 0.6818 - val_loss: 1.5453 - val_accuracy: 0.5417\n",
            "Epoch 16/20\n",
            "475/475 [==============================] - 21s 44ms/step - loss: 0.8276 - accuracy: 0.6897 - val_loss: 1.5999 - val_accuracy: 0.5344\n",
            "Epoch 17/20\n",
            "475/475 [==============================] - 21s 44ms/step - loss: 0.7997 - accuracy: 0.6992 - val_loss: 1.6123 - val_accuracy: 0.5317\n",
            "Epoch 18/20\n",
            "475/475 [==============================] - 21s 44ms/step - loss: 0.7676 - accuracy: 0.7124 - val_loss: 1.6529 - val_accuracy: 0.5377\n",
            "Epoch 19/20\n",
            "475/475 [==============================] - 20s 42ms/step - loss: 0.7284 - accuracy: 0.7244 - val_loss: 1.7025 - val_accuracy: 0.5379\n",
            "Epoch 20/20\n",
            "475/475 [==============================] - 21s 44ms/step - loss: 0.6987 - accuracy: 0.7353 - val_loss: 1.7561 - val_accuracy: 0.5359\n",
            "32/32 [==============================] - 1s 17ms/step - loss: 1.7866 - accuracy: 0.5250\n",
            "Image-to-Text Model Test Accuracy: 0.5249999761581421\n",
            "Training model with LSTM units: 512, Dropout rate: 0.5, Convolutional filters: 64\n",
            "Model: \"sequential_20\"\n",
            "_________________________________________________________________\n",
            " Layer (type)                Output Shape              Param #   \n",
            "=================================================================\n",
            " time_distributed_48 (TimeD  (None, None, 26, 26, 32   320       \n",
            " istributed)                 )                                   \n",
            "                                                                 \n",
            " time_distributed_49 (TimeD  (None, None, 21632)       0         \n",
            " istributed)                                                     \n",
            "                                                                 \n",
            " lstm_40 (LSTM)              (None, 512)               45352960  \n",
            "                                                                 \n",
            " dropout_28 (Dropout)        (None, 512)               0         \n",
            "                                                                 \n",
            " repeat_vector_20 (RepeatVe  (None, 3, 512)            0         \n",
            " ctor)                                                           \n",
            "                                                                 \n",
            " lstm_41 (LSTM)              (None, 3, 512)            2099200   \n",
            "                                                                 \n",
            " dropout_29 (Dropout)        (None, 3, 512)            0         \n",
            "                                                                 \n",
            " time_distributed_50 (TimeD  (None, 3, 13)             6669      \n",
            " istributed)                                                     \n",
            "                                                                 \n",
            "=================================================================\n",
            "Total params: 47459149 (181.04 MB)\n",
            "Trainable params: 47459149 (181.04 MB)\n",
            "Non-trainable params: 0 (0.00 Byte)\n",
            "_________________________________________________________________\n",
            "Epoch 1/20\n",
            "475/475 [==============================] - 24s 44ms/step - loss: 1.9026 - accuracy: 0.3738 - val_loss: 1.6469 - val_accuracy: 0.4221\n",
            "Epoch 2/20\n",
            "475/475 [==============================] - 21s 44ms/step - loss: 1.5681 - accuracy: 0.4410 - val_loss: 1.4820 - val_accuracy: 0.4582\n",
            "Epoch 3/20\n",
            "475/475 [==============================] - 21s 44ms/step - loss: 1.4047 - accuracy: 0.4829 - val_loss: 1.3985 - val_accuracy: 0.4931\n",
            "Epoch 4/20\n",
            "475/475 [==============================] - 20s 42ms/step - loss: 1.2883 - accuracy: 0.5156 - val_loss: 1.3485 - val_accuracy: 0.5096\n",
            "Epoch 5/20\n",
            "475/475 [==============================] - 21s 44ms/step - loss: 1.2032 - accuracy: 0.5446 - val_loss: 1.3490 - val_accuracy: 0.5194\n",
            "Epoch 6/20\n",
            "475/475 [==============================] - 20s 42ms/step - loss: 1.1335 - accuracy: 0.5682 - val_loss: 1.3562 - val_accuracy: 0.5217\n",
            "Epoch 7/20\n",
            "475/475 [==============================] - 20s 42ms/step - loss: 1.0825 - accuracy: 0.5882 - val_loss: 1.3688 - val_accuracy: 0.5282\n",
            "Epoch 8/20\n",
            "475/475 [==============================] - 20s 42ms/step - loss: 1.0400 - accuracy: 0.6029 - val_loss: 1.3847 - val_accuracy: 0.5264\n",
            "Epoch 9/20\n",
            "475/475 [==============================] - 20s 42ms/step - loss: 0.9959 - accuracy: 0.6202 - val_loss: 1.3801 - val_accuracy: 0.5405\n",
            "Epoch 10/20\n",
            "475/475 [==============================] - 20s 42ms/step - loss: 0.9627 - accuracy: 0.6335 - val_loss: 1.4303 - val_accuracy: 0.5306\n",
            "Epoch 11/20\n",
            "475/475 [==============================] - 20s 42ms/step - loss: 0.9357 - accuracy: 0.6471 - val_loss: 1.4495 - val_accuracy: 0.5410\n",
            "Epoch 12/20\n",
            "475/475 [==============================] - 20s 42ms/step - loss: 0.9019 - accuracy: 0.6589 - val_loss: 1.4869 - val_accuracy: 0.5346\n",
            "Epoch 13/20\n",
            "475/475 [==============================] - 20s 42ms/step - loss: 0.8860 - accuracy: 0.6680 - val_loss: 1.5219 - val_accuracy: 0.5334\n",
            "Epoch 14/20\n",
            "475/475 [==============================] - 20s 42ms/step - loss: 0.8604 - accuracy: 0.6769 - val_loss: 1.5672 - val_accuracy: 0.5330\n",
            "Epoch 15/20\n",
            "475/475 [==============================] - 21s 44ms/step - loss: 0.8375 - accuracy: 0.6857 - val_loss: 1.5608 - val_accuracy: 0.5364\n",
            "Epoch 16/20\n",
            "475/475 [==============================] - 21s 44ms/step - loss: 0.8032 - accuracy: 0.6997 - val_loss: 1.5980 - val_accuracy: 0.5370\n",
            "Epoch 17/20\n",
            "475/475 [==============================] - 20s 42ms/step - loss: 0.7703 - accuracy: 0.7107 - val_loss: 1.6531 - val_accuracy: 0.5372\n",
            "Epoch 18/20\n",
            "475/475 [==============================] - 20s 42ms/step - loss: 0.7397 - accuracy: 0.7234 - val_loss: 1.6789 - val_accuracy: 0.5364\n",
            "Epoch 19/20\n",
            "475/475 [==============================] - 21s 44ms/step - loss: 0.7023 - accuracy: 0.7368 - val_loss: 1.7333 - val_accuracy: 0.5364\n",
            "Epoch 20/20\n",
            "475/475 [==============================] - 21s 44ms/step - loss: 0.6670 - accuracy: 0.7502 - val_loss: 1.7694 - val_accuracy: 0.5382\n",
            "32/32 [==============================] - 1s 17ms/step - loss: 1.7904 - accuracy: 0.5233\n",
            "Image-to-Text Model Test Accuracy: 0.5233333110809326\n",
            "Training model with LSTM units: 512, Dropout rate: 0.8, Convolutional filters: 16\n",
            "Model: \"sequential_21\"\n",
            "_________________________________________________________________\n",
            " Layer (type)                Output Shape              Param #   \n",
            "=================================================================\n",
            " time_distributed_51 (TimeD  (None, None, 26, 26, 32   320       \n",
            " istributed)                 )                                   \n",
            "                                                                 \n",
            " time_distributed_52 (TimeD  (None, None, 21632)       0         \n",
            " istributed)                                                     \n",
            "                                                                 \n",
            " lstm_42 (LSTM)              (None, 512)               45352960  \n",
            "                                                                 \n",
            " dropout_30 (Dropout)        (None, 512)               0         \n",
            "                                                                 \n",
            " repeat_vector_21 (RepeatVe  (None, 3, 512)            0         \n",
            " ctor)                                                           \n",
            "                                                                 \n",
            " lstm_43 (LSTM)              (None, 3, 512)            2099200   \n",
            "                                                                 \n",
            " dropout_31 (Dropout)        (None, 3, 512)            0         \n",
            "                                                                 \n",
            " time_distributed_53 (TimeD  (None, 3, 13)             6669      \n",
            " istributed)                                                     \n",
            "                                                                 \n",
            "=================================================================\n",
            "Total params: 47459149 (181.04 MB)\n",
            "Trainable params: 47459149 (181.04 MB)\n",
            "Non-trainable params: 0 (0.00 Byte)\n",
            "_________________________________________________________________\n",
            "Epoch 1/20\n",
            "475/475 [==============================] - 27s 48ms/step - loss: 2.0960 - accuracy: 0.3355 - val_loss: 1.8563 - val_accuracy: 0.3890\n",
            "Epoch 2/20\n",
            "475/475 [==============================] - 20s 42ms/step - loss: 1.8007 - accuracy: 0.3946 - val_loss: 1.6423 - val_accuracy: 0.4154\n",
            "Epoch 3/20\n",
            "475/475 [==============================] - 20s 42ms/step - loss: 1.6287 - accuracy: 0.4226 - val_loss: 1.5480 - val_accuracy: 0.4444\n",
            "Epoch 4/20\n",
            "475/475 [==============================] - 20s 42ms/step - loss: 1.5054 - accuracy: 0.4515 - val_loss: 1.4959 - val_accuracy: 0.4618\n",
            "Epoch 5/20\n",
            "475/475 [==============================] - 20s 42ms/step - loss: 1.4204 - accuracy: 0.4705 - val_loss: 1.4669 - val_accuracy: 0.4708\n",
            "Epoch 6/20\n",
            "475/475 [==============================] - 21s 44ms/step - loss: 1.3538 - accuracy: 0.4909 - val_loss: 1.4443 - val_accuracy: 0.4917\n",
            "Epoch 7/20\n",
            "475/475 [==============================] - 21s 44ms/step - loss: 1.3096 - accuracy: 0.5005 - val_loss: 1.4195 - val_accuracy: 0.5007\n",
            "Epoch 8/20\n",
            "475/475 [==============================] - 20s 42ms/step - loss: 1.2656 - accuracy: 0.5143 - val_loss: 1.4334 - val_accuracy: 0.4977\n",
            "Epoch 9/20\n",
            "475/475 [==============================] - 21s 44ms/step - loss: 1.2258 - accuracy: 0.5264 - val_loss: 1.4335 - val_accuracy: 0.5053\n",
            "Epoch 10/20\n",
            "475/475 [==============================] - 20s 42ms/step - loss: 1.1961 - accuracy: 0.5374 - val_loss: 1.4259 - val_accuracy: 0.5088\n",
            "Epoch 11/20\n",
            "475/475 [==============================] - 21s 44ms/step - loss: 1.1656 - accuracy: 0.5487 - val_loss: 1.4244 - val_accuracy: 0.5170\n",
            "Epoch 12/20\n",
            "475/475 [==============================] - 21s 44ms/step - loss: 1.1405 - accuracy: 0.5563 - val_loss: 1.4402 - val_accuracy: 0.5197\n",
            "Epoch 13/20\n",
            "475/475 [==============================] - 21s 44ms/step - loss: 1.1170 - accuracy: 0.5641 - val_loss: 1.4540 - val_accuracy: 0.5154\n",
            "Epoch 14/20\n",
            "475/475 [==============================] - 20s 42ms/step - loss: 1.0964 - accuracy: 0.5715 - val_loss: 1.4704 - val_accuracy: 0.5206\n",
            "Epoch 15/20\n",
            "475/475 [==============================] - 21s 44ms/step - loss: 1.0732 - accuracy: 0.5807 - val_loss: 1.5021 - val_accuracy: 0.5199\n",
            "Epoch 16/20\n",
            "475/475 [==============================] - 21s 44ms/step - loss: 1.0653 - accuracy: 0.5842 - val_loss: 1.4813 - val_accuracy: 0.5225\n",
            "Epoch 17/20\n",
            "475/475 [==============================] - 20s 42ms/step - loss: 1.0495 - accuracy: 0.5894 - val_loss: 1.5168 - val_accuracy: 0.5199\n",
            "Epoch 18/20\n",
            "475/475 [==============================] - 21s 44ms/step - loss: 1.0324 - accuracy: 0.5963 - val_loss: 1.5107 - val_accuracy: 0.5282\n",
            "Epoch 19/20\n",
            "475/475 [==============================] - 20s 42ms/step - loss: 1.0199 - accuracy: 0.6029 - val_loss: 1.5159 - val_accuracy: 0.5264\n",
            "Epoch 20/20\n",
            "475/475 [==============================] - 20s 42ms/step - loss: 1.0056 - accuracy: 0.6096 - val_loss: 1.5621 - val_accuracy: 0.5251\n",
            "32/32 [==============================] - 1s 17ms/step - loss: 1.5487 - accuracy: 0.5250\n",
            "Image-to-Text Model Test Accuracy: 0.5249999761581421\n",
            "Training model with LSTM units: 512, Dropout rate: 0.8, Convolutional filters: 32\n",
            "Model: \"sequential_22\"\n",
            "_________________________________________________________________\n",
            " Layer (type)                Output Shape              Param #   \n",
            "=================================================================\n",
            " time_distributed_54 (TimeD  (None, None, 26, 26, 32   320       \n",
            " istributed)                 )                                   \n",
            "                                                                 \n",
            " time_distributed_55 (TimeD  (None, None, 21632)       0         \n",
            " istributed)                                                     \n",
            "                                                                 \n",
            " lstm_44 (LSTM)              (None, 512)               45352960  \n",
            "                                                                 \n",
            " dropout_32 (Dropout)        (None, 512)               0         \n",
            "                                                                 \n",
            " repeat_vector_22 (RepeatVe  (None, 3, 512)            0         \n",
            " ctor)                                                           \n",
            "                                                                 \n",
            " lstm_45 (LSTM)              (None, 3, 512)            2099200   \n",
            "                                                                 \n",
            " dropout_33 (Dropout)        (None, 3, 512)            0         \n",
            "                                                                 \n",
            " time_distributed_56 (TimeD  (None, 3, 13)             6669      \n",
            " istributed)                                                     \n",
            "                                                                 \n",
            "=================================================================\n",
            "Total params: 47459149 (181.04 MB)\n",
            "Trainable params: 47459149 (181.04 MB)\n",
            "Non-trainable params: 0 (0.00 Byte)\n",
            "_________________________________________________________________\n",
            "Epoch 1/20\n",
            "475/475 [==============================] - 25s 44ms/step - loss: 2.1107 - accuracy: 0.3273 - val_loss: 1.8482 - val_accuracy: 0.3878\n",
            "Epoch 2/20\n",
            "475/475 [==============================] - 20s 42ms/step - loss: 1.7775 - accuracy: 0.3975 - val_loss: 1.6169 - val_accuracy: 0.4225\n",
            "Epoch 3/20\n",
            "475/475 [==============================] - 20s 42ms/step - loss: 1.5980 - accuracy: 0.4291 - val_loss: 1.5206 - val_accuracy: 0.4539\n",
            "Epoch 4/20\n",
            "475/475 [==============================] - 20s 42ms/step - loss: 1.4875 - accuracy: 0.4559 - val_loss: 1.4534 - val_accuracy: 0.4831\n",
            "Epoch 5/20\n",
            "475/475 [==============================] - 21s 44ms/step - loss: 1.4051 - accuracy: 0.4762 - val_loss: 1.4129 - val_accuracy: 0.4943\n",
            "Epoch 6/20\n",
            "475/475 [==============================] - 21s 44ms/step - loss: 1.3431 - accuracy: 0.4928 - val_loss: 1.4130 - val_accuracy: 0.5018\n",
            "Epoch 7/20\n",
            "475/475 [==============================] - 20s 42ms/step - loss: 1.2988 - accuracy: 0.5057 - val_loss: 1.3971 - val_accuracy: 0.5075\n",
            "Epoch 8/20\n",
            "475/475 [==============================] - 21s 44ms/step - loss: 1.2618 - accuracy: 0.5199 - val_loss: 1.3711 - val_accuracy: 0.5137\n",
            "Epoch 9/20\n",
            "475/475 [==============================] - 20s 42ms/step - loss: 1.2204 - accuracy: 0.5318 - val_loss: 1.3846 - val_accuracy: 0.5180\n",
            "Epoch 10/20\n",
            "475/475 [==============================] - 20s 42ms/step - loss: 1.1982 - accuracy: 0.5385 - val_loss: 1.3873 - val_accuracy: 0.5195\n",
            "Epoch 11/20\n",
            "475/475 [==============================] - 21s 44ms/step - loss: 1.1663 - accuracy: 0.5475 - val_loss: 1.3887 - val_accuracy: 0.5213\n",
            "Epoch 12/20\n",
            "475/475 [==============================] - 21s 44ms/step - loss: 1.1447 - accuracy: 0.5561 - val_loss: 1.4104 - val_accuracy: 0.5246\n",
            "Epoch 13/20\n",
            "475/475 [==============================] - 20s 42ms/step - loss: 1.1292 - accuracy: 0.5611 - val_loss: 1.4089 - val_accuracy: 0.5259\n",
            "Epoch 14/20\n",
            "475/475 [==============================] - 21s 44ms/step - loss: 1.1052 - accuracy: 0.5688 - val_loss: 1.4249 - val_accuracy: 0.5270\n",
            "Epoch 15/20\n",
            "475/475 [==============================] - 21s 44ms/step - loss: 1.0927 - accuracy: 0.5744 - val_loss: 1.4242 - val_accuracy: 0.5318\n",
            "Epoch 16/20\n",
            "475/475 [==============================] - 21s 44ms/step - loss: 1.0747 - accuracy: 0.5813 - val_loss: 1.4424 - val_accuracy: 0.5314\n",
            "Epoch 17/20\n",
            "475/475 [==============================] - 21s 43ms/step - loss: 1.0615 - accuracy: 0.5866 - val_loss: 1.4539 - val_accuracy: 0.5343\n",
            "Epoch 18/20\n",
            "475/475 [==============================] - 21s 43ms/step - loss: 1.0467 - accuracy: 0.5927 - val_loss: 1.4783 - val_accuracy: 0.5287\n",
            "Epoch 19/20\n",
            "475/475 [==============================] - 20s 41ms/step - loss: 1.0310 - accuracy: 0.5989 - val_loss: 1.5144 - val_accuracy: 0.5321\n",
            "Epoch 20/20\n",
            "475/475 [==============================] - 21s 44ms/step - loss: 1.0267 - accuracy: 0.6006 - val_loss: 1.4912 - val_accuracy: 0.5325\n",
            "32/32 [==============================] - 1s 17ms/step - loss: 1.5051 - accuracy: 0.5253\n",
            "Image-to-Text Model Test Accuracy: 0.5253333449363708\n",
            "Training model with LSTM units: 512, Dropout rate: 0.8, Convolutional filters: 64\n",
            "Model: \"sequential_23\"\n",
            "_________________________________________________________________\n",
            " Layer (type)                Output Shape              Param #   \n",
            "=================================================================\n",
            " time_distributed_57 (TimeD  (None, None, 26, 26, 32   320       \n",
            " istributed)                 )                                   \n",
            "                                                                 \n",
            " time_distributed_58 (TimeD  (None, None, 21632)       0         \n",
            " istributed)                                                     \n",
            "                                                                 \n",
            " lstm_46 (LSTM)              (None, 512)               45352960  \n",
            "                                                                 \n",
            " dropout_34 (Dropout)        (None, 512)               0         \n",
            "                                                                 \n",
            " repeat_vector_23 (RepeatVe  (None, 3, 512)            0         \n",
            " ctor)                                                           \n",
            "                                                                 \n",
            " lstm_47 (LSTM)              (None, 3, 512)            2099200   \n",
            "                                                                 \n",
            " dropout_35 (Dropout)        (None, 3, 512)            0         \n",
            "                                                                 \n",
            " time_distributed_59 (TimeD  (None, 3, 13)             6669      \n",
            " istributed)                                                     \n",
            "                                                                 \n",
            "=================================================================\n",
            "Total params: 47459149 (181.04 MB)\n",
            "Trainable params: 47459149 (181.04 MB)\n",
            "Non-trainable params: 0 (0.00 Byte)\n",
            "_________________________________________________________________\n",
            "Epoch 1/20\n",
            "475/475 [==============================] - 25s 44ms/step - loss: 2.0881 - accuracy: 0.3412 - val_loss: 1.8473 - val_accuracy: 0.3848\n",
            "Epoch 2/20\n",
            "475/475 [==============================] - 20s 42ms/step - loss: 1.7789 - accuracy: 0.3977 - val_loss: 1.6486 - val_accuracy: 0.4113\n",
            "Epoch 3/20\n",
            "475/475 [==============================] - 21s 43ms/step - loss: 1.6152 - accuracy: 0.4242 - val_loss: 1.5468 - val_accuracy: 0.4484\n",
            "Epoch 4/20\n",
            "475/475 [==============================] - 20s 41ms/step - loss: 1.4977 - accuracy: 0.4531 - val_loss: 1.4873 - val_accuracy: 0.4681\n",
            "Epoch 5/20\n",
            "475/475 [==============================] - 21s 43ms/step - loss: 1.4156 - accuracy: 0.4721 - val_loss: 1.4617 - val_accuracy: 0.4804\n",
            "Epoch 6/20\n",
            "475/475 [==============================] - 21s 43ms/step - loss: 1.3504 - accuracy: 0.4911 - val_loss: 1.4454 - val_accuracy: 0.4874\n",
            "Epoch 7/20\n",
            "475/475 [==============================] - 21s 44ms/step - loss: 1.3070 - accuracy: 0.5026 - val_loss: 1.4319 - val_accuracy: 0.4994\n",
            "Epoch 8/20\n",
            "475/475 [==============================] - 20s 42ms/step - loss: 1.2589 - accuracy: 0.5154 - val_loss: 1.4283 - val_accuracy: 0.5053\n",
            "Epoch 9/20\n",
            "475/475 [==============================] - 21s 43ms/step - loss: 1.2282 - accuracy: 0.5268 - val_loss: 1.4078 - val_accuracy: 0.5081\n",
            "Epoch 10/20\n",
            "475/475 [==============================] - 20s 42ms/step - loss: 1.1875 - accuracy: 0.5376 - val_loss: 1.4200 - val_accuracy: 0.5152\n",
            "Epoch 11/20\n",
            "475/475 [==============================] - 20s 42ms/step - loss: 1.1624 - accuracy: 0.5464 - val_loss: 1.4213 - val_accuracy: 0.5153\n",
            "Epoch 12/20\n",
            "475/475 [==============================] - 21s 43ms/step - loss: 1.1351 - accuracy: 0.5581 - val_loss: 1.4418 - val_accuracy: 0.5184\n",
            "Epoch 13/20\n",
            "475/475 [==============================] - 21s 44ms/step - loss: 1.1190 - accuracy: 0.5627 - val_loss: 1.4683 - val_accuracy: 0.5183\n",
            "Epoch 14/20\n",
            "475/475 [==============================] - 21s 43ms/step - loss: 1.0969 - accuracy: 0.5711 - val_loss: 1.4754 - val_accuracy: 0.5205\n",
            "Epoch 15/20\n",
            "475/475 [==============================] - 20s 42ms/step - loss: 1.0779 - accuracy: 0.5779 - val_loss: 1.4569 - val_accuracy: 0.5282\n",
            "Epoch 16/20\n",
            "475/475 [==============================] - 21s 44ms/step - loss: 1.0597 - accuracy: 0.5852 - val_loss: 1.5067 - val_accuracy: 0.5210\n",
            "Epoch 17/20\n",
            "475/475 [==============================] - 20s 42ms/step - loss: 1.0512 - accuracy: 0.5905 - val_loss: 1.5143 - val_accuracy: 0.5261\n",
            "Epoch 18/20\n",
            "475/475 [==============================] - 20s 41ms/step - loss: 1.0359 - accuracy: 0.5959 - val_loss: 1.5162 - val_accuracy: 0.5284\n",
            "Epoch 19/20\n",
            "475/475 [==============================] - 21s 43ms/step - loss: 1.0240 - accuracy: 0.6025 - val_loss: 1.5146 - val_accuracy: 0.5329\n",
            "Epoch 20/20\n",
            "475/475 [==============================] - 20s 43ms/step - loss: 1.0087 - accuracy: 0.6069 - val_loss: 1.5334 - val_accuracy: 0.5312\n",
            "32/32 [==============================] - 1s 16ms/step - loss: 1.5800 - accuracy: 0.5220\n",
            "Image-to-Text Model Test Accuracy: 0.5220000147819519\n",
            "Results Overview:\n",
            "    LSTM Units  Dropout Rate  Conv Filters  Test Accuracy\n",
            "0          256           0.3            16          0.979\n",
            "1          256           0.3            32          0.979\n",
            "2          256           0.3            64          0.979\n",
            "3          256           0.5            16          0.979\n",
            "4          256           0.5            32          0.979\n",
            "5          256           0.5            64          0.979\n",
            "6          256           0.8            16          0.979\n",
            "7          256           0.8            32          0.979\n",
            "8          256           0.8            64          0.979\n",
            "9          512           0.3            16          0.979\n",
            "10         512           0.3            32          0.979\n",
            "11         512           0.3            64          0.979\n",
            "12         512           0.5            16          0.979\n",
            "13         512           0.5            32          0.979\n",
            "14         512           0.5            64          0.979\n",
            "15         512           0.8            16          0.979\n",
            "16         512           0.8            32          0.979\n",
            "17         512           0.8            64          0.979\n"
          ]
        }
      ]
    },
    {
      "cell_type": "code",
      "source": [
        "from keras.layers import BatchNormalization\n",
        "from keras.regularizers import l2\n",
        "\n",
        "def build_image2text_model(lstm_units, dropout_rate, conv_filters):\n",
        "    image2text = Sequential()\n",
        "\n",
        "    # Encoder (for image sequences)\n",
        "    image2text.add(TimeDistributed(Conv2D(32, (7, 7), activation='relu'), input_shape=(None, 28, 28, 1)))\n",
        "    image2text.add(TimeDistributed(Flatten()))\n",
        "    image2text.add(LSTM(lstm_units))\n",
        "    #image2text.add(LSTM(lstm_units, kernel_regularizer=l2(0.0001), recurrent_regularizer=l2(0.0001)))\n",
        "    image2text.add(Dropout(dropout_rate))\n",
        "\n",
        "    # Repeat the output for max_answer_length times\n",
        "    image2text.add(RepeatVector(max_answer_length))\n",
        "\n",
        "    # Decoder (for generating text)\n",
        "    image2text.add(LSTM(lstm_units, return_sequences=True))\n",
        "    #image2text.add(LSTM(lstm_units, return_sequences=True, kernel_regularizer=l2(0.0001), recurrent_regularizer=l2(0.0001)))\n",
        "    image2text.add(Dropout(dropout_rate))\n",
        "    image2text.add(TimeDistributed(Dense(128, activation='relu')))\n",
        "    #image2text.add(TimeDistributed(Dense(128, activation='relu', kernel_regularizer=l2(0.0001))))\n",
        "    image2text.add(TimeDistributed(Dense(len(unique_characters), activation='softmax')))\n",
        "\n",
        "    # Compile the model\n",
        "    image2text.compile(loss='categorical_crossentropy', optimizer='adam', metrics=['accuracy'])\n",
        "    image2text.summary()\n",
        "\n",
        "    return image2text\n",
        "\n",
        "param_grid = {\n",
        "    'lstm_units': [1024],\n",
        "    'dropout_rate': [0.5],\n",
        "    'conv_filters': [16]\n",
        "}\n"
      ],
      "metadata": {
        "id": "YDIiITh5_AKF"
      },
      "execution_count": 52,
      "outputs": []
    },
    {
      "cell_type": "code",
      "source": [
        "from itertools import product\n",
        "import pandas as pd\n",
        "results = []\n",
        "\n",
        "for params in product(*param_grid.values()):\n",
        "    lstm_units, dropout_rate, conv_filters = params\n",
        "    print(f\"Training model with LSTM units: {lstm_units}, Dropout rate: {dropout_rate}, Convolutional filters: {conv_filters}\")\n",
        "\n",
        "    # Encode the training and test sets\n",
        "    y_text_train_onehot = encode_labels(y_text_train)\n",
        "    y_text_test_onehot = encode_labels(y_text_test)\n",
        "\n",
        "    # Build and train the image-to-text model\n",
        "    image2text_model = build_image2text_model(lstm_units, dropout_rate, conv_filters)\n",
        "    image2text_model.fit(X_img_train, y_text_train_onehot, epochs=20, batch_size=32, validation_split=0.05)\n",
        "\n",
        "    # Evaluate the model\n",
        "    test_loss_img, test_accuracy_img = image2text_model.evaluate(X_img_test, y_text_test_onehot)\n",
        "    print(f'Image-to-Text Model Test Accuracy: {test_accuracy_img:.2f}%')  # Formatted to display as a percentage\n",
        "\n",
        "    # Append the results in text format\n",
        "    results.append((lstm_units, dropout_rate, conv_filters, f\"{test_accuracy_img:.2f}%\"))\n",
        "\n",
        "# Create a DataFrame from the results\n",
        "results_df = pd.DataFrame(results, columns=['LSTM Units', 'Dropout Rate', 'Conv Filters', 'Test Accuracy'])\n",
        "\n",
        "# Display the DataFrame in text format\n",
        "print(\"Results Overview:\")\n",
        "print(results_df.to_string(index=False))  # Using to_string for text format output\n"
      ],
      "metadata": {
        "colab": {
          "base_uri": "https://localhost:8080/"
        },
        "id": "brxjPSqC_AyI",
        "outputId": "4a9e815e-187a-476e-d1e7-4bac9a877b34"
      },
      "execution_count": 53,
      "outputs": [
        {
          "output_type": "stream",
          "name": "stdout",
          "text": [
            "Training model with LSTM units: 1024, Dropout rate: 0.5, Convolutional filters: 16\n",
            "Model: \"sequential_30\"\n",
            "_________________________________________________________________\n",
            " Layer (type)                Output Shape              Param #   \n",
            "=================================================================\n",
            " time_distributed_75 (TimeD  (None, None, 22, 22, 32   1600      \n",
            " istributed)                 )                                   \n",
            "                                                                 \n",
            " time_distributed_76 (TimeD  (None, None, 15488)       0         \n",
            " istributed)                                                     \n",
            "                                                                 \n",
            " lstm_57 (LSTM)              (None, 1024)              67637248  \n",
            "                                                                 \n",
            " dropout_26 (Dropout)        (None, 1024)              0         \n",
            "                                                                 \n",
            " repeat_vector_27 (RepeatVe  (None, 5, 1024)           0         \n",
            " ctor)                                                           \n",
            "                                                                 \n",
            " lstm_58 (LSTM)              (None, 5, 1024)           8392704   \n",
            "                                                                 \n",
            " dropout_27 (Dropout)        (None, 5, 1024)           0         \n",
            "                                                                 \n",
            " time_distributed_77 (TimeD  (None, 5, 128)            131200    \n",
            " istributed)                                                     \n",
            "                                                                 \n",
            " time_distributed_78 (TimeD  (None, 5, 12)             1548      \n",
            " istributed)                                                     \n",
            "                                                                 \n",
            "=================================================================\n",
            "Total params: 76164300 (290.54 MB)\n",
            "Trainable params: 76164300 (290.54 MB)\n",
            "Non-trainable params: 0 (0.00 Byte)\n",
            "_________________________________________________________________\n",
            "Epoch 1/20\n",
            "283/283 [==============================] - 22s 63ms/step - loss: 1.6906 - accuracy: 0.3847 - val_loss: 1.5792 - val_accuracy: 0.4173\n",
            "Epoch 2/20\n",
            "283/283 [==============================] - 17s 62ms/step - loss: 1.4824 - accuracy: 0.4472 - val_loss: 1.4054 - val_accuracy: 0.4606\n",
            "Epoch 3/20\n",
            "283/283 [==============================] - 17s 60ms/step - loss: 1.3164 - accuracy: 0.4885 - val_loss: 1.2826 - val_accuracy: 0.5032\n",
            "Epoch 4/20\n",
            "283/283 [==============================] - 17s 60ms/step - loss: 1.2161 - accuracy: 0.5171 - val_loss: 1.2217 - val_accuracy: 0.5120\n",
            "Epoch 5/20\n",
            "283/283 [==============================] - 17s 59ms/step - loss: 1.1486 - accuracy: 0.5386 - val_loss: 1.2012 - val_accuracy: 0.5255\n",
            "Epoch 6/20\n",
            "283/283 [==============================] - 17s 60ms/step - loss: 1.1011 - accuracy: 0.5530 - val_loss: 1.1916 - val_accuracy: 0.5238\n",
            "Epoch 7/20\n",
            "283/283 [==============================] - 17s 60ms/step - loss: 1.0627 - accuracy: 0.5667 - val_loss: 1.1884 - val_accuracy: 0.5280\n",
            "Epoch 8/20\n",
            "283/283 [==============================] - 17s 60ms/step - loss: 1.0264 - accuracy: 0.5805 - val_loss: 1.1973 - val_accuracy: 0.5368\n",
            "Epoch 9/20\n",
            "283/283 [==============================] - 17s 59ms/step - loss: 1.0155 - accuracy: 0.5868 - val_loss: 1.2020 - val_accuracy: 0.5343\n",
            "Epoch 10/20\n",
            "283/283 [==============================] - 17s 61ms/step - loss: 0.9866 - accuracy: 0.5972 - val_loss: 1.2321 - val_accuracy: 0.5352\n",
            "Epoch 11/20\n",
            "283/283 [==============================] - 17s 61ms/step - loss: 0.9657 - accuracy: 0.6068 - val_loss: 1.2313 - val_accuracy: 0.5457\n",
            "Epoch 12/20\n",
            "283/283 [==============================] - 17s 61ms/step - loss: 0.9374 - accuracy: 0.6186 - val_loss: 1.2322 - val_accuracy: 0.5385\n",
            "Epoch 13/20\n",
            "283/283 [==============================] - 17s 61ms/step - loss: 0.9133 - accuracy: 0.6293 - val_loss: 1.2587 - val_accuracy: 0.5335\n",
            "Epoch 14/20\n",
            "283/283 [==============================] - 17s 60ms/step - loss: 0.8861 - accuracy: 0.6447 - val_loss: 1.2916 - val_accuracy: 0.5326\n",
            "Epoch 15/20\n",
            "283/283 [==============================] - 17s 60ms/step - loss: 0.8607 - accuracy: 0.6554 - val_loss: 1.2946 - val_accuracy: 0.5457\n",
            "Epoch 16/20\n",
            "283/283 [==============================] - 17s 60ms/step - loss: 0.8178 - accuracy: 0.6709 - val_loss: 1.3494 - val_accuracy: 0.5276\n",
            "Epoch 17/20\n",
            "283/283 [==============================] - 17s 61ms/step - loss: 0.7715 - accuracy: 0.6939 - val_loss: 1.3589 - val_accuracy: 0.5482\n",
            "Epoch 18/20\n",
            "283/283 [==============================] - 17s 60ms/step - loss: 0.7252 - accuracy: 0.7145 - val_loss: 1.4001 - val_accuracy: 0.5385\n",
            "Epoch 19/20\n",
            "283/283 [==============================] - 17s 60ms/step - loss: 0.6754 - accuracy: 0.7365 - val_loss: 1.4638 - val_accuracy: 0.5373\n",
            "Epoch 20/20\n",
            "283/283 [==============================] - 17s 61ms/step - loss: 0.6171 - accuracy: 0.7619 - val_loss: 1.4954 - val_accuracy: 0.5440\n",
            "16/16 [==============================] - 0s 27ms/step - loss: 1.4675 - accuracy: 0.5696\n",
            "Image-to-Text Model Test Accuracy: 0.57%\n",
            "Results Overview:\n",
            " LSTM Units  Dropout Rate  Conv Filters Test Accuracy\n",
            "       1024           0.5            16         0.57%\n"
          ]
        }
      ]
    },
    {
      "cell_type": "markdown",
      "source": [
        "---\n",
        "---\n",
        "\n",
        "## III. Text to image RNN Model\n",
        "\n",
        "Hint: to make this model work really well you could use deconvolutional layers in your decoder (you might need to look up ***Conv2DTranspose*** layer). However, regular vector-based decoder will work as well.\n",
        "\n",
        "The goal here is to use **X_text** as inputs and **y_img** as outputs."
      ],
      "metadata": {
        "id": "GnGyo_DIlymz"
      }
    },
    {
      "cell_type": "code",
      "source": [
        "# Create the text-to-image model\n",
        "text2image = Sequential()\n",
        "\n",
        "# Encoder (for text sequences)\n",
        "text2image.add(LSTM(256, input_shape=(None, len(unique_characters))))\n",
        "\n",
        "# Repeat the output for max_answer_length times\n",
        "text2image.add(RepeatVector(max_answer_length))\n",
        "\n",
        "# Decoder (for generating images)\n",
        "text2image.add(LSTM(256, return_sequences=True))\n",
        "text2image.add(TimeDistributed(Dense(128, activation='relu')))  # Adjust the units according to your needs\n",
        "text2image.add(TimeDistributed(Dense(28 * 28, activation='sigmoid')))  # Output layer with 28*28 units for each pixel\n",
        "text2image.add(Reshape((max_answer_length, 28, 28, 1)))  # Reshape to match the image dimensions\n",
        "\n",
        "# Compile the model\n",
        "text2image.compile(loss='mse', optimizer='adam', metrics=['accuracy']) # gives 86% accuracy\n",
        "#text2image.compile(loss='categorical_crossentropy', optimizer='adam', metrics=['accuracy']) # gives 60-ish% accuracy\n",
        "\n",
        "text2image.summary()"
      ],
      "metadata": {
        "id": "KwhT9fiW7p_t"
      },
      "execution_count": null,
      "outputs": []
    },
    {
      "cell_type": "code",
      "source": [
        "text2image.fit(X_text_train_onehot, y_img_train, epochs=20, batch_size=32, validation_split=0.2, verbose=0)\n",
        "test_loss, test_accuracy = text2image.evaluate(X_text_test_onehot, y_img_test, verbose=0)\n",
        "print(f\"Text to Image Test accuracy: {test_accuracy}\")"
      ],
      "metadata": {
        "colab": {
          "base_uri": "https://localhost:8080/"
        },
        "id": "nQe5M0MSRpq5",
        "outputId": "fc4ea621-acf5-400b-b192-7c7bf701d42c"
      },
      "execution_count": null,
      "outputs": [
        {
          "output_type": "stream",
          "name": "stdout",
          "text": [
            "Text to Image Test accuracy: 0.8611850142478943\n"
          ]
        }
      ]
    },
    {
      "cell_type": "code",
      "source": [
        "#Shows the first 5 queries of the test dataset and the corresponding generated images\n",
        "print(f\"First 5 text queries: {X_text_test[0:5]}\")\n",
        "print(f\"First 5 Answers: {y_text_test[0:5]}\")\n",
        "generated_images = text2image.predict(X_text_test_onehot[0:5])\n",
        "\n",
        "for i in range(5):\n",
        "  print(f\"Generated Image {i}\")\n",
        "  plt.imshow(np.hstack(generated_images[i]), cmap='gray')\n",
        "  plt.show()"
      ],
      "metadata": {
        "colab": {
          "base_uri": "https://localhost:8080/",
          "height": 1000
        },
        "id": "MvLAfOshaRjI",
        "outputId": "9f0b889d-3226-493c-e442-c69cdab184d6"
      },
      "execution_count": null,
      "outputs": [
        {
          "output_type": "stream",
          "name": "stdout",
          "text": [
            "First 5 text queries: ['53+25' '10-20' '43+34' '5+57 ' '69+51']\n",
            "First 5 Answers: ['78 ' '-10' '77 ' '62 ' '120']\n",
            "1/1 [==============================] - 1s 629ms/step\n",
            "Generated Image 0\n"
          ]
        },
        {
          "output_type": "display_data",
          "data": {
            "text/plain": [
              "<Figure size 640x480 with 1 Axes>"
            ],
            "image/png": "[encoded data removed]"
          },
          "metadata": {}
        },
        {
          "output_type": "stream",
          "name": "stdout",
          "text": [
            "Generated Image 1\n"
          ]
        },
        {
          "output_type": "display_data",
          "data": {
            "text/plain": [
              "<Figure size 640x480 with 1 Axes>"
            ],
            "image/png": "[encoded data removed]"
          },
          "metadata": {}
        },
        {
          "output_type": "stream",
          "name": "stdout",
          "text": [
            "Generated Image 2\n"
          ]
        },
        {
          "output_type": "display_data",
          "data": {
            "text/plain": [
              "<Figure size 640x480 with 1 Axes>"
            ],
            "image/png": "[encoded data removed]"
          },
          "metadata": {}
        },
        {
          "output_type": "stream",
          "name": "stdout",
          "text": [
            "Generated Image 3\n"
          ]
        },
        {
          "output_type": "display_data",
          "data": {
            "text/plain": [
              "<Figure size 640x480 with 1 Axes>"
            ],
            "image/png": "[encoded data removed]"
          },
          "metadata": {}
        },
        {
          "output_type": "stream",
          "name": "stdout",
          "text": [
            "Generated Image 4\n"
          ]
        },
        {
          "output_type": "display_data",
          "data": {
            "text/plain": [
              "<Figure size 640x480 with 1 Axes>"
            ],
            "image/png": "[encoded data removed]"
          },
          "metadata": {}
        }
      ]
    },
    {
      "cell_type": "code",
      "source": [
        "#Added LSTM layer (mainly units can be tuned, as well as number of LSTM layers in encoder)\n",
        "text2image = Sequential()\n",
        "\n",
        "# Encoder (for text sequences)\n",
        "text2image.add(LSTM(256, input_shape=(None, len(unique_characters)), return_sequences=True))  # Set return_sequences to True\n",
        "text2image.add(LSTM(256))\n",
        "\n",
        "# Repeat the output for max_answer_length times\n",
        "text2image.add(RepeatVector(max_answer_length))\n",
        "\n",
        "# Decoder (for generating images)\n",
        "text2image.add(LSTM(256, return_sequences=True))\n",
        "text2image.add(TimeDistributed(Dense(128, activation='relu')))\n",
        "text2image.add(TimeDistributed(Dense(28 * 28, activation='sigmoid')))\n",
        "text2image.add(Reshape((max_answer_length, 28, 28, 1)))\n",
        "\n",
        "text2image.compile(loss='mse', optimizer='adam', metrics=['accuracy'])\n",
        "#text2image.compile(loss='categorical_crossentropy', optimizer='adam', metrics=['accuracy'])\n",
        "\n",
        "text2image.summary()"
      ],
      "metadata": {
        "colab": {
          "base_uri": "https://localhost:8080/"
        },
        "id": "mNWQwGbvmyzK",
        "outputId": "8a2ecf7a-42ca-4f26-c46c-24a9c7bd57a0"
      },
      "execution_count": null,
      "outputs": [
        {
          "output_type": "stream",
          "name": "stdout",
          "text": [
            "Model: \"sequential_8\"\n",
            "_________________________________________________________________\n",
            " Layer (type)                Output Shape              Param #   \n",
            "=================================================================\n",
            " lstm_16 (LSTM)              (None, None, 256)         276480    \n",
            "                                                                 \n",
            " lstm_17 (LSTM)              (None, 256)               525312    \n",
            "                                                                 \n",
            " repeat_vector_8 (RepeatVec  (None, 3, 256)            0         \n",
            " tor)                                                            \n",
            "                                                                 \n",
            " lstm_18 (LSTM)              (None, 3, 256)            525312    \n",
            "                                                                 \n",
            " time_distributed_11 (TimeD  (None, 3, 128)            32896     \n",
            " istributed)                                                     \n",
            "                                                                 \n",
            " time_distributed_12 (TimeD  (None, 3, 784)            101136    \n",
            " istributed)                                                     \n",
            "                                                                 \n",
            " reshape_1 (Reshape)         (None, 3, 28, 28, 1)      0         \n",
            "                                                                 \n",
            "=================================================================\n",
            "Total params: 1461136 (5.57 MB)\n",
            "Trainable params: 1461136 (5.57 MB)\n",
            "Non-trainable params: 0 (0.00 Byte)\n",
            "_________________________________________________________________\n"
          ]
        }
      ]
    },
    {
      "cell_type": "code",
      "source": [
        "text2image.fit(X_text_train_onehot, y_img_train, epochs=20, batch_size=32, validation_split=0.2, verbose=0)\n",
        "test_loss, test_accuracy = text2image.evaluate(X_text_test_onehot, y_img_test, verbose=0)\n",
        "print(f\"Text to Image Test accuracy (additional LSTM layer in encoding): {test_accuracy}\")"
      ],
      "metadata": {
        "colab": {
          "base_uri": "https://localhost:8080/"
        },
        "id": "uh4SnFTfm_sA",
        "outputId": "593fdf39-9540-460a-c3fc-26482ed608b8"
      },
      "execution_count": null,
      "outputs": [
        {
          "output_type": "stream",
          "name": "stdout",
          "text": [
            "Text to Image Test accuracy (additional LSTM layer in encoding): 0.8624046444892883\n"
          ]
        }
      ]
    },
    {
      "cell_type": "code",
      "source": [
        "#Shows the first 5 queries of the test dataset and the corresponding generated images\n",
        "print(f\"First 5 text queries: {X_text_test[0:5]}\")\n",
        "print(f\"First 5 Answers: {y_text_test[0:5]}\")\n",
        "\n",
        "generated_images = text2image.predict(X_text_test_onehot[0:5])\n",
        "\n",
        "for i in range(5):\n",
        "  print(f\"Generated Image {i}\")\n",
        "  plt.imshow(np.hstack(generated_images[i]), cmap='gray')\n",
        "  plt.show()"
      ],
      "metadata": {
        "colab": {
          "base_uri": "https://localhost:8080/",
          "height": 1000
        },
        "id": "OJs9tCkPnJCJ",
        "outputId": "40465d83-dbb0-4004-8dd1-211565afd9ca"
      },
      "execution_count": null,
      "outputs": [
        {
          "output_type": "stream",
          "name": "stdout",
          "text": [
            "First 5 text queries: ['53+25' '10-20' '43+34' '5+57 ' '69+51']\n",
            "First 5 Answers: ['78 ' '-10' '77 ' '62 ' '120']\n",
            "1/1 [==============================] - 1s 929ms/step\n",
            "Generated Image 0\n"
          ]
        },
        {
          "output_type": "display_data",
          "data": {
            "text/plain": [
              "<Figure size 640x480 with 1 Axes>"
            ],
            "image/png": "[encoded data removed]"
          },
          "metadata": {}
        },
        {
          "output_type": "stream",
          "name": "stdout",
          "text": [
            "Generated Image 1\n"
          ]
        },
        {
          "output_type": "display_data",
          "data": {
            "text/plain": [
              "<Figure size 640x480 with 1 Axes>"
            ],
            "image/png": "[encoded data removed]"
          },
          "metadata": {}
        },
        {
          "output_type": "stream",
          "name": "stdout",
          "text": [
            "Generated Image 2\n"
          ]
        },
        {
          "output_type": "display_data",
          "data": {
            "text/plain": [
              "<Figure size 640x480 with 1 Axes>"
            ],
            "image/png": "[encoded data removed]"
          },
          "metadata": {}
        },
        {
          "output_type": "stream",
          "name": "stdout",
          "text": [
            "Generated Image 3\n"
          ]
        },
        {
          "output_type": "display_data",
          "data": {
            "text/plain": [
              "<Figure size 640x480 with 1 Axes>"
            ],
            "image/png": "[encoded data removed]"
          },
          "metadata": {}
        },
        {
          "output_type": "stream",
          "name": "stdout",
          "text": [
            "Generated Image 4\n"
          ]
        },
        {
          "output_type": "display_data",
          "data": {
            "text/plain": [
              "<Figure size 640x480 with 1 Axes>"
            ],
            "image/png": "[encoded data removed]"
          },
          "metadata": {}
        }
      ]
    },
    {
      "cell_type": "code",
      "source": [
        "#more Added LSTM layers (mainly units can be tuned, as well as number of LSTM layers in encoder)\n",
        "text2image = Sequential()\n",
        "\n",
        "# Encoder (for text sequences)\n",
        "text2image.add(LSTM(256, input_shape=(None, len(unique_characters)), return_sequences=True))  # Set return_sequences to True\n",
        "\n",
        "# Add additional LSTM layers\n",
        "text2image.add(LSTM(256, return_sequences=True))\n",
        "text2image.add(LSTM(256, return_sequences=True))  # You can adjust the number of units\n",
        "text2image.add(LSTM(256))\n",
        "\n",
        "# Repeat the output for max_answer_length times\n",
        "text2image.add(RepeatVector(max_answer_length))\n",
        "\n",
        "# Decoder (for generating images)\n",
        "text2image.add(LSTM(256, return_sequences=True))\n",
        "text2image.add(TimeDistributed(Dense(128, activation='relu')))\n",
        "text2image.add(TimeDistributed(Dense(28 * 28, activation='sigmoid')))\n",
        "text2image.add(Reshape((max_answer_length, 28, 28, 1)))\n",
        "\n",
        "text2image.compile(loss='mse', optimizer='adam', metrics=['accuracy'])\n",
        "#text2image.compile(loss='categorical_crossentropy', optimizer='adam', metrics=['accuracy'])\n",
        "\n",
        "text2image.summary()"
      ],
      "metadata": {
        "colab": {
          "base_uri": "https://localhost:8080/"
        },
        "id": "WD6JwCENRfSy",
        "outputId": "5dcba5af-d26f-4f55-8847-677d08d47340"
      },
      "execution_count": null,
      "outputs": [
        {
          "output_type": "stream",
          "name": "stdout",
          "text": [
            "Model: \"sequential_9\"\n",
            "_________________________________________________________________\n",
            " Layer (type)                Output Shape              Param #   \n",
            "=================================================================\n",
            " lstm_19 (LSTM)              (None, None, 256)         276480    \n",
            "                                                                 \n",
            " lstm_20 (LSTM)              (None, None, 256)         525312    \n",
            "                                                                 \n",
            " lstm_21 (LSTM)              (None, None, 256)         525312    \n",
            "                                                                 \n",
            " lstm_22 (LSTM)              (None, 256)               525312    \n",
            "                                                                 \n",
            " repeat_vector_9 (RepeatVec  (None, 3, 256)            0         \n",
            " tor)                                                            \n",
            "                                                                 \n",
            " lstm_23 (LSTM)              (None, 3, 256)            525312    \n",
            "                                                                 \n",
            " time_distributed_13 (TimeD  (None, 3, 128)            32896     \n",
            " istributed)                                                     \n",
            "                                                                 \n",
            " time_distributed_14 (TimeD  (None, 3, 784)            101136    \n",
            " istributed)                                                     \n",
            "                                                                 \n",
            " reshape_2 (Reshape)         (None, 3, 28, 28, 1)      0         \n",
            "                                                                 \n",
            "=================================================================\n",
            "Total params: 2511760 (9.58 MB)\n",
            "Trainable params: 2511760 (9.58 MB)\n",
            "Non-trainable params: 0 (0.00 Byte)\n",
            "_________________________________________________________________\n"
          ]
        }
      ]
    },
    {
      "cell_type": "code",
      "source": [
        "text2image.fit(X_text_train_onehot, y_img_train, epochs=20, batch_size=32, validation_split=0.2, verbose=0)\n",
        "test_loss, test_accuracy = text2image.evaluate(X_text_test_onehot, y_img_test, verbose=0)\n",
        "print(f\"Text to Image Test accuracy: {test_accuracy}\")"
      ],
      "metadata": {
        "colab": {
          "base_uri": "https://localhost:8080/"
        },
        "id": "Q3xVcMF6RfOd",
        "outputId": "12ba024c-54d8-4fe4-89a2-638f7765cb3a"
      },
      "execution_count": null,
      "outputs": [
        {
          "output_type": "stream",
          "name": "stdout",
          "text": [
            "Text to Image Test accuracy: 0.8672780990600586\n"
          ]
        }
      ]
    },
    {
      "cell_type": "code",
      "source": [
        "#Shows the first 5 queries of the test dataset and the corresponding generated images\n",
        "print(f\"First 5 text queries: {X_text_test[0:5]}\")\n",
        "print(f\"First 5 Answers: {y_text_test[0:5]}\")\n",
        "\n",
        "generated_images = text2image.predict(X_text_test_onehot[0:5])\n",
        "\n",
        "for i in range(5):\n",
        "  print(f\"Generated Image {i}\")\n",
        "  plt.imshow(np.hstack(generated_images[i]), cmap='gray')\n",
        "  plt.show()"
      ],
      "metadata": {
        "colab": {
          "base_uri": "https://localhost:8080/",
          "height": 1000
        },
        "id": "OfUlYQRRSK9G",
        "outputId": "39968d5a-9bf3-430b-8820-242773ddb794"
      },
      "execution_count": null,
      "outputs": [
        {
          "output_type": "stream",
          "name": "stdout",
          "text": [
            "First 5 text queries: ['53+25' '10-20' '43+34' '5+57 ' '69+51']\n",
            "First 5 Answers: ['78 ' '-10' '77 ' '62 ' '120']\n",
            "1/1 [==============================] - 3s 3s/step\n",
            "Generated Image 0\n"
          ]
        },
        {
          "output_type": "display_data",
          "data": {
            "text/plain": [
              "<Figure size 640x480 with 1 Axes>"
            ],
            "image/png": "[encoded data removed]"
          },
          "metadata": {}
        },
        {
          "output_type": "stream",
          "name": "stdout",
          "text": [
            "Generated Image 1\n"
          ]
        },
        {
          "output_type": "display_data",
          "data": {
            "text/plain": [
              "<Figure size 640x480 with 1 Axes>"
            ],
            "image/png": "[encoded data removed]"
          },
          "metadata": {}
        },
        {
          "output_type": "stream",
          "name": "stdout",
          "text": [
            "Generated Image 2\n"
          ]
        },
        {
          "output_type": "display_data",
          "data": {
            "text/plain": [
              "<Figure size 640x480 with 1 Axes>"
            ],
            "image/png": "[encoded data removed]"
          },
          "metadata": {}
        },
        {
          "output_type": "stream",
          "name": "stdout",
          "text": [
            "Generated Image 3\n"
          ]
        },
        {
          "output_type": "display_data",
          "data": {
            "text/plain": [
              "<Figure size 640x480 with 1 Axes>"
            ],
            "image/png": "[encoded data removed]"
          },
          "metadata": {}
        },
        {
          "output_type": "stream",
          "name": "stdout",
          "text": [
            "Generated Image 4\n"
          ]
        },
        {
          "output_type": "display_data",
          "data": {
            "text/plain": [
              "<Figure size 640x480 with 1 Axes>"
            ],
            "image/png": "[encoded data removed]"
          },
          "metadata": {}
        }
      ]
    },
    {
      "cell_type": "code",
      "source": [
        "# More LSTM layers in the encoding seem to worsen image quality"
      ],
      "metadata": {
        "id": "z-HIvS_0q1gW"
      },
      "execution_count": null,
      "outputs": []
    },
    {
      "cell_type": "markdown",
      "source": [
        "\n",
        "---\n",
        "---\n",
        "---\n",
        "\n",
        "# Part 2: Multiplication\n",
        "The cell below will create the multiplication dataset used in this part of the assignment."
      ],
      "metadata": {
        "id": "pAngAFt27NAr"
      }
    },
    {
      "cell_type": "markdown",
      "source": [
        "Note: I changed max_answer_length to 4 (given assignment code set it to 5, but largest answer length is 4, however: 99*99=9801 gives a maximum of 4). But then I get lower test accuracy than if max_answer_length = 5. Hence, max_answer_length = 5 is preferred. Maybe my thinking is flawed?"
      ],
      "metadata": {
        "id": "7rN-bYVbTPT5"
      }
    },
    {
      "cell_type": "code",
      "source": [
        "# Illustrate the generated query/answer pairs\n",
        "\n",
        "unique_characters = '0123456789* '       # All unique characters that are used in the queries (12 in total: digits 0-9, 1 operand [*], and a space character ' '.)\n",
        "highest_integer = 99                     # Highest value of integers contained in the queries\n",
        "\n",
        "max_int_length = len(str(highest_integer))# Maximum number of characters in an integer\n",
        "max_query_length = max_int_length * 2 + 1 # Maximum length of the query string (consists of two integers and an operand [e.g. '22*10'])\n",
        "max_answer_length = 5    # Maximum length of the answer string (the longest resulting query string is '99*99'='9801')\n",
        "\n",
        "# Create the data (might take around a minute)\n",
        "(MNIST_data, MNIST_labels), _ = tf.keras.datasets.mnist.load_data()\n",
        "X_text, X_img, y_text, y_img = create_data(highest_integer, operands=['*'])\n",
        "print(X_text.shape, X_img.shape, y_text.shape, y_img.shape)\n",
        "\n",
        "\n",
        "## Display the samples that were created\n",
        "def display_sample(n):\n",
        "    labels = ['X_img:', 'y_img:']\n",
        "    for i, data in enumerate([X_img, y_img]):\n",
        "        plt.subplot(1,2,i+1)\n",
        "        # plt.set_figheight(15)\n",
        "        plt.axis('off')\n",
        "        plt.title(labels[i])\n",
        "        plt.imshow(np.hstack(data[n]), cmap='gray')\n",
        "    print('='*50, f'\\nQuery #{n}\\n\\nX_text: \"{X_text[n]}\" = y_text: \"{y_text[n]}\"')\n",
        "    plt.show()\n",
        "\n",
        "for _ in range(10):\n",
        "    display_sample(np.random.randint(0, 10000, 1)[0])"
      ],
      "metadata": {
        "id": "x8Ouxlop7LvC",
        "outputId": "8f0952c3-e108-4030-920b-765ab47db25c",
        "colab": {
          "base_uri": "https://localhost:8080/",
          "height": 1000
        }
      },
      "execution_count": 57,
      "outputs": [
        {
          "output_type": "stream",
          "name": "stdout",
          "text": [
            "(10000,) (10000, 5, 28, 28) (10000,) (10000, 5, 28, 28)\n",
            "================================================== \n",
            "Query #9982\n",
            "\n",
            "X_text: \"99*82\" = y_text: \"8118 \"\n"
          ]
        },
        {
          "output_type": "display_data",
          "data": {
            "text/plain": [
              "<Figure size 640x480 with 2 Axes>"
            ],
            "image/png": "[encoded data removed]"
          },
          "metadata": {}
        },
        {
          "output_type": "stream",
          "name": "stdout",
          "text": [
            "================================================== \n",
            "Query #778\n",
            "\n",
            "X_text: \"7*78 \" = y_text: \"546  \"\n"
          ]
        },
        {
          "output_type": "display_data",
          "data": {
            "text/plain": [
              "<Figure size 640x480 with 2 Axes>"
            ],
            "image/png": "[encoded data removed]"
          },
          "metadata": {}
        },
        {
          "output_type": "stream",
          "name": "stdout",
          "text": [
            "================================================== \n",
            "Query #719\n",
            "\n",
            "X_text: \"7*19 \" = y_text: \"133  \"\n"
          ]
        },
        {
          "output_type": "display_data",
          "data": {
            "text/plain": [
              "<Figure size 640x480 with 2 Axes>"
            ],
            "image/png": "[encoded data removed]"
          },
          "metadata": {}
        },
        {
          "output_type": "stream",
          "name": "stdout",
          "text": [
            "================================================== \n",
            "Query #5845\n",
            "\n",
            "X_text: \"58*45\" = y_text: \"2610 \"\n"
          ]
        },
        {
          "output_type": "display_data",
          "data": {
            "text/plain": [
              "<Figure size 640x480 with 2 Axes>"
            ],
            "image/png": "[encoded data removed]"
          },
          "metadata": {}
        },
        {
          "output_type": "stream",
          "name": "stdout",
          "text": [
            "================================================== \n",
            "Query #80\n",
            "\n",
            "X_text: \"0*80 \" = y_text: \"0    \"\n"
          ]
        },
        {
          "output_type": "display_data",
          "data": {
            "text/plain": [
              "<Figure size 640x480 with 2 Axes>"
            ],
            "image/png": "[encoded data removed]"
          },
          "metadata": {}
        },
        {
          "output_type": "stream",
          "name": "stdout",
          "text": [
            "================================================== \n",
            "Query #3109\n",
            "\n",
            "X_text: \"31*9 \" = y_text: \"279  \"\n"
          ]
        },
        {
          "output_type": "display_data",
          "data": {
            "text/plain": [
              "<Figure size 640x480 with 2 Axes>"
            ],
            "image/png": "[encoded data removed]"
          },
          "metadata": {}
        },
        {
          "output_type": "stream",
          "name": "stdout",
          "text": [
            "================================================== \n",
            "Query #5741\n",
            "\n",
            "X_text: \"57*41\" = y_text: \"2337 \"\n"
          ]
        },
        {
          "output_type": "display_data",
          "data": {
            "text/plain": [
              "<Figure size 640x480 with 2 Axes>"
            ],
            "image/png": "[encoded data removed]"
          },
          "metadata": {}
        },
        {
          "output_type": "stream",
          "name": "stdout",
          "text": [
            "================================================== \n",
            "Query #3614\n",
            "\n",
            "X_text: \"36*14\" = y_text: \"504  \"\n"
          ]
        },
        {
          "output_type": "display_data",
          "data": {
            "text/plain": [
              "<Figure size 640x480 with 2 Axes>"
            ],
            "image/png": "[encoded data removed]"
          },
          "metadata": {}
        },
        {
          "output_type": "stream",
          "name": "stdout",
          "text": [
            "================================================== \n",
            "Query #7917\n",
            "\n",
            "X_text: \"79*17\" = y_text: \"1343 \"\n"
          ]
        },
        {
          "output_type": "display_data",
          "data": {
            "text/plain": [
              "<Figure size 640x480 with 2 Axes>"
            ],
            "image/png": "[encoded data removed]"
          },
          "metadata": {}
        },
        {
          "output_type": "stream",
          "name": "stdout",
          "text": [
            "================================================== \n",
            "Query #9096\n",
            "\n",
            "X_text: \"90*96\" = y_text: \"8640 \"\n"
          ]
        },
        {
          "output_type": "display_data",
          "data": {
            "text/plain": [
              "<Figure size 640x480 with 2 Axes>"
            ],
            "image/png": "[encoded data removed]"
          },
          "metadata": {}
        }
      ]
    },
    {
      "cell_type": "code",
      "source": [
        "X_text_train, X_text_test, X_img_train, X_img_test, y_text_train, y_text_test, y_img_train, y_img_test = train_test_split(\n",
        "    X_text, X_img, y_text, y_img, test_size=0.05, random_state=42\n",
        ")\n",
        "X_text_train_onehot = encode_labels(X_text_train)\n",
        "y_text_train_onehot = encode_labels(y_text_train)\n",
        "\n",
        "X_text_test_onehot = encode_labels(X_text_test)\n",
        "y_text_test_onehot = encode_labels(y_text_test)"
      ],
      "metadata": {
        "id": "Umb18PyaI9WJ"
      },
      "execution_count": 58,
      "outputs": []
    },
    {
      "cell_type": "code",
      "source": [
        "# First, text2text model"
      ],
      "metadata": {
        "id": "rvV7-FqkT1MQ"
      },
      "execution_count": null,
      "outputs": []
    },
    {
      "cell_type": "code",
      "source": [
        "# Train the Model\n",
        "model = build_text2text_model()\n",
        "model.fit(X_text_train_onehot, y_text_train_onehot, epochs=20, batch_size=32, validation_split=0.2, verbose=0)\n",
        "\n",
        "# Evaluate the Model\n",
        "test_loss, test_accuracy = model.evaluate(X_text_test_onehot, y_text_test_onehot, verbose=0)\n",
        "\n",
        "# Print or store the results\n",
        "print(f\"Test Accuracy: {test_accuracy}\")"
      ],
      "metadata": {
        "colab": {
          "base_uri": "https://localhost:8080/"
        },
        "id": "B9gPihk4TtjS",
        "outputId": "180ea800-e21b-4d60-eff1-db66c8d16fb2"
      },
      "execution_count": 55,
      "outputs": [
        {
          "output_type": "stream",
          "name": "stdout",
          "text": [
            "Model: \"sequential_31\"\n",
            "_________________________________________________________________\n",
            " Layer (type)                Output Shape              Param #   \n",
            "=================================================================\n",
            " lstm_59 (LSTM)              (None, 256)               275456    \n",
            "                                                                 \n",
            " repeat_vector_28 (RepeatVe  (None, 5, 256)            0         \n",
            " ctor)                                                           \n",
            "                                                                 \n",
            " lstm_60 (LSTM)              (None, 5, 256)            525312    \n",
            "                                                                 \n",
            " time_distributed_79 (TimeD  (None, 5, 12)             3084      \n",
            " istributed)                                                     \n",
            "                                                                 \n",
            "=================================================================\n",
            "Total params: 803852 (3.07 MB)\n",
            "Trainable params: 803852 (3.07 MB)\n",
            "Non-trainable params: 0 (0.00 Byte)\n",
            "_________________________________________________________________\n",
            "Test Accuracy: 0.8004000186920166\n"
          ]
        }
      ]
    },
    {
      "cell_type": "code",
      "source": [
        "# Print or store the results\n",
        "print(f\"Test Accuracy: {test_accuracy}\")\n",
        "\n",
        "# Make predictions on the test set\n",
        "predictions_onehot = model.predict(X_text_test_onehot)\n",
        "\n",
        "# Convert one-hot encoded predictions and actual values to text\n",
        "predictions_text = [decode_labels(pred) for pred in predictions_onehot]\n",
        "\n",
        "# Find indices where predictions differ from actual values\n",
        "incorrect_indices = np.where(predictions_text != y_text_test)[0]\n",
        "\n",
        "# Display the queries and solutions for incorrectly predicted samples\n",
        "for idx in incorrect_indices[0:15]:\n",
        "    print(\"Query:\")\n",
        "    print(X_text_test[idx])\n",
        "    print(\"Actual Solution:\")\n",
        "    print(y_text_test[idx])\n",
        "    print(\"Predicted Solution:\")\n",
        "    print(predictions_text[idx])\n",
        "    print(\"\\n\")"
      ],
      "metadata": {
        "colab": {
          "base_uri": "https://localhost:8080/"
        },
        "id": "njB_7en0Ttgy",
        "outputId": "bdcbe636-c4cd-4cfe-9593-11e205932a20"
      },
      "execution_count": 46,
      "outputs": [
        {
          "output_type": "stream",
          "name": "stdout",
          "text": [
            "Test Accuracy: 0.7904000282287598\n",
            "16/16 [==============================] - 1s 3ms/step\n",
            "Query:\n",
            "62*52\n",
            "Actual Solution:\n",
            "3224 \n",
            "Predicted Solution:\n",
            "3164 \n",
            "\n",
            "\n",
            "Query:\n",
            "46*84\n",
            "Actual Solution:\n",
            "3864 \n",
            "Predicted Solution:\n",
            "3604 \n",
            "\n",
            "\n",
            "Query:\n",
            "17*31\n",
            "Actual Solution:\n",
            "527  \n",
            "Predicted Solution:\n",
            "497  \n",
            "\n",
            "\n",
            "Query:\n",
            "47*42\n",
            "Actual Solution:\n",
            "1974 \n",
            "Predicted Solution:\n",
            "1994 \n",
            "\n",
            "\n",
            "Query:\n",
            "45*21\n",
            "Actual Solution:\n",
            "945  \n",
            "Predicted Solution:\n",
            "905  \n",
            "\n",
            "\n",
            "Query:\n",
            "5*76 \n",
            "Actual Solution:\n",
            "380  \n",
            "Predicted Solution:\n",
            "390  \n",
            "\n",
            "\n",
            "Query:\n",
            "63*63\n",
            "Actual Solution:\n",
            "3969 \n",
            "Predicted Solution:\n",
            "4509 \n",
            "\n",
            "\n",
            "Query:\n",
            "74*87\n",
            "Actual Solution:\n",
            "6438 \n",
            "Predicted Solution:\n",
            "6398 \n",
            "\n",
            "\n",
            "Query:\n",
            "52*72\n",
            "Actual Solution:\n",
            "3744 \n",
            "Predicted Solution:\n",
            "3644 \n",
            "\n",
            "\n",
            "Query:\n",
            "56*53\n",
            "Actual Solution:\n",
            "2968 \n",
            "Predicted Solution:\n",
            "3908 \n",
            "\n",
            "\n",
            "Query:\n",
            "39*99\n",
            "Actual Solution:\n",
            "3861 \n",
            "Predicted Solution:\n",
            "3881 \n",
            "\n",
            "\n",
            "Query:\n",
            "70*51\n",
            "Actual Solution:\n",
            "3570 \n",
            "Predicted Solution:\n",
            "3170 \n",
            "\n",
            "\n",
            "Query:\n",
            "81*58\n",
            "Actual Solution:\n",
            "4698 \n",
            "Predicted Solution:\n",
            "4508 \n",
            "\n",
            "\n",
            "Query:\n",
            "98*96\n",
            "Actual Solution:\n",
            "9408 \n",
            "Predicted Solution:\n",
            "9308 \n",
            "\n",
            "\n",
            "Query:\n",
            "22*49\n",
            "Actual Solution:\n",
            "1078 \n",
            "Predicted Solution:\n",
            "1108 \n",
            "\n",
            "\n"
          ]
        }
      ]
    },
    {
      "cell_type": "code",
      "source": [
        "import tensorflow as tf\n",
        "from tensorflow.keras.callbacks import EarlyStopping, ModelCheckpoint\n",
        "from tensorflow.keras.layers import LSTM, RepeatVector, TimeDistributed, Dense\n",
        "from tensorflow.keras.models import Sequential\n",
        "\n",
        "# Train the Model\n",
        "model = build_text2text_model()\n",
        "\n",
        "early_stopping = EarlyStopping(monitor='val_loss', patience=5)\n",
        "model_checkpoint = ModelCheckpoint('best_model.h5', save_best_only=True)\n",
        "model.fit(\n",
        "    X_text_train_onehot,\n",
        "    y_text_train_onehot,\n",
        "    epochs=20,\n",
        "    batch_size=32,\n",
        "    validation_split=0.05,  # Adjusted to use 95% of data for training and 5% for validation\n",
        "    callbacks=[early_stopping, model_checkpoint],\n",
        "    verbose=0\n",
        ")\n",
        "\n",
        "# Evaluate the Model\n",
        "test_loss, test_accuracy = model.evaluate(X_text_test_onehot, y_text_test_onehot, verbose=0)\n",
        "\n",
        "\n",
        "# Print or store the results\n",
        "print(f\"Test Accuracy: {test_accuracy}\")"
      ],
      "metadata": {
        "colab": {
          "base_uri": "https://localhost:8080/"
        },
        "id": "RyaWoPdFxOtg",
        "outputId": "3aff5d01-54cd-4850-da48-c5e3c3848ad7"
      },
      "execution_count": 51,
      "outputs": [
        {
          "output_type": "stream",
          "name": "stdout",
          "text": [
            "Model: \"sequential_29\"\n",
            "_________________________________________________________________\n",
            " Layer (type)                Output Shape              Param #   \n",
            "=================================================================\n",
            " lstm_55 (LSTM)              (None, 256)               275456    \n",
            "                                                                 \n",
            " repeat_vector_26 (RepeatVe  (None, 5, 256)            0         \n",
            " ctor)                                                           \n",
            "                                                                 \n",
            " lstm_56 (LSTM)              (None, 5, 256)            525312    \n",
            "                                                                 \n",
            " time_distributed_74 (TimeD  (None, 5, 12)             3084      \n",
            " istributed)                                                     \n",
            "                                                                 \n",
            "=================================================================\n",
            "Total params: 803852 (3.07 MB)\n",
            "Trainable params: 803852 (3.07 MB)\n",
            "Non-trainable params: 0 (0.00 Byte)\n",
            "_________________________________________________________________\n",
            "Test Accuracy: 0.8155999779701233\n"
          ]
        }
      ]
    },
    {
      "cell_type": "code",
      "source": [
        "# Second, image2text model"
      ],
      "metadata": {
        "id": "NedApOHvTuN-"
      },
      "execution_count": 61,
      "outputs": []
    },
    {
      "cell_type": "code",
      "source": [
        "# Build and train the image-to-text model\n",
        "image2text_model = build_image2text_model()\n",
        "image2text_model.fit(X_img_train, y_text_train_onehot, epochs=20, batch_size=32, validation_split=0.2)\n",
        "\n",
        "# Evaluate the model\n",
        "test_loss_img, test_accuracy_img = image2text_model.evaluate(X_img_test, y_text_test_onehot)"
      ],
      "metadata": {
        "colab": {
          "base_uri": "https://localhost:8080/",
          "height": 249
        },
        "id": "qh7HunzYUQUE",
        "outputId": "3d23b5c8-26e3-4cb6-8869-188175c4070a"
      },
      "execution_count": 62,
      "outputs": [
        {
          "output_type": "error",
          "ename": "TypeError",
          "evalue": "ignored",
          "traceback": [
            "\u001b[0;31m---------------------------------------------------------------------------\u001b[0m",
            "\u001b[0;31mTypeError\u001b[0m                                 Traceback (most recent call last)",
            "\u001b[0;32m<ipython-input-62-fb4ee976a4ae>\u001b[0m in \u001b[0;36m<cell line: 2>\u001b[0;34m()\u001b[0m\n\u001b[1;32m      1\u001b[0m \u001b[0;31m# Build and train the image-to-text model\u001b[0m\u001b[0;34m\u001b[0m\u001b[0;34m\u001b[0m\u001b[0m\n\u001b[0;32m----> 2\u001b[0;31m \u001b[0mimage2text_model\u001b[0m \u001b[0;34m=\u001b[0m \u001b[0mbuild_image2text_model\u001b[0m\u001b[0;34m(\u001b[0m\u001b[0;34m)\u001b[0m\u001b[0;34m\u001b[0m\u001b[0;34m\u001b[0m\u001b[0m\n\u001b[0m\u001b[1;32m      3\u001b[0m \u001b[0mimage2text_model\u001b[0m\u001b[0;34m.\u001b[0m\u001b[0mfit\u001b[0m\u001b[0;34m(\u001b[0m\u001b[0mX_img_train\u001b[0m\u001b[0;34m,\u001b[0m \u001b[0my_text_train_onehot\u001b[0m\u001b[0;34m,\u001b[0m \u001b[0mepochs\u001b[0m\u001b[0;34m=\u001b[0m\u001b[0;36m20\u001b[0m\u001b[0;34m,\u001b[0m \u001b[0mbatch_size\u001b[0m\u001b[0;34m=\u001b[0m\u001b[0;36m32\u001b[0m\u001b[0;34m,\u001b[0m \u001b[0mvalidation_split\u001b[0m\u001b[0;34m=\u001b[0m\u001b[0;36m0.2\u001b[0m\u001b[0;34m)\u001b[0m\u001b[0;34m\u001b[0m\u001b[0;34m\u001b[0m\u001b[0m\n\u001b[1;32m      4\u001b[0m \u001b[0;34m\u001b[0m\u001b[0m\n\u001b[1;32m      5\u001b[0m \u001b[0;31m# Evaluate the model\u001b[0m\u001b[0;34m\u001b[0m\u001b[0;34m\u001b[0m\u001b[0m\n",
            "\u001b[0;31mTypeError\u001b[0m: build_image2text_model() missing 3 required positional arguments: 'lstm_units', 'dropout_rate', and 'conv_filters'"
          ]
        }
      ]
    },
    {
      "cell_type": "code",
      "source": [
        "generated_texts = image2text_model.predict(X_img_test)\n",
        "\n",
        "decoded_texts = []\n",
        "\n",
        "# Loop over the generated texts and decode each element\n",
        "for text in generated_texts:\n",
        "    decoded_text = decode_labels(text)\n",
        "    decoded_texts.append(decoded_text)\n",
        "\n",
        "# Print the first 15 decoded texts and the correct answers\n",
        "print(f\"Generated Texts: {decoded_texts[0:15]}\")\n",
        "print(f\"Correct Answers: {y_text_test[0:15]}\")\n",
        "for i in range(5):\n",
        "  print(f\"Query {i}\")\n",
        "  plt.imshow(np.hstack(X_img_test[i]), cmap='gray')\n",
        "  plt.show()"
      ],
      "metadata": {
        "colab": {
          "base_uri": "https://localhost:8080/",
          "height": 926
        },
        "id": "rBG_l26adl-h",
        "outputId": "8730f151-a2ab-4bfb-a778-e2f510f1497a"
      },
      "execution_count": null,
      "outputs": [
        {
          "output_type": "stream",
          "name": "stdout",
          "text": [
            "16/16 [==============================] - 1s 8ms/step\n",
            "Generated Texts: ['2084 ', '4124 ', '707  ', '1004 ', '1075 ', '2120 ', '484  ', '184  ', '3073 ', '104  ', '1000 ', '4704 ', '3004 ', '2074 ', '3073 ']\n",
            "Correct Answers: ['3224 ' '3864 ' '527  ' '1974 ' '945  ' '2520 ' '380  ' '104  ' '3969 '\n",
            " '156  ' '1350 ' '6438 ' '3744 ' '2968 ' '3861 ']\n",
            "Query 0\n"
          ]
        },
        {
          "output_type": "display_data",
          "data": {
            "text/plain": [
              "<Figure size 640x480 with 1 Axes>"
            ],
            "image/png": "[encoded data removed]"
          },
          "metadata": {}
        },
        {
          "output_type": "stream",
          "name": "stdout",
          "text": [
            "Query 1\n"
          ]
        },
        {
          "output_type": "display_data",
          "data": {
            "text/plain": [
              "<Figure size 640x480 with 1 Axes>"
            ],
            "image/png": "[encoded data removed]"
          },
          "metadata": {}
        },
        {
          "output_type": "stream",
          "name": "stdout",
          "text": [
            "Query 2\n"
          ]
        },
        {
          "output_type": "display_data",
          "data": {
            "text/plain": [
              "<Figure size 640x480 with 1 Axes>"
            ],
            "image/png": "[encoded data removed]"
          },
          "metadata": {}
        },
        {
          "output_type": "stream",
          "name": "stdout",
          "text": [
            "Query 3\n"
          ]
        },
        {
          "output_type": "display_data",
          "data": {
            "text/plain": [
              "<Figure size 640x480 with 1 Axes>"
            ],
            "image/png": "[encoded data removed]"
          },
          "metadata": {}
        },
        {
          "output_type": "stream",
          "name": "stdout",
          "text": [
            "Query 4\n"
          ]
        },
        {
          "output_type": "display_data",
          "data": {
            "text/plain": [
              "<Figure size 640x480 with 1 Axes>"
            ],
            "image/png": "[encoded data removed]"
          },
          "metadata": {}
        }
      ]
    },
    {
      "cell_type": "code",
      "source": [
        "def build_image2text_model(lstm_units, dropout_rate, conv_filters):\n",
        "    image2text = Sequential()\n",
        "\n",
        "    # Encoder (for image sequences)\n",
        "    image2text.add(TimeDistributed(Conv2D(conv_filters, (7, 7), activation='relu'), input_shape=(None, 28, 28, 1)))\n",
        "    image2text.add(TimeDistributed(Flatten()))\n",
        "    image2text.add(LSTM(lstm_units))\n",
        "    image2text.add(Dropout(dropout_rate))\n",
        "\n",
        "    # Repeat the output for max_answer_length times\n",
        "    image2text.add(RepeatVector(max_answer_length))\n",
        "\n",
        "    # Decoder (for generating text)\n",
        "    image2text.add(LSTM(lstm_units, return_sequences=True))\n",
        "    image2text.add(Dropout(dropout_rate))\n",
        "    image2text.add(TimeDistributed(Dense(128, activation='relu')))\n",
        "    image2text.add(TimeDistributed(Dense(len(unique_characters), activation='softmax')))\n",
        "\n",
        "    # Compile the model\n",
        "    image2text.compile(loss='categorical_crossentropy', optimizer='adam', metrics=['accuracy'])\n",
        "\n",
        "    return image2text\n",
        "\n",
        "param_grid = {\n",
        "    'lstm_units': [1024],\n",
        "    'dropout_rate': [0.5],\n",
        "    'conv_filters': [16]\n",
        "}\n",
        "\n",
        "results = []\n",
        "\n",
        "for params in product(*param_grid.values()):\n",
        "    lstm_units, dropout_rate, conv_filters = params\n",
        "    print(f\"Training model with LSTM units: {lstm_units}, Dropout rate: {dropout_rate}, Convolutional filters: {conv_filters}\")\n",
        "\n",
        "    # Assume encode_labels, X_img_train, y_text_train are defined\n",
        "    y_text_train_onehot = encode_labels(y_text_train)\n",
        "    y_text_test_onehot = encode_labels(y_text_test)\n",
        "\n",
        "    # Build and train the image-to-text model\n",
        "    image2text_model = build_image2text_model(lstm_units, dropout_rate, conv_filters)\n",
        "    image2text_model.fit(X_img_train, y_text_train_onehot, epochs=20, batch_size=32, validation_split=0.05)\n",
        "\n",
        "    # Evaluate the model\n",
        "    test_loss_img, test_accuracy_img = image2text_model.evaluate(X_img_test, y_text_test_onehot)\n",
        "    print(f'Image-to-Text Model Test Accuracy: {test_accuracy_img}%')\n",
        "\n",
        "    results.append((lstm_units, dropout_rate, conv_filters, f\"{test_accuracy_img:.2f}%\"))\n",
        "\n",
        "# Create and display a DataFrame from the results\n",
        "results_df = pd.DataFrame(results, columns=['LSTM Units', 'Dropout Rate', 'Conv Filters', 'Test Accuracy'])\n",
        "print(\"Results Overview:\")\n",
        "print(results_df.to_string(index=False))"
      ],
      "metadata": {
        "colab": {
          "base_uri": "https://localhost:8080/"
        },
        "id": "C6GhrfxG5kiS",
        "outputId": "66a52f5c-d960-41b4-eb73-2b9ed5a81104"
      },
      "execution_count": 60,
      "outputs": [
        {
          "output_type": "stream",
          "name": "stdout",
          "text": [
            "Training model with LSTM units: 1024, Dropout rate: 0.5, Convolutional filters: 16\n",
            "Epoch 1/20\n",
            "283/283 [==============================] - 15s 41ms/step - loss: 1.7106 - accuracy: 0.3836 - val_loss: 1.5596 - val_accuracy: 0.4211\n",
            "Epoch 2/20\n",
            "283/283 [==============================] - 10s 37ms/step - loss: 1.4917 - accuracy: 0.4432 - val_loss: 1.3889 - val_accuracy: 0.4661\n",
            "Epoch 3/20\n",
            "283/283 [==============================] - 10s 37ms/step - loss: 1.3265 - accuracy: 0.4873 - val_loss: 1.2824 - val_accuracy: 0.4901\n",
            "Epoch 4/20\n",
            "283/283 [==============================] - 11s 37ms/step - loss: 1.2313 - accuracy: 0.5108 - val_loss: 1.2495 - val_accuracy: 0.5048\n",
            "Epoch 5/20\n",
            "283/283 [==============================] - 10s 36ms/step - loss: 1.1662 - accuracy: 0.5317 - val_loss: 1.2174 - val_accuracy: 0.5171\n",
            "Epoch 6/20\n",
            "283/283 [==============================] - 10s 36ms/step - loss: 1.1090 - accuracy: 0.5474 - val_loss: 1.2148 - val_accuracy: 0.5280\n",
            "Epoch 7/20\n",
            "283/283 [==============================] - 10s 36ms/step - loss: 1.0668 - accuracy: 0.5619 - val_loss: 1.2093 - val_accuracy: 0.5297\n",
            "Epoch 8/20\n",
            "283/283 [==============================] - 10s 36ms/step - loss: 1.0354 - accuracy: 0.5742 - val_loss: 1.2349 - val_accuracy: 0.5326\n",
            "Epoch 9/20\n",
            "283/283 [==============================] - 10s 37ms/step - loss: 1.0087 - accuracy: 0.5880 - val_loss: 1.2536 - val_accuracy: 0.5251\n",
            "Epoch 10/20\n",
            "283/283 [==============================] - 10s 37ms/step - loss: 0.9836 - accuracy: 0.5990 - val_loss: 1.2480 - val_accuracy: 0.5377\n",
            "Epoch 11/20\n",
            "283/283 [==============================] - 10s 36ms/step - loss: 0.9599 - accuracy: 0.6072 - val_loss: 1.2303 - val_accuracy: 0.5343\n",
            "Epoch 12/20\n",
            "283/283 [==============================] - 10s 37ms/step - loss: 0.9444 - accuracy: 0.6172 - val_loss: 1.2645 - val_accuracy: 0.5406\n",
            "Epoch 13/20\n",
            "283/283 [==============================] - 10s 36ms/step - loss: 0.9155 - accuracy: 0.6286 - val_loss: 1.2621 - val_accuracy: 0.5415\n",
            "Epoch 14/20\n",
            "283/283 [==============================] - 10s 37ms/step - loss: 0.8949 - accuracy: 0.6380 - val_loss: 1.2941 - val_accuracy: 0.5465\n",
            "Epoch 15/20\n",
            "283/283 [==============================] - 10s 36ms/step - loss: 0.8629 - accuracy: 0.6513 - val_loss: 1.3033 - val_accuracy: 0.5478\n",
            "Epoch 16/20\n",
            "283/283 [==============================] - 10s 37ms/step - loss: 0.8354 - accuracy: 0.6653 - val_loss: 1.3712 - val_accuracy: 0.5360\n",
            "Epoch 17/20\n",
            "283/283 [==============================] - 10s 36ms/step - loss: 0.8050 - accuracy: 0.6784 - val_loss: 1.4315 - val_accuracy: 0.5356\n",
            "Epoch 18/20\n",
            "283/283 [==============================] - 10s 36ms/step - loss: 0.7664 - accuracy: 0.6926 - val_loss: 1.3759 - val_accuracy: 0.5440\n",
            "Epoch 19/20\n",
            "283/283 [==============================] - 10s 36ms/step - loss: 0.7180 - accuracy: 0.7135 - val_loss: 1.4716 - val_accuracy: 0.5360\n",
            "Epoch 20/20\n",
            "283/283 [==============================] - 10s 37ms/step - loss: 0.6653 - accuracy: 0.7331 - val_loss: 1.4989 - val_accuracy: 0.5347\n",
            "16/16 [==============================] - 0s 13ms/step - loss: 1.3971 - accuracy: 0.5712\n",
            "Image-to-Text Model Test Accuracy: 0.5712000131607056%\n",
            "Results Overview:\n",
            " LSTM Units  Dropout Rate  Conv Filters Test Accuracy\n",
            "       1024           0.5            16         0.57%\n"
          ]
        }
      ]
    }
  ]
}