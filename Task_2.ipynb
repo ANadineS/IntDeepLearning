{
 "cells": [
  {
   "cell_type": "markdown",
   "metadata": {},
   "source": [
    "# Task 2"
   ]
  },
  {
   "cell_type": "markdown",
   "metadata": {},
   "source": [
    "## Import libraries, data, and set variables"
   ]
  },
  {
   "cell_type": "code",
   "execution_count": 1,
   "metadata": {},
   "outputs": [],
   "source": [
    "import pandas as pd\n",
    "import numpy as np"
   ]
  },
  {
   "cell_type": "code",
   "execution_count": 31,
   "metadata": {},
   "outputs": [],
   "source": [
    "# Import data\n",
    "train_in = pd.read_csv(\"train_in.csv\", header=None)\n",
    "train_out = pd.read_csv(\"train_out.csv\", header=None)\n",
    "test_in = pd.read_csv(\"test_in.csv\", header=None)\n",
    "test_out = pd.read_csv(\"test_out.csv\", header=None)\n",
    "\n",
    "# Append bias column to both training and test input\n",
    "train_in = train_in.assign(bias=1)\n",
    "test_in = test_in.assign(bias=1)\n",
    "\n",
    "# Variables\n",
    "nodes = 10\n",
    "#eta = 0.01\n",
    "features = train_in.shape[1]\n",
    "\n",
    "# Initialize random weights between 0 and 1\n",
    "weights = pd.DataFrame(np.random.rand(features,nodes))"
   ]
  },
  {
   "cell_type": "markdown",
   "metadata": {},
   "source": [
    "## Train perceptron"
   ]
  },
  {
   "cell_type": "code",
   "execution_count": 29,
   "metadata": {},
   "outputs": [],
   "source": [
    "# Training function\n",
    "def train_perceptron(weights, train_in, train_out, eta):\n",
    "    train_in = pd.DataFrame(train_in)\n",
    "    train_out = pd.DataFrame(train_out)\n",
    "\n",
    "    output = np.dot(train_in, weights)\n",
    "    pred_class = pd.DataFrame(np.argmax(output, axis=1))\n",
    "    it = 0\n",
    "\n",
    "    while any(pred != real for pred, real in zip(pred_class.values.flatten(), train_out.values.flatten())):\n",
    "        indices = np.where(pred_class != train_out)[0]\n",
    "        for i in indices:\n",
    "            delta = np.zeros(nodes)\n",
    "            delta[train_out.iloc[i]] = 1\n",
    "            delta[pred_class.iloc[i]] = -1\n",
    "            weights += eta*np.outer(train_in.T[i], delta)\n",
    "        \n",
    "        output = np.dot(train_in, weights)\n",
    "        pred_class = pd.DataFrame(np.argmax(output, axis=1))\n",
    "        it += 1\n",
    "\n",
    "    accuracy = len(np.where(pred_class == train_out)[0])/len(train_out)\n",
    "    return weights, it, accuracy\n"
   ]
  },
  {
   "cell_type": "code",
   "execution_count": 32,
   "metadata": {},
   "outputs": [
    {
     "name": "stdout",
     "output_type": "stream",
     "text": [
      "Training converged in  306 iterations, with an accuracy of  1.0\n"
     ]
    }
   ],
   "source": [
    "weights_results, iterations, train_acc = train_perceptron(weights, train_in, train_out, eta = 0.01)\n",
    "print(\"Training converged in \", iterations, \"iterations, with an accuracy of \", train_acc)"
   ]
  },
  {
   "cell_type": "code",
   "execution_count": 27,
   "metadata": {},
   "outputs": [
    {
     "name": "stdout",
     "output_type": "stream",
     "text": [
      "            0         1         2         3         4         5         6  \\\n",
      "0    0.136637  4.688166 -1.522817 -0.468926  0.223450 -1.306267  1.058380   \n",
      "1   -0.681606  4.646668 -1.330851  0.239961  0.341068 -0.307722  0.304974   \n",
      "2    0.094966  4.211677 -1.091053 -0.454109  0.067585 -0.801582  0.826509   \n",
      "3   -0.009364  3.035524 -0.486054  0.522139 -0.158203 -0.346574 -0.227738   \n",
      "4   -1.142059  1.399766  0.926025  0.579219  0.542122  0.238154 -1.330586   \n",
      "..        ...       ...       ...       ...       ...       ...       ...   \n",
      "252 -2.079831  3.911187  0.339976  1.424486  0.712926  0.057311  2.069219   \n",
      "253 -1.390871  4.136563  0.553051  0.710734  0.902890 -0.129842  1.080026   \n",
      "254 -0.655989  4.444162 -0.481294  0.310392  0.760279 -0.800128  0.437284   \n",
      "255 -0.709088  5.307394 -1.134838 -0.221382  0.380437 -0.615005  0.589330   \n",
      "256  1.257224 -3.568159  2.683944  0.708779  0.630223  1.331272  0.102855   \n",
      "\n",
      "            7         8         9  \n",
      "0    1.452745  0.274899  0.514240  \n",
      "1    1.919378 -0.156977 -0.128401  \n",
      "2    2.414762  0.430460 -0.193113  \n",
      "3    3.921874  1.174244 -1.415258  \n",
      "4    4.187918  0.774720 -2.613016  \n",
      "..        ...       ...       ...  \n",
      "252 -1.431707 -1.075847 -0.336016  \n",
      "253  0.406864 -0.951138  0.918419  \n",
      "254  1.150462 -0.012702  0.664272  \n",
      "255  1.400075 -0.627202  0.418784  \n",
      "256 -0.674865  1.508276  0.525482  \n",
      "\n",
      "[257 rows x 10 columns]\n"
     ]
    }
   ],
   "source": [
    "print(weights_results)"
   ]
  },
  {
   "cell_type": "markdown",
   "metadata": {},
   "source": [
    "## Test on training & test data"
   ]
  },
  {
   "cell_type": "code",
   "execution_count": 19,
   "metadata": {},
   "outputs": [
    {
     "name": "stdout",
     "output_type": "stream",
     "text": [
      "(      0\n",
      "0     6\n",
      "1     5\n",
      "2     4\n",
      "3     7\n",
      "4     3\n",
      "...  ..\n",
      "1702  8\n",
      "1703  9\n",
      "1704  7\n",
      "1705  9\n",
      "1706  8\n",
      "\n",
      "[1707 rows x 1 columns], 1.0)\n",
      "(     0\n",
      "0    0\n",
      "1    0\n",
      "2    0\n",
      "3    0\n",
      "4    0\n",
      "..  ..\n",
      "995  9\n",
      "996  5\n",
      "997  8\n",
      "998  7\n",
      "999  0\n",
      "\n",
      "[1000 rows x 1 columns], 0.871)\n"
     ]
    }
   ],
   "source": [
    "# Test on train and test data, determine accuracy\n",
    "def predict(input, output, weights):\n",
    "    predictions = pd.DataFrame(np.argmax(np.dot(input, weights), axis=1))\n",
    "    accuracy = len(np.where(predictions == output)[0])/len(output)\n",
    "    return predictions, accuracy\n",
    "\n",
    "train_preds, train_acc = predict(train_in, train_out, weights)\n",
    "test_preds, test_acc = predict(test_in, test_out, weights)\n",
    "\n",
    "print(\"The accuracy on the training set is\" )\n"
   ]
  }
 ],
 "metadata": {
  "kernelspec": {
   "display_name": "Python 3",
   "language": "python",
   "name": "python3"
  },
  "language_info": {
   "codemirror_mode": {
    "name": "ipython",
    "version": 3
   },
   "file_extension": ".py",
   "mimetype": "text/x-python",
   "name": "python",
   "nbconvert_exporter": "python",
   "pygments_lexer": "ipython3",
   "version": "3.10.2"
  },
  "orig_nbformat": 4
 },
 "nbformat": 4,
 "nbformat_minor": 2
}
