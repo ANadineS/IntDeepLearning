{
 "cells": [
  {
   "cell_type": "markdown",
   "metadata": {},
   "source": [
    "# Task 2"
   ]
  },
  {
   "cell_type": "markdown",
   "metadata": {},
   "source": [
    "## Import libraries, data, and set variables"
   ]
  },
  {
   "cell_type": "code",
   "execution_count": 2,
   "metadata": {},
   "outputs": [],
   "source": [
    "import pandas as pd\n",
    "import numpy as np\n",
    "import random\n",
    "\n",
    "random.seed(2809)"
   ]
  },
  {
   "cell_type": "code",
   "execution_count": 3,
   "metadata": {},
   "outputs": [],
   "source": [
    "# Import data\n",
    "train_in = pd.read_csv(\"train_in.csv\", header=None)\n",
    "train_out = pd.read_csv(\"train_out.csv\", header=None)\n",
    "test_in = pd.read_csv(\"test_in.csv\", header=None)\n",
    "test_out = pd.read_csv(\"test_out.csv\", header=None)\n",
    "\n",
    "# Append bias column to both training and test input\n",
    "train_in = train_in.assign(bias=1)\n",
    "test_in = test_in.assign(bias=1)\n",
    "\n",
    "# Variables\n",
    "nodes = 10\n",
    "features = train_in.shape[1]"
   ]
  },
  {
   "cell_type": "markdown",
   "metadata": {},
   "source": [
    "## Function for training perceptrons and testing results"
   ]
  },
  {
   "cell_type": "code",
   "execution_count": 4,
   "metadata": {},
   "outputs": [],
   "source": [
    "# Training function\n",
    "def train_perceptron(weights, train_in, train_out, eta):\n",
    "    train_in = pd.DataFrame(train_in)\n",
    "    train_out = pd.DataFrame(train_out)\n",
    "\n",
    "    # Generate output with random weights, and determine classes\n",
    "    output = np.dot(train_in, weights)\n",
    "    pred_class = pd.DataFrame(np.argmax(output, axis=1))\n",
    "    it = 0\n",
    "\n",
    "    # For each misclassified example, update weights, as long as there are misclassified examples\n",
    "    while any(pred != real for pred, real in zip(pred_class.values.flatten(), train_out.values.flatten())):\n",
    "        indices = np.where(pred_class != train_out)[0]\n",
    "        for i in indices:\n",
    "            delta = np.zeros(nodes)\n",
    "            delta[train_out.iloc[i]] = 1 # Increase weight for true value\n",
    "            delta[pred_class.iloc[i]] = -1  # Decrease weight for the current, incorrect, result\n",
    "            weights += eta*np.outer(train_in.T[i], delta)\n",
    "        \n",
    "        # Determine new output and predicted classes based on new weights. If any examples are still misclassified, \n",
    "        # update weights again\n",
    "        output = np.dot(train_in, weights)\n",
    "        pred_class = pd.DataFrame(np.argmax(output, axis=1))\n",
    "        it += 1\n",
    "\n",
    "    # Determine accuracy: proportion of correctly classified examples\n",
    "    accuracy = len(np.where(pred_class == train_out)[0])/len(train_out)\n",
    "    return weights, it, accuracy\n"
   ]
  },
  {
   "cell_type": "code",
   "execution_count": 5,
   "metadata": {},
   "outputs": [],
   "source": [
    "# Function to test perceptron on test data\n",
    "def predict(input, output, weights):\n",
    "    predictions = pd.DataFrame(np.argmax(np.dot(input, weights), axis=1))\n",
    "    accuracy = len(np.where(predictions == output)[0])/len(output)\n",
    "    return predictions, accuracy"
   ]
  },
  {
   "cell_type": "markdown",
   "metadata": {},
   "source": [
    "## Results"
   ]
  },
  {
   "cell_type": "code",
   "execution_count": 6,
   "metadata": {},
   "outputs": [],
   "source": [
    "# Function to get all results: algorithm and its accuracy\n",
    "def results(train_in, train_out, test_in, test_out):\n",
    "    # Randomly initialize weights\n",
    "    weights_init = pd.DataFrame(np.random.rand(features,nodes))\n",
    "\n",
    "    # Train perceptron, and determine test and training accuracy\n",
    "    weights_results, iterations, train_acc = train_perceptron(weights_init, train_in, train_out, eta = 0.1)\n",
    "    test_preds, test_acc = predict(test_in, test_out, weights_results)\n",
    "\n",
    "    print(\"Training converged in \", iterations, \"iterations, with an accuracy of \", train_acc)\n",
    "    print(\"The accuracy on the training set is\", test_acc)"
   ]
  },
  {
   "cell_type": "code",
   "execution_count": 7,
   "metadata": {},
   "outputs": [
    {
     "name": "stdout",
     "output_type": "stream",
     "text": [
      "Run 1\n",
      "Training converged in  273 iterations, with an accuracy of  1.0\n",
      "The accuracy on the training set is 0.872\n",
      "Run 2\n",
      "Training converged in  293 iterations, with an accuracy of  1.0\n",
      "The accuracy on the training set is 0.871\n",
      "Run 3\n",
      "Training converged in  324 iterations, with an accuracy of  1.0\n",
      "The accuracy on the training set is 0.871\n",
      "Run 4\n",
      "Training converged in  271 iterations, with an accuracy of  1.0\n",
      "The accuracy on the training set is 0.867\n",
      "Run 5\n",
      "Training converged in  250 iterations, with an accuracy of  1.0\n",
      "The accuracy on the training set is 0.867\n",
      "Run 6\n",
      "Training converged in  251 iterations, with an accuracy of  1.0\n",
      "The accuracy on the training set is 0.87\n",
      "Run 7\n",
      "Training converged in  323 iterations, with an accuracy of  1.0\n",
      "The accuracy on the training set is 0.87\n",
      "Run 8\n",
      "Training converged in  321 iterations, with an accuracy of  1.0\n",
      "The accuracy on the training set is 0.87\n",
      "Run 9\n",
      "Training converged in  314 iterations, with an accuracy of  1.0\n",
      "The accuracy on the training set is 0.871\n",
      "Run 10\n",
      "Training converged in  320 iterations, with an accuracy of  1.0\n",
      "The accuracy on the training set is 0.869\n"
     ]
    }
   ],
   "source": [
    "# Run multiple times to get a feel of the accuracy\n",
    "for i in range(10):\n",
    "    print(\"Run\", i+1)\n",
    "    results(train_in, train_out, test_in, test_out)"
   ]
  }
 ],
 "metadata": {
  "kernelspec": {
   "display_name": "Python 3",
   "language": "python",
   "name": "python3"
  },
  "language_info": {
   "codemirror_mode": {
    "name": "ipython",
    "version": 3
   },
   "file_extension": ".py",
   "mimetype": "text/x-python",
   "name": "python",
   "nbconvert_exporter": "python",
   "pygments_lexer": "ipython3",
   "version": "3.10.2"
  },
  "orig_nbformat": 4
 },
 "nbformat": 4,
 "nbformat_minor": 2
}
